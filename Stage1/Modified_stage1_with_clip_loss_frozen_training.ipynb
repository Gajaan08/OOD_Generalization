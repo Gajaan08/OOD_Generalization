{
  "nbformat": 4,
  "nbformat_minor": 0,
  "metadata": {
    "colab": {
      "provenance": []
    },
    "kernelspec": {
      "name": "python3",
      "display_name": "Python 3"
    },
    "language_info": {
      "name": "python"
    }
  },
  "cells": [
    {
      "cell_type": "markdown",
      "source": [
        "# Complete model function"
      ],
      "metadata": {
        "id": "p9Le5fhXY2V2"
      }
    },
    {
      "cell_type": "code",
      "source": [
        "!pip install transformers\n",
        "!pip install torch"
      ],
      "metadata": {
        "id": "bE1q_LGTY6_P",
        "colab": {
          "base_uri": "https://localhost:8080/"
        },
        "outputId": "6dd58631-7c1d-4653-f47f-c13141da07f1"
      },
      "execution_count": null,
      "outputs": [
        {
          "output_type": "stream",
          "name": "stdout",
          "text": [
            "Requirement already satisfied: transformers in /usr/local/lib/python3.10/dist-packages (4.35.2)\n",
            "Requirement already satisfied: filelock in /usr/local/lib/python3.10/dist-packages (from transformers) (3.13.1)\n",
            "Requirement already satisfied: huggingface-hub<1.0,>=0.16.4 in /usr/local/lib/python3.10/dist-packages (from transformers) (0.19.4)\n",
            "Requirement already satisfied: numpy>=1.17 in /usr/local/lib/python3.10/dist-packages (from transformers) (1.23.5)\n",
            "Requirement already satisfied: packaging>=20.0 in /usr/local/lib/python3.10/dist-packages (from transformers) (23.2)\n",
            "Requirement already satisfied: pyyaml>=5.1 in /usr/local/lib/python3.10/dist-packages (from transformers) (6.0.1)\n",
            "Requirement already satisfied: regex!=2019.12.17 in /usr/local/lib/python3.10/dist-packages (from transformers) (2023.6.3)\n",
            "Requirement already satisfied: requests in /usr/local/lib/python3.10/dist-packages (from transformers) (2.31.0)\n",
            "Requirement already satisfied: tokenizers<0.19,>=0.14 in /usr/local/lib/python3.10/dist-packages (from transformers) (0.15.0)\n",
            "Requirement already satisfied: safetensors>=0.3.1 in /usr/local/lib/python3.10/dist-packages (from transformers) (0.4.1)\n",
            "Requirement already satisfied: tqdm>=4.27 in /usr/local/lib/python3.10/dist-packages (from transformers) (4.66.1)\n",
            "Requirement already satisfied: fsspec>=2023.5.0 in /usr/local/lib/python3.10/dist-packages (from huggingface-hub<1.0,>=0.16.4->transformers) (2023.6.0)\n",
            "Requirement already satisfied: typing-extensions>=3.7.4.3 in /usr/local/lib/python3.10/dist-packages (from huggingface-hub<1.0,>=0.16.4->transformers) (4.5.0)\n",
            "Requirement already satisfied: charset-normalizer<4,>=2 in /usr/local/lib/python3.10/dist-packages (from requests->transformers) (3.3.2)\n",
            "Requirement already satisfied: idna<4,>=2.5 in /usr/local/lib/python3.10/dist-packages (from requests->transformers) (3.6)\n",
            "Requirement already satisfied: urllib3<3,>=1.21.1 in /usr/local/lib/python3.10/dist-packages (from requests->transformers) (2.0.7)\n",
            "Requirement already satisfied: certifi>=2017.4.17 in /usr/local/lib/python3.10/dist-packages (from requests->transformers) (2023.11.17)\n",
            "Requirement already satisfied: torch in /usr/local/lib/python3.10/dist-packages (2.1.0+cu118)\n",
            "Requirement already satisfied: filelock in /usr/local/lib/python3.10/dist-packages (from torch) (3.13.1)\n",
            "Requirement already satisfied: typing-extensions in /usr/local/lib/python3.10/dist-packages (from torch) (4.5.0)\n",
            "Requirement already satisfied: sympy in /usr/local/lib/python3.10/dist-packages (from torch) (1.12)\n",
            "Requirement already satisfied: networkx in /usr/local/lib/python3.10/dist-packages (from torch) (3.2.1)\n",
            "Requirement already satisfied: jinja2 in /usr/local/lib/python3.10/dist-packages (from torch) (3.1.2)\n",
            "Requirement already satisfied: fsspec in /usr/local/lib/python3.10/dist-packages (from torch) (2023.6.0)\n",
            "Requirement already satisfied: triton==2.1.0 in /usr/local/lib/python3.10/dist-packages (from torch) (2.1.0)\n",
            "Requirement already satisfied: MarkupSafe>=2.0 in /usr/local/lib/python3.10/dist-packages (from jinja2->torch) (2.1.3)\n",
            "Requirement already satisfied: mpmath>=0.19 in /usr/local/lib/python3.10/dist-packages (from sympy->torch) (1.3.0)\n"
          ]
        }
      ]
    },
    {
      "cell_type": "code",
      "source": [
        "import torch\n",
        "import torch.nn as nn\n",
        "from transformers import DistilBertModel, DistilBertTokenizer\n",
        "from torchvision import transforms, models\n",
        "from PIL import Image\n",
        "import torch.nn.functional as F\n",
        "from torch.autograd import Variable\n",
        "from torchsummary import summary"
      ],
      "metadata": {
        "id": "mXZLAjF6ZB4E"
      },
      "execution_count": null,
      "outputs": []
    },
    {
      "cell_type": "code",
      "source": [
        "class ImageEncoder(nn.Module):\n",
        "    def __init__(self, model_name):\n",
        "        super(ImageEncoder, self).__init__()\n",
        "        self.model = nn.Sequential(*list(models.resnet50(pretrained=True).children())[:-2])\n",
        "\n",
        "    def forward(self, image_batch):\n",
        "        # Reshape the input to (batch_size, 3, 224, 224)\n",
        "        image_batch = image_batch.view(-1, 3, 224, 224)\n",
        "        # Encode the images using ResNet50\n",
        "        image_features = self.model(image_batch)\n",
        "        # Reshape to (batch_size, 2048, 49)\n",
        "        image_features = image_features.view(image_features.size(0), 2048, -1)\n",
        "        return image_features\n",
        "\n",
        "class TextEncoder(nn.Module):\n",
        "    def __init__(self, model_name, max_sequence_length):\n",
        "        super(TextEncoder, self).__init__()\n",
        "        self.tokenizer = DistilBertTokenizer.from_pretrained(model_name)\n",
        "        self.text_encoder = DistilBertModel.from_pretrained(model_name)\n",
        "        self.max_sequence_length = max_sequence_length\n",
        "\n",
        "    def forward(self, text_batch):\n",
        "        # Tokenize and ensure the text has a fixed length of max_sequence_length\n",
        "        text_encoded = self.tokenizer(text_batch, padding='max_length', truncation=True, max_length=self.max_sequence_length, return_tensors=\"pt\")\n",
        "\n",
        "        # Encode the text using DistilBERT\n",
        "        text_output = self.text_encoder(**text_encoded)\n",
        "\n",
        "        # Extract embeddings for all tokens (last_hidden_state)\n",
        "        text_embeddings = text_output.last_hidden_state  # This will have shape (batch_size, max_sequence_length, hidden_size)\n",
        "\n",
        "        return text_embeddings\n",
        "\n",
        "# Define the ProjectionHead class\n",
        "class ProjectionHead(nn.Module):\n",
        "    def __init__(\n",
        "        self,\n",
        "        embedding_dim,\n",
        "        projection_dim=512,  # Update the projection dimension\n",
        "        dropout=0.1\n",
        "    ):\n",
        "        super(ProjectionHead, self).__init__()  # Correct usage of super()\n",
        "        self.projection = nn.Linear(embedding_dim, projection_dim)\n",
        "        self.gelu = nn.GELU()\n",
        "        self.fc = nn.Linear(projection_dim, projection_dim)\n",
        "        self.dropout = nn.Dropout(dropout)\n",
        "        self.layer_norm = nn.LayerNorm(projection_dim)\n",
        "\n",
        "    def forward(self, x):\n",
        "        projected = self.projection(x)\n",
        "        x = self.gelu(projected)\n",
        "        x = self.fc(x)\n",
        "        x = self.dropout(x)\n",
        "        x = x + projected #skip connection\n",
        "        x = self.layer_norm(x) #Layer Normalization\n",
        "        return x\n",
        "\n",
        "# Cross-Attention module\n",
        "class CrossAttentionLayer(nn.Module):\n",
        "    def __init__(self, embed_dim, num_heads):\n",
        "        super(CrossAttentionLayer, self).__init__()\n",
        "        self.embed_dim = embed_dim\n",
        "        self.num_heads = num_heads\n",
        "        self.multihead_atten = nn.MultiheadAttention(embed_dim, num_heads)\n",
        "\n",
        "    def forward(self, image_features, text_features):\n",
        "        key = text_features\n",
        "        value = text_features\n",
        "        query = image_features\n",
        "        attn_output, attn_output_weights = self.multihead_atten(query, key, value)\n",
        "        return attn_output, attn_output_weights\n",
        "\n",
        "#cosine similarity\n",
        "def cosine_similarity(avg_attn_out, avg_text_embed):\n",
        "    dim = len(avg_attn_out)\n",
        "    similarity_matrix = torch.zeros(dim, dim)\n",
        "    for i in range(dim):\n",
        "        for j in range(dim):\n",
        "            similarity = F.cosine_similarity(avg_attn_out[i], avg_text_embed[j], dim=0)\n",
        "            similarity_matrix[i, j] = similarity\n",
        "    return similarity_matrix\n",
        "\n",
        "#model\n",
        "class ImageTextMatchingModel(nn.Module):\n",
        "    def __init__(self, image_encoder, text_encoder, image_projection_head, text_projection_head, cross_attention_layer):\n",
        "        super(ImageTextMatchingModel, self).__init__()\n",
        "                # Freeze the parameters of the pretrained image encoder\n",
        "        for param in image_encoder.parameters():\n",
        "            param.requires_grad = False\n",
        "\n",
        "        # Freeze the parameters of the pretrained text encoder\n",
        "        for param in text_encoder.parameters():\n",
        "            param.requires_grad = False\n",
        "\n",
        "        self.image_encoder = image_encoder\n",
        "        self.text_encoder = text_encoder\n",
        "        self.image_projection_head = image_projection_head\n",
        "        self.text_projection_head = text_projection_head\n",
        "        self.cross_attention_layer = cross_attention_layer\n",
        "\n",
        "    def forward(self, image_batch, text_batch):\n",
        "        # Encode images and texts\n",
        "        image_features = self.image_encoder(image_batch)\n",
        "        text_embeddings = self.text_encoder(text_batch)\n",
        "        image_features = image_features.permute(0, 2, 1)\n",
        "        # Project images and texts\n",
        "        projected_images = self.image_projection_head(image_features)\n",
        "        projected_texts = self.text_projection_head(text_embeddings)\n",
        "        # Cross-attention\n",
        "        attn_output, attn_output_weights = self.cross_attention_layer(projected_images.permute(1, 0, 2), projected_texts.permute(1, 0, 2))\n",
        "        attn_output = attn_output.permute(1, 0, 2)\n",
        "        '''\n",
        "        # Average pooling for image output\n",
        "        avg_pool = nn.AdaptiveAvgPool1d(1)\n",
        "        avg_attn_output = avg_pool(attn_output.permute(0, 2, 1))\n",
        "        avg_attn_output = avg_attn_output.squeeze(dim=2)\n",
        "        # CLS pooling for text output\n",
        "        cls_embeddings = projected_texts[:, 0, :]\n",
        "        '''\n",
        "\n",
        "        avg_attn_output = torch.mean(attn_output, dim=1)\n",
        "        cls_embeddings = torch.mean(projected_texts, dim=1)\n",
        "\n",
        "\n",
        "        # Compute the cosine similarity score\n",
        "        score = cosine_similarity(avg_attn_output, cls_embeddings)\n",
        "        #print(\"Score\",score)\n",
        "        return score, attn_output, attn_output_weights, avg_attn_output, cls_embeddings, projected_texts#------------------editted----------attn_output, attn_output_weights\n"
      ],
      "metadata": {
        "id": "_9h7kVcuZJnj"
      },
      "execution_count": null,
      "outputs": []
    },
    {
      "cell_type": "code",
      "source": [
        "def ContrastiveLoss(text_embeddings,image_embeddings):\n",
        "        temperature = 1\n",
        "        logits = (text_embeddings @ image_embeddings.T) / temperature\n",
        "        #print(logits)\n",
        "        images_similarity = image_embeddings @ image_embeddings.T\n",
        "        texts_similarity = text_embeddings @ text_embeddings.T\n",
        "        targets = F.softmax(\n",
        "            (images_similarity + texts_similarity) / 2 * temperature, dim=-1\n",
        "        )\n",
        "        texts_loss = cross_entropy(logits, targets, reduction='none')\n",
        "        images_loss = cross_entropy(logits.T, targets.T, reduction='none')\n",
        "        loss =  (images_loss + texts_loss) / 2.0 # shape: (batch_size)\n",
        "        #print(loss)\n",
        "        return loss.mean()\n",
        "\n",
        "\n",
        "def cross_entropy(preds, targets, reduction='none'):\n",
        "    log_softmax = nn.LogSoftmax(dim=-1)\n",
        "    loss = (-targets * log_softmax(preds)).sum(1)\n",
        "    if reduction == \"none\":\n",
        "        return loss\n",
        "    elif reduction == \"mean\":\n",
        "        return loss.mean()\n"
      ],
      "metadata": {
        "id": "4tVxT44bqsTG"
      },
      "execution_count": null,
      "outputs": []
    },
    {
      "cell_type": "code",
      "source": [
        "# Create an instance of the ImageTextMatchingModel\n",
        "image_encoder = ImageEncoder(\"resnet50\")\n",
        "max_sequence_length = 30\n",
        "text_encoder = TextEncoder(\"distilbert-base-uncased\", max_sequence_length)\n",
        "image_projection_head = ProjectionHead(2048)\n",
        "text_projection_head = ProjectionHead(768)\n",
        "embedding_dim = 512\n",
        "cross_aatn = CrossAttentionLayer(embedding_dim, num_heads=4)\n",
        "\n",
        "model = ImageTextMatchingModel(\n",
        "    image_encoder=image_encoder,\n",
        "    text_encoder=text_encoder,\n",
        "    image_projection_head=image_projection_head,\n",
        "    text_projection_head=text_projection_head,\n",
        "    cross_attention_layer=cross_aatn\n",
        ")\n"
      ],
      "metadata": {
        "colab": {
          "base_uri": "https://localhost:8080/"
        },
        "id": "1Eaouz9GZeds",
        "outputId": "1c1ea8bf-332b-4e17-e918-6d3e87aa0871"
      },
      "execution_count": null,
      "outputs": [
        {
          "output_type": "stream",
          "name": "stderr",
          "text": [
            "/usr/local/lib/python3.10/dist-packages/torchvision/models/_utils.py:208: UserWarning: The parameter 'pretrained' is deprecated since 0.13 and may be removed in the future, please use 'weights' instead.\n",
            "  warnings.warn(\n",
            "/usr/local/lib/python3.10/dist-packages/torchvision/models/_utils.py:223: UserWarning: Arguments other than a weight enum or `None` for 'weights' are deprecated since 0.13 and may be removed in the future. The current behavior is equivalent to passing `weights=ResNet50_Weights.IMAGENET1K_V1`. You can also use `weights=ResNet50_Weights.DEFAULT` to get the most up-to-date weights.\n",
            "  warnings.warn(msg)\n"
          ]
        }
      ]
    },
    {
      "cell_type": "code",
      "source": [
        "# Pass  image_batch and text_batch to the model to get the score\n",
        "image_paths = ['/content/drive/MyDrive/LINe-Out-of-Distribution-Detection-by-Leveraging-Important-Neurons/dog.jpg', '/content/drive/MyDrive/LINe-Out-of-Distribution-Detection-by-Leveraging-Important-Neurons/cat.jpg', '/content/drive/MyDrive/LINe-Out-of-Distribution-Detection-by-Leveraging-Important-Neurons/aeroplane.jpg', '/content/drive/MyDrive/LINe-Out-of-Distribution-Detection-by-Leveraging-Important-Neurons/house.jpg']\n",
        "transform = transforms.Compose([transforms.Resize(256),transforms.CenterCrop(224),transforms.ToTensor()])\n",
        "image_batch = torch.stack([transform(Image.open(image_path)) for image_path in image_paths])\n",
        "text_batch =  [\"Dog sit on grass land\", \"cat sit on bed\", \"aeroplane fly in the sky\", \"house\"]\n",
        "score, attn_output, attn_output_weights, avg_attn_output, cls_embeddings, projected_texts = model(image_batch, text_batch)\n",
        "print(score)"
      ],
      "metadata": {
        "id": "aaubvNx7shZX",
        "colab": {
          "base_uri": "https://localhost:8080/"
        },
        "outputId": "64a6751e-26c8-4659-a5d3-e9e13005c88b"
      },
      "execution_count": null,
      "outputs": [
        {
          "output_type": "stream",
          "name": "stdout",
          "text": [
            "tensor([[-0.1083, -0.1139, -0.0722, -0.0692],\n",
            "        [-0.1269, -0.1396, -0.0890, -0.0956],\n",
            "        [-0.0654, -0.0569, -0.0228, -0.0100],\n",
            "        [-0.0666, -0.0672, -0.0442, -0.0154]], grad_fn=<CopySlices>)\n"
          ]
        }
      ]
    },
    {
      "cell_type": "code",
      "source": [
        "# Count number of trainable parameters\n",
        "num_params = sum(p.numel() for p in model.parameters() if p.requires_grad)\n",
        "print(f\"Number of trainable parameters: {num_params}\")"
      ],
      "metadata": {
        "colab": {
          "base_uri": "https://localhost:8080/"
        },
        "id": "Ed5K2OSepxch",
        "outputId": "d604e294-4919-47f0-9c69-9f666335d04b"
      },
      "execution_count": null,
      "outputs": [
        {
          "output_type": "stream",
          "name": "stdout",
          "text": [
            "Number of trainable parameters: 3020800\n"
          ]
        }
      ]
    },
    {
      "cell_type": "markdown",
      "source": [
        "# Train"
      ],
      "metadata": {
        "id": "dWVDPWDmi0jf"
      }
    },
    {
      "cell_type": "code",
      "source": [
        "import logging\n",
        "import os\n",
        "import re\n",
        "from string import punctuation\n",
        "import itertools\n",
        "import pandas as pd\n",
        "import torch\n",
        "from torch.optim import Adam\n",
        "from torch.utils.data import DataLoader, Dataset\n",
        "from tqdm import tqdm\n",
        "from transformers import DistilBertTokenizer\n",
        "import numpy as np\n",
        "from sklearn.model_selection import train_test_split\n",
        "from torchvision.transforms import ToTensor"
      ],
      "metadata": {
        "id": "nNgXEYujswqe"
      },
      "execution_count": null,
      "outputs": []
    },
    {
      "cell_type": "code",
      "source": [
        "class AvgMeter:\n",
        "    def __init__(self, name=\"Metric\"):\n",
        "        self.name = name\n",
        "        self.reset()\n",
        "\n",
        "    def reset(self):\n",
        "        self.avg, self.sum, self.count = [0] * 3\n",
        "\n",
        "    def update(self, val, count=1):\n",
        "        self.count += count\n",
        "        self.sum += val * count\n",
        "        self.avg = self.sum / self.count\n",
        "\n",
        "    def __repr__(self):\n",
        "        text = f\"{self.name}: {self.avg:.4f}\"\n",
        "        return text\n",
        "\n",
        "def get_lr(optimizer):\n",
        "    for param_group in optimizer.param_groups:\n",
        "        return param_group[\"lr\"]"
      ],
      "metadata": {
        "id": "vPdI34DGtGI4"
      },
      "execution_count": null,
      "outputs": []
    },
    {
      "cell_type": "code",
      "source": [
        "device = (\n",
        "    \"cuda\"\n",
        "    if torch.cuda.is_available()\n",
        "    else \"mps\"\n",
        "    if torch.backends.mps.is_available()\n",
        "    else \"cpu\"\n",
        ")\n",
        "print(f\"Using {device} device\")\n",
        "\n",
        "if torch.cuda.is_available():\n",
        "    model = ImageTextMatchingModel(\n",
        "    image_encoder=image_encoder,\n",
        "    text_encoder=text_encoder,\n",
        "    image_projection_head=image_projection_head,\n",
        "    text_projection_head=text_projection_head,\n",
        "    cross_attention_layer=cross_aatn\n",
        ")\n",
        "    model = model.to(\n",
        "        \"cuda:0\"\n",
        "    )\n",
        "    for param in model.parameters():\n",
        "        param.to(\"cuda:0\")\n",
        "else:\n",
        "    model = ImageTextMatchingModel(\n",
        "    image_encoder=image_encoder,\n",
        "    text_encoder=text_encoder,\n",
        "    image_projection_head=image_projection_head,\n",
        "    text_projection_head=text_projection_head,\n",
        "    cross_attention_layer=cross_aatn\n",
        ")\n",
        "    print(\"GPU is not available. Using CPU.\")\n",
        "\n",
        "total_params = sum(p.numel() for p in model.parameters() if p.requires_grad)\n",
        "print(f\"Total learnable parameters: {total_params}\")"
      ],
      "metadata": {
        "colab": {
          "base_uri": "https://localhost:8080/"
        },
        "id": "MJdfhqjrstC5",
        "outputId": "f1aa1e5b-093b-4d74-9988-99f748d308b3"
      },
      "execution_count": null,
      "outputs": [
        {
          "output_type": "stream",
          "name": "stdout",
          "text": [
            "Using cpu device\n",
            "GPU is not available. Using CPU.\n",
            "Total learnable parameters: 3020800\n"
          ]
        }
      ]
    },
    {
      "cell_type": "code",
      "source": [
        "def clean_text(row):\n",
        "    regex = re.compile(\"[%s]\" % re.escape(punctuation))\n",
        "    row = str(row).strip()\n",
        "    row = row.lower()\n",
        "    return regex.sub(\"\", row)\n",
        "\n",
        "\n",
        "BATCH_SIZE = 4\n",
        "IMG_DIR = \"/content/drive/MyDrive/LINe-Out-of-Distribution-Detection-by-Leveraging-Important-Neurons/flickr30k_images/flickr30k_images\"\n",
        "IMG_SIZE = 224\n",
        "captions = pd.read_csv(\"/content/drive/MyDrive/LINe-Out-of-Distribution-Detection-by-Leveraging-Important-Neurons/flickr30k_images/results.csv\", sep=\"|\")\n",
        "\n",
        "def clean_text(row):\n",
        "    regex = re.compile(\"[%s]\" % re.escape(punctuation))\n",
        "    row = str(row).strip()\n",
        "    row = row.lower()\n",
        "    return regex.sub(\"\", row)\n",
        "\n",
        "class InvalidDatasetException(Exception):\n",
        "    def __init__(self, len_of_paths, len_of_labels):\n",
        "        super().__init__( f\"Number of paths ({len_of_paths}) is not compatible with number of labels ({len_of_labels})\")\n",
        "\n",
        "class CustomData(Dataset):\n",
        "    def __init__(self, img_paths, caps):\n",
        "        self.img_paths = [os.path.join(IMG_DIR, path) for path in img_paths]\n",
        "        self.caps = caps\n",
        "        self.transforms = transforms.Compose([transforms.Resize(size=(IMG_SIZE, IMG_SIZE)), ToTensor()] )\n",
        "        if len(self.img_paths) != len(self.caps):\n",
        "            raise InvalidDatasetException(self.img_paths, self.caps)\n",
        "\n",
        "    def __len__(self):\n",
        "        return len(self.img_paths)\n",
        "\n",
        "    def __getitem__(self, idx):\n",
        "        img = Image.open(self.img_paths[idx])\n",
        "        tensor_img = self.transforms(img)\n",
        "        label = self.caps[idx]\n",
        "        return tensor_img, label\n",
        "\n",
        "\n",
        "captions.columns = [col.strip() for col in captions.columns]\n",
        "captions[\"comment\"] = captions[\"comment\"].apply(clean_text)\n",
        "captions = captions.head(2000)#considering 100 examples\n",
        "train_captions, val_captions = train_test_split(captions, train_size=0.8, random_state=42)\n",
        "\n",
        "\n",
        "TRAIN_PATHS = list(train_captions[\"image_name\"])\n",
        "TEST_PATHS = list(val_captions[\"image_name\"])\n",
        "\n",
        "train_set = CustomData(TRAIN_PATHS, [statement for statement in train_captions[\"comment\"]])\n",
        "print(f\"The number of images in the train set is : {train_set.__len__()}\")\n",
        "\n",
        "val_set = CustomData(TEST_PATHS, [statement for statement in val_captions[\"comment\"]])\n",
        "print(f\"The number of images in the val set is : {val_set.__len__()}\")\n",
        "\n",
        "torch.manual_seed(42)\n",
        "train_loader = DataLoader(dataset=train_set, batch_size=BATCH_SIZE, shuffle=True)\n",
        "print( f\"the size of the train dataloader {len(train_loader)} batches of {BATCH_SIZE}\")\n",
        "\n",
        "torch.manual_seed(42)\n",
        "valid_loader = DataLoader(dataset=val_set, batch_size=BATCH_SIZE, shuffle=False)\n",
        "print(f\"the size of the test dataloader {len(valid_loader)} batches of {BATCH_SIZE}\")\n"
      ],
      "metadata": {
        "colab": {
          "base_uri": "https://localhost:8080/"
        },
        "id": "KiYRpLi9iz53",
        "outputId": "5ccf8842-fef9-41e4-f9cb-63d1b8d03365"
      },
      "execution_count": null,
      "outputs": [
        {
          "output_type": "stream",
          "name": "stdout",
          "text": [
            "The number of images in the train set is : 1600\n",
            "The number of images in the val set is : 400\n",
            "the size of the train dataloader 400 batches of 4\n",
            "the size of the test dataloader 100 batches of 4\n"
          ]
        }
      ]
    },
    {
      "cell_type": "code",
      "source": [
        "def train_epoch(model, train_loader, optimizer, lr_scheduler, step):\n",
        "    loss_meter = AvgMeter()\n",
        "    tqdm_object = tqdm(train_loader, total=len(train_loader))\n",
        "    for batch in tqdm_object:\n",
        "        image, caption = batch\n",
        "        image = image.to(device)\n",
        "        score = model(image, caption)\n",
        "        loss = ContrastiveLoss(score[4], score[3])\n",
        "        optimizer.zero_grad()\n",
        "        loss.backward()\n",
        "        optimizer.step()\n",
        "        if step == \"batch\":\n",
        "            lr_scheduler.step()\n",
        "        count = image.size(0)\n",
        "        loss_meter.update(loss.item(), count)\n",
        "        tqdm_object.set_postfix(train_loss=loss_meter.avg, lr=get_lr(optimizer))\n",
        "    return loss_meter\n",
        "\n",
        "def valid_epoch(model, valid_loader):\n",
        "    loss_meter = AvgMeter()\n",
        "    tqdm_object = tqdm(valid_loader, total=len(valid_loader))\n",
        "    for batch in tqdm_object:\n",
        "        image, caption = batch\n",
        "        image = image.to(device)\n",
        "        score = model(image, caption)\n",
        "        loss = ContrastiveLoss(score[4], score[3])\n",
        "        count = image.size(0)\n",
        "        loss_meter.update(loss.item(), count)\n",
        "        tqdm_object.set_postfix(valid_loss=loss_meter.avg)\n",
        "    return loss_meter\n"
      ],
      "metadata": {
        "id": "iiF8LQ4JsMhn"
      },
      "execution_count": null,
      "outputs": []
    },
    {
      "cell_type": "code",
      "source": [
        "def main():\n",
        "    model = ImageTextMatchingModel(\n",
        "    image_encoder=image_encoder,\n",
        "    text_encoder=text_encoder,\n",
        "    image_projection_head=image_projection_head,\n",
        "    text_projection_head=text_projection_head,\n",
        "    cross_attention_layer=cross_aatn\n",
        ")\n",
        "    model = model.to(device)\n",
        "    for param in model.parameters():\n",
        "        param.to(device)\n",
        "\n",
        "    optimizer = Adam(model.parameters(), lr=0.001)\n",
        "    lr_scheduler = torch.optim.lr_scheduler.ReduceLROnPlateau(\n",
        "        optimizer, mode=\"min\", patience=1, factor=0.1\n",
        "    )\n",
        "    best_loss = float('inf')\n",
        "    for epoch in range(8):  # Adjust the number of epochs as needed\n",
        "        print(f\"Epoch: {epoch + 1}\")\n",
        "        model.train()\n",
        "        train_loss = train_epoch(model, train_loader, optimizer, lr_scheduler, step=\"epoch\")\n",
        "        model.eval()\n",
        "        with torch.no_grad():\n",
        "            valid_loss = valid_epoch(model, valid_loader)\n",
        "\n",
        "        if valid_loss.avg < best_loss:\n",
        "            best_loss = valid_loss.avg\n",
        "            torch.save(model.state_dict(), \"/content/drive/MyDrive/LINe-Out-of-Distribution-Detection-by-Leveraging-Important-Neurons/best_b4_freeze_clip.pt\")\n",
        "            print(\"Saved Best Model!\")\n",
        "\n",
        "        lr_scheduler.step(valid_loss.avg)\n",
        "\n",
        "if __name__ == \"__main__\":\n",
        "    main()"
      ],
      "metadata": {
        "colab": {
          "base_uri": "https://localhost:8080/"
        },
        "id": "BwZ9o3wHukZw",
        "outputId": "2711b147-7aba-4814-ab50-f477a70bbe00"
      },
      "execution_count": null,
      "outputs": [
        {
          "metadata": {
            "tags": null
          },
          "name": "stdout",
          "output_type": "stream",
          "text": [
            "Epoch: 1\n"
          ]
        },
        {
          "metadata": {
            "tags": null
          },
          "name": "stderr",
          "output_type": "stream",
          "text": [
            "100%|██████████| 400/400 [13:57<00:00,  2.09s/it, lr=0.001, train_loss=7.1]\n",
            "100%|██████████| 100/100 [02:00<00:00,  1.20s/it, valid_loss=3.73]\n"
          ]
        },
        {
          "metadata": {
            "tags": null
          },
          "name": "stdout",
          "output_type": "stream",
          "text": [
            "Saved Best Model!\n",
            "Epoch: 2\n"
          ]
        },
        {
          "metadata": {
            "tags": null
          },
          "name": "stderr",
          "output_type": "stream",
          "text": [
            "100%|██████████| 400/400 [10:45<00:00,  1.61s/it, lr=0.001, train_loss=18.1]\n",
            "100%|██████████| 100/100 [02:01<00:00,  1.22s/it, valid_loss=4.8]\n"
          ]
        },
        {
          "metadata": {
            "tags": null
          },
          "name": "stdout",
          "output_type": "stream",
          "text": [
            "Epoch: 3\n"
          ]
        },
        {
          "metadata": {
            "tags": null
          },
          "name": "stderr",
          "output_type": "stream",
          "text": [
            "100%|██████████| 400/400 [10:13<00:00,  1.53s/it, lr=0.001, train_loss=7.06]\n",
            "100%|██████████| 100/100 [01:55<00:00,  1.16s/it, valid_loss=1.84]\n"
          ]
        },
        {
          "metadata": {
            "tags": null
          },
          "name": "stdout",
          "output_type": "stream",
          "text": [
            "Saved Best Model!\n",
            "Epoch: 4\n"
          ]
        },
        {
          "output_type": "stream",
          "name": "stderr",
          "text": [
            "100%|██████████| 400/400 [10:10<00:00,  1.53s/it, lr=0.001, train_loss=6.14]\n",
            "100%|██████████| 100/100 [01:57<00:00,  1.18s/it, valid_loss=2.09]\n"
          ]
        },
        {
          "output_type": "stream",
          "name": "stdout",
          "text": [
            "Epoch: 5\n"
          ]
        },
        {
          "output_type": "stream",
          "name": "stderr",
          "text": [
            "100%|██████████| 400/400 [10:28<00:00,  1.57s/it, lr=0.001, train_loss=10.7]\n",
            "100%|██████████| 100/100 [01:56<00:00,  1.17s/it, valid_loss=1.26]\n"
          ]
        },
        {
          "output_type": "stream",
          "name": "stdout",
          "text": [
            "Saved Best Model!\n",
            "Epoch: 6\n"
          ]
        },
        {
          "output_type": "stream",
          "name": "stderr",
          "text": [
            "100%|██████████| 400/400 [10:29<00:00,  1.57s/it, lr=0.001, train_loss=11.3]\n",
            "100%|██████████| 100/100 [01:56<00:00,  1.17s/it, valid_loss=7.85]\n"
          ]
        },
        {
          "output_type": "stream",
          "name": "stdout",
          "text": [
            "Epoch: 7\n"
          ]
        },
        {
          "output_type": "stream",
          "name": "stderr",
          "text": [
            "100%|██████████| 400/400 [10:24<00:00,  1.56s/it, lr=0.001, train_loss=13.1]\n",
            "100%|██████████| 100/100 [01:58<00:00,  1.18s/it, valid_loss=12.5]\n"
          ]
        },
        {
          "output_type": "stream",
          "name": "stdout",
          "text": [
            "Epoch: 8\n"
          ]
        },
        {
          "output_type": "stream",
          "name": "stderr",
          "text": [
            "100%|██████████| 400/400 [11:01<00:00,  1.65s/it, lr=0.0001, train_loss=14]\n",
            "100%|██████████| 100/100 [01:56<00:00,  1.16s/it, valid_loss=3.35]\n"
          ]
        }
      ]
    },
    {
      "cell_type": "markdown",
      "source": [
        "# Test Inference"
      ],
      "metadata": {
        "id": "KI7CUOMY561t"
      }
    },
    {
      "cell_type": "code",
      "source": [
        "# Create an instance of the model\n",
        "model = ImageTextMatchingModel(\n",
        "    image_encoder=image_encoder,\n",
        "    text_encoder=text_encoder,\n",
        "    image_projection_head=image_projection_head,\n",
        "    text_projection_head=text_projection_head,\n",
        "    cross_attention_layer=cross_aatn\n",
        ")\n",
        "image_captioning_model = model\n",
        "model_path = '/content/drive/MyDrive/LINe-Out-of-Distribution-Detection-by-Leveraging-Important-Neurons/best_b4_freeze_clip.pt'\n",
        "#model_path = \"/content/drive/MyDrive/LINe-Out-of-Distribution-Detection-by-Leveraging-Important-Neurons/model_epoch_90.pt\"\n",
        "image_captioning_model.load_state_dict(torch.load(model_path, map_location='cpu'))\n",
        "image_captioning_model.eval()"
      ],
      "metadata": {
        "colab": {
          "base_uri": "https://localhost:8080/"
        },
        "id": "fCf1i2CV1K5P",
        "outputId": "321d4ac2-e435-47f6-f684-d866b6263cdb"
      },
      "execution_count": null,
      "outputs": [
        {
          "output_type": "execute_result",
          "data": {
            "text/plain": [
              "ImageTextMatchingModel(\n",
              "  (image_encoder): ImageEncoder(\n",
              "    (model): Sequential(\n",
              "      (0): Conv2d(3, 64, kernel_size=(7, 7), stride=(2, 2), padding=(3, 3), bias=False)\n",
              "      (1): BatchNorm2d(64, eps=1e-05, momentum=0.1, affine=True, track_running_stats=True)\n",
              "      (2): ReLU(inplace=True)\n",
              "      (3): MaxPool2d(kernel_size=3, stride=2, padding=1, dilation=1, ceil_mode=False)\n",
              "      (4): Sequential(\n",
              "        (0): Bottleneck(\n",
              "          (conv1): Conv2d(64, 64, kernel_size=(1, 1), stride=(1, 1), bias=False)\n",
              "          (bn1): BatchNorm2d(64, eps=1e-05, momentum=0.1, affine=True, track_running_stats=True)\n",
              "          (conv2): Conv2d(64, 64, kernel_size=(3, 3), stride=(1, 1), padding=(1, 1), bias=False)\n",
              "          (bn2): BatchNorm2d(64, eps=1e-05, momentum=0.1, affine=True, track_running_stats=True)\n",
              "          (conv3): Conv2d(64, 256, kernel_size=(1, 1), stride=(1, 1), bias=False)\n",
              "          (bn3): BatchNorm2d(256, eps=1e-05, momentum=0.1, affine=True, track_running_stats=True)\n",
              "          (relu): ReLU(inplace=True)\n",
              "          (downsample): Sequential(\n",
              "            (0): Conv2d(64, 256, kernel_size=(1, 1), stride=(1, 1), bias=False)\n",
              "            (1): BatchNorm2d(256, eps=1e-05, momentum=0.1, affine=True, track_running_stats=True)\n",
              "          )\n",
              "        )\n",
              "        (1): Bottleneck(\n",
              "          (conv1): Conv2d(256, 64, kernel_size=(1, 1), stride=(1, 1), bias=False)\n",
              "          (bn1): BatchNorm2d(64, eps=1e-05, momentum=0.1, affine=True, track_running_stats=True)\n",
              "          (conv2): Conv2d(64, 64, kernel_size=(3, 3), stride=(1, 1), padding=(1, 1), bias=False)\n",
              "          (bn2): BatchNorm2d(64, eps=1e-05, momentum=0.1, affine=True, track_running_stats=True)\n",
              "          (conv3): Conv2d(64, 256, kernel_size=(1, 1), stride=(1, 1), bias=False)\n",
              "          (bn3): BatchNorm2d(256, eps=1e-05, momentum=0.1, affine=True, track_running_stats=True)\n",
              "          (relu): ReLU(inplace=True)\n",
              "        )\n",
              "        (2): Bottleneck(\n",
              "          (conv1): Conv2d(256, 64, kernel_size=(1, 1), stride=(1, 1), bias=False)\n",
              "          (bn1): BatchNorm2d(64, eps=1e-05, momentum=0.1, affine=True, track_running_stats=True)\n",
              "          (conv2): Conv2d(64, 64, kernel_size=(3, 3), stride=(1, 1), padding=(1, 1), bias=False)\n",
              "          (bn2): BatchNorm2d(64, eps=1e-05, momentum=0.1, affine=True, track_running_stats=True)\n",
              "          (conv3): Conv2d(64, 256, kernel_size=(1, 1), stride=(1, 1), bias=False)\n",
              "          (bn3): BatchNorm2d(256, eps=1e-05, momentum=0.1, affine=True, track_running_stats=True)\n",
              "          (relu): ReLU(inplace=True)\n",
              "        )\n",
              "      )\n",
              "      (5): Sequential(\n",
              "        (0): Bottleneck(\n",
              "          (conv1): Conv2d(256, 128, kernel_size=(1, 1), stride=(1, 1), bias=False)\n",
              "          (bn1): BatchNorm2d(128, eps=1e-05, momentum=0.1, affine=True, track_running_stats=True)\n",
              "          (conv2): Conv2d(128, 128, kernel_size=(3, 3), stride=(2, 2), padding=(1, 1), bias=False)\n",
              "          (bn2): BatchNorm2d(128, eps=1e-05, momentum=0.1, affine=True, track_running_stats=True)\n",
              "          (conv3): Conv2d(128, 512, kernel_size=(1, 1), stride=(1, 1), bias=False)\n",
              "          (bn3): BatchNorm2d(512, eps=1e-05, momentum=0.1, affine=True, track_running_stats=True)\n",
              "          (relu): ReLU(inplace=True)\n",
              "          (downsample): Sequential(\n",
              "            (0): Conv2d(256, 512, kernel_size=(1, 1), stride=(2, 2), bias=False)\n",
              "            (1): BatchNorm2d(512, eps=1e-05, momentum=0.1, affine=True, track_running_stats=True)\n",
              "          )\n",
              "        )\n",
              "        (1): Bottleneck(\n",
              "          (conv1): Conv2d(512, 128, kernel_size=(1, 1), stride=(1, 1), bias=False)\n",
              "          (bn1): BatchNorm2d(128, eps=1e-05, momentum=0.1, affine=True, track_running_stats=True)\n",
              "          (conv2): Conv2d(128, 128, kernel_size=(3, 3), stride=(1, 1), padding=(1, 1), bias=False)\n",
              "          (bn2): BatchNorm2d(128, eps=1e-05, momentum=0.1, affine=True, track_running_stats=True)\n",
              "          (conv3): Conv2d(128, 512, kernel_size=(1, 1), stride=(1, 1), bias=False)\n",
              "          (bn3): BatchNorm2d(512, eps=1e-05, momentum=0.1, affine=True, track_running_stats=True)\n",
              "          (relu): ReLU(inplace=True)\n",
              "        )\n",
              "        (2): Bottleneck(\n",
              "          (conv1): Conv2d(512, 128, kernel_size=(1, 1), stride=(1, 1), bias=False)\n",
              "          (bn1): BatchNorm2d(128, eps=1e-05, momentum=0.1, affine=True, track_running_stats=True)\n",
              "          (conv2): Conv2d(128, 128, kernel_size=(3, 3), stride=(1, 1), padding=(1, 1), bias=False)\n",
              "          (bn2): BatchNorm2d(128, eps=1e-05, momentum=0.1, affine=True, track_running_stats=True)\n",
              "          (conv3): Conv2d(128, 512, kernel_size=(1, 1), stride=(1, 1), bias=False)\n",
              "          (bn3): BatchNorm2d(512, eps=1e-05, momentum=0.1, affine=True, track_running_stats=True)\n",
              "          (relu): ReLU(inplace=True)\n",
              "        )\n",
              "        (3): Bottleneck(\n",
              "          (conv1): Conv2d(512, 128, kernel_size=(1, 1), stride=(1, 1), bias=False)\n",
              "          (bn1): BatchNorm2d(128, eps=1e-05, momentum=0.1, affine=True, track_running_stats=True)\n",
              "          (conv2): Conv2d(128, 128, kernel_size=(3, 3), stride=(1, 1), padding=(1, 1), bias=False)\n",
              "          (bn2): BatchNorm2d(128, eps=1e-05, momentum=0.1, affine=True, track_running_stats=True)\n",
              "          (conv3): Conv2d(128, 512, kernel_size=(1, 1), stride=(1, 1), bias=False)\n",
              "          (bn3): BatchNorm2d(512, eps=1e-05, momentum=0.1, affine=True, track_running_stats=True)\n",
              "          (relu): ReLU(inplace=True)\n",
              "        )\n",
              "      )\n",
              "      (6): Sequential(\n",
              "        (0): Bottleneck(\n",
              "          (conv1): Conv2d(512, 256, kernel_size=(1, 1), stride=(1, 1), bias=False)\n",
              "          (bn1): BatchNorm2d(256, eps=1e-05, momentum=0.1, affine=True, track_running_stats=True)\n",
              "          (conv2): Conv2d(256, 256, kernel_size=(3, 3), stride=(2, 2), padding=(1, 1), bias=False)\n",
              "          (bn2): BatchNorm2d(256, eps=1e-05, momentum=0.1, affine=True, track_running_stats=True)\n",
              "          (conv3): Conv2d(256, 1024, kernel_size=(1, 1), stride=(1, 1), bias=False)\n",
              "          (bn3): BatchNorm2d(1024, eps=1e-05, momentum=0.1, affine=True, track_running_stats=True)\n",
              "          (relu): ReLU(inplace=True)\n",
              "          (downsample): Sequential(\n",
              "            (0): Conv2d(512, 1024, kernel_size=(1, 1), stride=(2, 2), bias=False)\n",
              "            (1): BatchNorm2d(1024, eps=1e-05, momentum=0.1, affine=True, track_running_stats=True)\n",
              "          )\n",
              "        )\n",
              "        (1): Bottleneck(\n",
              "          (conv1): Conv2d(1024, 256, kernel_size=(1, 1), stride=(1, 1), bias=False)\n",
              "          (bn1): BatchNorm2d(256, eps=1e-05, momentum=0.1, affine=True, track_running_stats=True)\n",
              "          (conv2): Conv2d(256, 256, kernel_size=(3, 3), stride=(1, 1), padding=(1, 1), bias=False)\n",
              "          (bn2): BatchNorm2d(256, eps=1e-05, momentum=0.1, affine=True, track_running_stats=True)\n",
              "          (conv3): Conv2d(256, 1024, kernel_size=(1, 1), stride=(1, 1), bias=False)\n",
              "          (bn3): BatchNorm2d(1024, eps=1e-05, momentum=0.1, affine=True, track_running_stats=True)\n",
              "          (relu): ReLU(inplace=True)\n",
              "        )\n",
              "        (2): Bottleneck(\n",
              "          (conv1): Conv2d(1024, 256, kernel_size=(1, 1), stride=(1, 1), bias=False)\n",
              "          (bn1): BatchNorm2d(256, eps=1e-05, momentum=0.1, affine=True, track_running_stats=True)\n",
              "          (conv2): Conv2d(256, 256, kernel_size=(3, 3), stride=(1, 1), padding=(1, 1), bias=False)\n",
              "          (bn2): BatchNorm2d(256, eps=1e-05, momentum=0.1, affine=True, track_running_stats=True)\n",
              "          (conv3): Conv2d(256, 1024, kernel_size=(1, 1), stride=(1, 1), bias=False)\n",
              "          (bn3): BatchNorm2d(1024, eps=1e-05, momentum=0.1, affine=True, track_running_stats=True)\n",
              "          (relu): ReLU(inplace=True)\n",
              "        )\n",
              "        (3): Bottleneck(\n",
              "          (conv1): Conv2d(1024, 256, kernel_size=(1, 1), stride=(1, 1), bias=False)\n",
              "          (bn1): BatchNorm2d(256, eps=1e-05, momentum=0.1, affine=True, track_running_stats=True)\n",
              "          (conv2): Conv2d(256, 256, kernel_size=(3, 3), stride=(1, 1), padding=(1, 1), bias=False)\n",
              "          (bn2): BatchNorm2d(256, eps=1e-05, momentum=0.1, affine=True, track_running_stats=True)\n",
              "          (conv3): Conv2d(256, 1024, kernel_size=(1, 1), stride=(1, 1), bias=False)\n",
              "          (bn3): BatchNorm2d(1024, eps=1e-05, momentum=0.1, affine=True, track_running_stats=True)\n",
              "          (relu): ReLU(inplace=True)\n",
              "        )\n",
              "        (4): Bottleneck(\n",
              "          (conv1): Conv2d(1024, 256, kernel_size=(1, 1), stride=(1, 1), bias=False)\n",
              "          (bn1): BatchNorm2d(256, eps=1e-05, momentum=0.1, affine=True, track_running_stats=True)\n",
              "          (conv2): Conv2d(256, 256, kernel_size=(3, 3), stride=(1, 1), padding=(1, 1), bias=False)\n",
              "          (bn2): BatchNorm2d(256, eps=1e-05, momentum=0.1, affine=True, track_running_stats=True)\n",
              "          (conv3): Conv2d(256, 1024, kernel_size=(1, 1), stride=(1, 1), bias=False)\n",
              "          (bn3): BatchNorm2d(1024, eps=1e-05, momentum=0.1, affine=True, track_running_stats=True)\n",
              "          (relu): ReLU(inplace=True)\n",
              "        )\n",
              "        (5): Bottleneck(\n",
              "          (conv1): Conv2d(1024, 256, kernel_size=(1, 1), stride=(1, 1), bias=False)\n",
              "          (bn1): BatchNorm2d(256, eps=1e-05, momentum=0.1, affine=True, track_running_stats=True)\n",
              "          (conv2): Conv2d(256, 256, kernel_size=(3, 3), stride=(1, 1), padding=(1, 1), bias=False)\n",
              "          (bn2): BatchNorm2d(256, eps=1e-05, momentum=0.1, affine=True, track_running_stats=True)\n",
              "          (conv3): Conv2d(256, 1024, kernel_size=(1, 1), stride=(1, 1), bias=False)\n",
              "          (bn3): BatchNorm2d(1024, eps=1e-05, momentum=0.1, affine=True, track_running_stats=True)\n",
              "          (relu): ReLU(inplace=True)\n",
              "        )\n",
              "      )\n",
              "      (7): Sequential(\n",
              "        (0): Bottleneck(\n",
              "          (conv1): Conv2d(1024, 512, kernel_size=(1, 1), stride=(1, 1), bias=False)\n",
              "          (bn1): BatchNorm2d(512, eps=1e-05, momentum=0.1, affine=True, track_running_stats=True)\n",
              "          (conv2): Conv2d(512, 512, kernel_size=(3, 3), stride=(2, 2), padding=(1, 1), bias=False)\n",
              "          (bn2): BatchNorm2d(512, eps=1e-05, momentum=0.1, affine=True, track_running_stats=True)\n",
              "          (conv3): Conv2d(512, 2048, kernel_size=(1, 1), stride=(1, 1), bias=False)\n",
              "          (bn3): BatchNorm2d(2048, eps=1e-05, momentum=0.1, affine=True, track_running_stats=True)\n",
              "          (relu): ReLU(inplace=True)\n",
              "          (downsample): Sequential(\n",
              "            (0): Conv2d(1024, 2048, kernel_size=(1, 1), stride=(2, 2), bias=False)\n",
              "            (1): BatchNorm2d(2048, eps=1e-05, momentum=0.1, affine=True, track_running_stats=True)\n",
              "          )\n",
              "        )\n",
              "        (1): Bottleneck(\n",
              "          (conv1): Conv2d(2048, 512, kernel_size=(1, 1), stride=(1, 1), bias=False)\n",
              "          (bn1): BatchNorm2d(512, eps=1e-05, momentum=0.1, affine=True, track_running_stats=True)\n",
              "          (conv2): Conv2d(512, 512, kernel_size=(3, 3), stride=(1, 1), padding=(1, 1), bias=False)\n",
              "          (bn2): BatchNorm2d(512, eps=1e-05, momentum=0.1, affine=True, track_running_stats=True)\n",
              "          (conv3): Conv2d(512, 2048, kernel_size=(1, 1), stride=(1, 1), bias=False)\n",
              "          (bn3): BatchNorm2d(2048, eps=1e-05, momentum=0.1, affine=True, track_running_stats=True)\n",
              "          (relu): ReLU(inplace=True)\n",
              "        )\n",
              "        (2): Bottleneck(\n",
              "          (conv1): Conv2d(2048, 512, kernel_size=(1, 1), stride=(1, 1), bias=False)\n",
              "          (bn1): BatchNorm2d(512, eps=1e-05, momentum=0.1, affine=True, track_running_stats=True)\n",
              "          (conv2): Conv2d(512, 512, kernel_size=(3, 3), stride=(1, 1), padding=(1, 1), bias=False)\n",
              "          (bn2): BatchNorm2d(512, eps=1e-05, momentum=0.1, affine=True, track_running_stats=True)\n",
              "          (conv3): Conv2d(512, 2048, kernel_size=(1, 1), stride=(1, 1), bias=False)\n",
              "          (bn3): BatchNorm2d(2048, eps=1e-05, momentum=0.1, affine=True, track_running_stats=True)\n",
              "          (relu): ReLU(inplace=True)\n",
              "        )\n",
              "      )\n",
              "    )\n",
              "  )\n",
              "  (text_encoder): TextEncoder(\n",
              "    (text_encoder): DistilBertModel(\n",
              "      (embeddings): Embeddings(\n",
              "        (word_embeddings): Embedding(30522, 768, padding_idx=0)\n",
              "        (position_embeddings): Embedding(512, 768)\n",
              "        (LayerNorm): LayerNorm((768,), eps=1e-12, elementwise_affine=True)\n",
              "        (dropout): Dropout(p=0.1, inplace=False)\n",
              "      )\n",
              "      (transformer): Transformer(\n",
              "        (layer): ModuleList(\n",
              "          (0-5): 6 x TransformerBlock(\n",
              "            (attention): MultiHeadSelfAttention(\n",
              "              (dropout): Dropout(p=0.1, inplace=False)\n",
              "              (q_lin): Linear(in_features=768, out_features=768, bias=True)\n",
              "              (k_lin): Linear(in_features=768, out_features=768, bias=True)\n",
              "              (v_lin): Linear(in_features=768, out_features=768, bias=True)\n",
              "              (out_lin): Linear(in_features=768, out_features=768, bias=True)\n",
              "            )\n",
              "            (sa_layer_norm): LayerNorm((768,), eps=1e-12, elementwise_affine=True)\n",
              "            (ffn): FFN(\n",
              "              (dropout): Dropout(p=0.1, inplace=False)\n",
              "              (lin1): Linear(in_features=768, out_features=3072, bias=True)\n",
              "              (lin2): Linear(in_features=3072, out_features=768, bias=True)\n",
              "              (activation): GELUActivation()\n",
              "            )\n",
              "            (output_layer_norm): LayerNorm((768,), eps=1e-12, elementwise_affine=True)\n",
              "          )\n",
              "        )\n",
              "      )\n",
              "    )\n",
              "  )\n",
              "  (image_projection_head): ProjectionHead(\n",
              "    (projection): Linear(in_features=2048, out_features=512, bias=True)\n",
              "    (gelu): GELU(approximate='none')\n",
              "    (fc): Linear(in_features=512, out_features=512, bias=True)\n",
              "    (dropout): Dropout(p=0.1, inplace=False)\n",
              "    (layer_norm): LayerNorm((512,), eps=1e-05, elementwise_affine=True)\n",
              "  )\n",
              "  (text_projection_head): ProjectionHead(\n",
              "    (projection): Linear(in_features=768, out_features=512, bias=True)\n",
              "    (gelu): GELU(approximate='none')\n",
              "    (fc): Linear(in_features=512, out_features=512, bias=True)\n",
              "    (dropout): Dropout(p=0.1, inplace=False)\n",
              "    (layer_norm): LayerNorm((512,), eps=1e-05, elementwise_affine=True)\n",
              "  )\n",
              "  (cross_attention_layer): CrossAttentionLayer(\n",
              "    (multihead_atten): MultiheadAttention(\n",
              "      (out_proj): NonDynamicallyQuantizableLinear(in_features=512, out_features=512, bias=True)\n",
              "    )\n",
              "  )\n",
              ")"
            ]
          },
          "metadata": {},
          "execution_count": 46
        }
      ]
    },
    {
      "cell_type": "code",
      "source": [
        "#Inference for batch of 4 image text pair\n",
        "from transformers import BertTokenizer\n",
        "t1 = \"A man in a blue shirt is standing on a ladder cleaning a window.\"\n",
        "t2 = \"A trendy girl talking on her cellphone while gliding slowly down the street. \"\n",
        "t3 = \"Five people are sitting in a circle with instruments.\"\n",
        "t4 = \"A man with a black shirt giving another man a tattoo.\"\n",
        "statements = [t1,t2,t3,t4]\n",
        "\n",
        "# Define image preprocessing transformations\n",
        "image_transform = transforms.Compose([\n",
        "    transforms.Resize((224, 224)),\n",
        "    transforms.ToTensor(),\n",
        "    transforms.Normalize(mean=[0.485, 0.456, 0.406], std=[0.229, 0.224, 0.225])\n",
        "])\n",
        "\n",
        "im1 = \"/content/drive/MyDrive/LINe-Out-of-Distribution-Detection-by-Leveraging-Important-Neurons/flickr30k_images/flickr30k_images/1000344755.jpg\"\n",
        "im2 = \"/content/drive/MyDrive/LINe-Out-of-Distribution-Detection-by-Leveraging-Important-Neurons/flickr30k_images/flickr30k_images/10010052.jpg\"\n",
        "im3 = \"/content/drive/MyDrive/LINe-Out-of-Distribution-Detection-by-Leveraging-Important-Neurons/flickr30k_images/flickr30k_images/1003420127.jpg\"\n",
        "im4 = \"/content/drive/MyDrive/LINe-Out-of-Distribution-Detection-by-Leveraging-Important-Neurons/flickr30k_images/flickr30k_images/100577935.jpg\"\n",
        "image_paths = [im1, im2, im3, im4]\n",
        "images = []\n",
        "for image_path in image_paths:\n",
        "    image = Image.open(image_path)\n",
        "    image = image_transform(image)\n",
        "    images.append(image)\n",
        "# Stack the images into a single tensor\n",
        "images = torch.stack(images)\n",
        "#images = images.to(\"cuda:0\")\n",
        "# Make predictions\n",
        "with torch.no_grad():\n",
        "    #output = image_captioning_model(images, statements)\n",
        "    output, atth_out_train, attn_weight_train,avg_attn_output, cls_embeddings, txt_embed = image_captioning_model(images, statements)#----------for edited model\n",
        "print(output)"
      ],
      "metadata": {
        "colab": {
          "base_uri": "https://localhost:8080/"
        },
        "id": "SnHYnE0D1PyP",
        "outputId": "44c295a1-7bbf-4c1f-8220-9190761c1b19"
      },
      "execution_count": null,
      "outputs": [
        {
          "output_type": "stream",
          "name": "stdout",
          "text": [
            "tensor([[0.4378, 0.4366, 0.4382, 0.4375],\n",
            "        [0.4306, 0.4296, 0.4309, 0.4306],\n",
            "        [0.4332, 0.4320, 0.4334, 0.4331],\n",
            "        [0.4319, 0.4309, 0.4323, 0.4319]])\n"
          ]
        }
      ]
    },
    {
      "cell_type": "code",
      "source": [
        "print(atth_out_train.shape)#output image embedding [4, 49, 512]\n",
        "print(atth_out_train)"
      ],
      "metadata": {
        "colab": {
          "base_uri": "https://localhost:8080/"
        },
        "id": "6Og0I2QDMtMU",
        "outputId": "429df598-12fe-4a8f-ce7c-6aad05b63a12"
      },
      "execution_count": null,
      "outputs": [
        {
          "output_type": "stream",
          "name": "stdout",
          "text": [
            "torch.Size([4, 49, 512])\n",
            "tensor([[[ 0.5716, -2.7740,  2.2916,  ...,  8.3372,  3.1691, -0.7891],\n",
            "         [ 0.5716, -2.7740,  2.2916,  ...,  8.3372,  3.1691, -0.7891],\n",
            "         [ 0.5716, -2.7740,  2.2916,  ...,  8.3372,  3.1691, -0.7891],\n",
            "         ...,\n",
            "         [ 0.5716, -2.7740,  2.2916,  ...,  8.3372,  3.1691, -0.7891],\n",
            "         [ 0.5716, -2.7740,  2.2916,  ...,  8.3372,  3.1691, -0.7891],\n",
            "         [ 0.5716, -2.7740,  2.2916,  ...,  8.3372,  3.1691, -0.7891]],\n",
            "\n",
            "        [[ 0.8875, -2.4871,  2.0853,  ...,  8.2491,  3.1244, -0.3630],\n",
            "         [ 0.8875, -2.4871,  2.0853,  ...,  8.2491,  3.1244, -0.3630],\n",
            "         [ 0.8875, -2.4871,  2.0853,  ...,  8.2491,  3.1244, -0.3630],\n",
            "         ...,\n",
            "         [ 0.8875, -2.4871,  2.0853,  ...,  8.2491,  3.1244, -0.3630],\n",
            "         [ 0.8875, -2.4871,  2.0853,  ...,  8.2491,  3.1244, -0.3630],\n",
            "         [ 0.8875, -2.4871,  2.0853,  ...,  8.2491,  3.1244, -0.3630]],\n",
            "\n",
            "        [[ 0.8030, -3.5976,  3.0421,  ...,  9.5743,  3.4622, -0.5288],\n",
            "         [ 0.8030, -3.5976,  3.0421,  ...,  9.5743,  3.4622, -0.5288],\n",
            "         [ 0.8030, -3.5976,  3.0421,  ...,  9.5743,  3.4622, -0.5288],\n",
            "         ...,\n",
            "         [ 0.8030, -3.5976,  3.0421,  ...,  9.5743,  3.4622, -0.5288],\n",
            "         [ 0.8030, -3.5976,  3.0421,  ...,  9.5743,  3.4622, -0.5288],\n",
            "         [ 0.8030, -3.5976,  3.0421,  ...,  9.5743,  3.4622, -0.5288]],\n",
            "\n",
            "        [[ 0.7905, -2.3354,  1.9389,  ...,  8.0274,  3.0439, -0.4684],\n",
            "         [ 0.7905, -2.3354,  1.9389,  ...,  8.0274,  3.0439, -0.4684],\n",
            "         [ 0.7905, -2.3354,  1.9389,  ...,  8.0274,  3.0439, -0.4684],\n",
            "         ...,\n",
            "         [ 0.7905, -2.3354,  1.9389,  ...,  8.0274,  3.0439, -0.4684],\n",
            "         [ 0.7905, -2.3354,  1.9389,  ...,  8.0274,  3.0439, -0.4684],\n",
            "         [ 0.7905, -2.3354,  1.9389,  ...,  8.0274,  3.0439, -0.4684]]])\n"
          ]
        }
      ]
    },
    {
      "cell_type": "code",
      "source": [
        "print(attn_weight_train.shape)#map of each text tokens with each features\n",
        "print(attn_weight_train)"
      ],
      "metadata": {
        "colab": {
          "base_uri": "https://localhost:8080/"
        },
        "id": "fRtdodgEM1NA",
        "outputId": "89a7acfd-7122-4c24-e0d5-49f24a5e76f5"
      },
      "execution_count": null,
      "outputs": [
        {
          "output_type": "stream",
          "name": "stdout",
          "text": [
            "torch.Size([4, 49, 30])\n",
            "tensor([[[1.0000e+00, 9.8200e-20, 1.9835e-28,  ..., 4.1603e-28,\n",
            "          1.6439e-29, 5.0736e-30],\n",
            "         [1.0000e+00, 9.8024e-20, 1.9873e-28,  ..., 4.1746e-28,\n",
            "          1.6491e-29, 5.0874e-30],\n",
            "         [1.0000e+00, 9.5500e-20, 1.9099e-28,  ..., 4.0117e-28,\n",
            "          1.5818e-29, 4.8765e-30],\n",
            "         ...,\n",
            "         [1.0000e+00, 9.9561e-20, 2.0341e-28,  ..., 4.2724e-28,\n",
            "          1.6900e-29, 5.2150e-30],\n",
            "         [1.0000e+00, 9.9299e-20, 2.0293e-28,  ..., 4.2642e-28,\n",
            "          1.6863e-29, 5.2028e-30],\n",
            "         [1.0000e+00, 9.8738e-20, 2.0172e-28,  ..., 4.2418e-28,\n",
            "          1.6766e-29, 5.1712e-30]],\n",
            "\n",
            "        [[1.0000e+00, 3.9481e-24, 1.1585e-27,  ..., 2.0766e-27,\n",
            "          1.8731e-26, 6.0106e-26],\n",
            "         [1.0000e+00, 4.0152e-24, 1.1795e-27,  ..., 2.1142e-27,\n",
            "          1.9060e-26, 6.1179e-26],\n",
            "         [1.0000e+00, 4.0859e-24, 1.2020e-27,  ..., 2.1546e-27,\n",
            "          1.9411e-26, 6.2313e-26],\n",
            "         ...,\n",
            "         [1.0000e+00, 3.9818e-24, 1.1716e-27,  ..., 2.0992e-27,\n",
            "          1.8928e-26, 6.0691e-26],\n",
            "         [1.0000e+00, 3.9732e-24, 1.1703e-27,  ..., 2.0969e-27,\n",
            "          1.8906e-26, 6.0605e-26],\n",
            "         [1.0000e+00, 3.8873e-24, 1.1389e-27,  ..., 2.0414e-27,\n",
            "          1.8424e-26, 5.9115e-26]],\n",
            "\n",
            "        [[1.0000e+00, 1.0625e-20, 3.4277e-28,  ..., 1.6203e-28,\n",
            "          3.0359e-29, 1.0982e-30],\n",
            "         [1.0000e+00, 1.0748e-20, 3.4849e-28,  ..., 1.6476e-28,\n",
            "          3.0889e-29, 1.1183e-30],\n",
            "         [1.0000e+00, 1.0901e-20, 3.5518e-28,  ..., 1.6797e-28,\n",
            "          3.1504e-29, 1.1418e-30],\n",
            "         ...,\n",
            "         [1.0000e+00, 1.1203e-20, 3.6816e-28,  ..., 1.7419e-28,\n",
            "          3.2692e-29, 1.1875e-30],\n",
            "         [1.0000e+00, 1.1257e-20, 3.7079e-28,  ..., 1.7544e-28,\n",
            "          3.2934e-29, 1.1967e-30],\n",
            "         [1.0000e+00, 1.1161e-20, 3.6605e-28,  ..., 1.7316e-28,\n",
            "          3.2490e-29, 1.1798e-30]],\n",
            "\n",
            "        [[1.0000e+00, 4.2711e-21, 2.8299e-27,  ..., 3.9731e-28,\n",
            "          2.4927e-28, 2.0703e-31],\n",
            "         [1.0000e+00, 4.2799e-21, 2.8344e-27,  ..., 3.9790e-28,\n",
            "          2.4966e-28, 2.0737e-31],\n",
            "         [1.0000e+00, 4.2886e-21, 2.8397e-27,  ..., 3.9858e-28,\n",
            "          2.5010e-28, 2.0782e-31],\n",
            "         ...,\n",
            "         [1.0000e+00, 4.3300e-21, 2.8813e-27,  ..., 4.0480e-28,\n",
            "          2.5401e-28, 2.1138e-31],\n",
            "         [1.0000e+00, 4.3365e-21, 2.8864e-27,  ..., 4.0554e-28,\n",
            "          2.5449e-28, 2.1184e-31],\n",
            "         [1.0000e+00, 4.3100e-21, 2.8647e-27,  ..., 4.0244e-28,\n",
            "          2.5251e-28, 2.1000e-31]]])\n"
          ]
        }
      ]
    },
    {
      "cell_type": "code",
      "source": [
        "# Pass  image_batch and text_batch to the model to get the score\n",
        "image_paths = ['/content/drive/MyDrive/LINe-Out-of-Distribution-Detection-by-Leveraging-Important-Neurons/dog.jpg', '/content/drive/MyDrive/LINe-Out-of-Distribution-Detection-by-Leveraging-Important-Neurons/cat.jpg', '/content/drive/MyDrive/LINe-Out-of-Distribution-Detection-by-Leveraging-Important-Neurons/aeroplane.jpg', '/content/drive/MyDrive/LINe-Out-of-Distribution-Detection-by-Leveraging-Important-Neurons/house.jpg']\n",
        "transform = transforms.Compose([transforms.Resize(256),transforms.CenterCrop(224),transforms.ToTensor()])\n",
        "image_batch = torch.stack([transform(Image.open(image_path)) for image_path in image_paths])\n",
        "text_batch =  [\"Dog sit on grass land\", \"cat sit on bed\", \"aeroplane fly in the sky\", \"house\"]\n",
        "score, atth_out, attn_weight,avg_attn_output, cls_embeddings, txt_embedd = image_captioning_model(image_batch, text_batch)#-------------for edited model\n",
        "print(score)"
      ],
      "metadata": {
        "colab": {
          "base_uri": "https://localhost:8080/"
        },
        "id": "TQxiOBYePIiZ",
        "outputId": "54c2fc8a-d154-49be-a598-826ad5c34877"
      },
      "execution_count": null,
      "outputs": [
        {
          "output_type": "stream",
          "name": "stdout",
          "text": [
            "tensor([[0.4292, 0.4294, 0.4293, 0.4291],\n",
            "        [0.4261, 0.4264, 0.4264, 0.4264],\n",
            "        [0.4186, 0.4188, 0.4190, 0.4184],\n",
            "        [0.4108, 0.4111, 0.4116, 0.4111]], grad_fn=<CopySlices>)\n"
          ]
        }
      ]
    },
    {
      "cell_type": "code",
      "source": [
        "atth_out#image embedding"
      ],
      "metadata": {
        "colab": {
          "base_uri": "https://localhost:8080/"
        },
        "id": "95yWj7M6Gp4Y",
        "outputId": "244214c0-4ba1-4459-f55c-95f197308291"
      },
      "execution_count": null,
      "outputs": [
        {
          "output_type": "execute_result",
          "data": {
            "text/plain": [
              "tensor([[[ 0.8743, -3.6249,  3.0852,  ...,  9.7482,  3.4176, -0.4338],\n",
              "         [ 0.8743, -3.6249,  3.0852,  ...,  9.7482,  3.4176, -0.4338],\n",
              "         [ 0.8743, -3.6249,  3.0852,  ...,  9.7482,  3.4176, -0.4338],\n",
              "         ...,\n",
              "         [ 0.8743, -3.6249,  3.0852,  ...,  9.7482,  3.4176, -0.4338],\n",
              "         [ 0.8743, -3.6249,  3.0852,  ...,  9.7482,  3.4176, -0.4338],\n",
              "         [ 0.8743, -3.6249,  3.0852,  ...,  9.7482,  3.4176, -0.4338]],\n",
              "\n",
              "        [[ 0.9972, -3.1146,  2.6560,  ...,  9.1835,  3.3165, -0.2442],\n",
              "         [ 0.9972, -3.1146,  2.6560,  ...,  9.1835,  3.3165, -0.2442],\n",
              "         [ 0.9972, -3.1146,  2.6560,  ...,  9.1835,  3.3165, -0.2442],\n",
              "         ...,\n",
              "         [ 0.9972, -3.1146,  2.6560,  ...,  9.1835,  3.3165, -0.2442],\n",
              "         [ 0.9972, -3.1146,  2.6560,  ...,  9.1835,  3.3165, -0.2442],\n",
              "         [ 0.9972, -3.1146,  2.6560,  ...,  9.1835,  3.3165, -0.2442]],\n",
              "\n",
              "        [[ 1.1227, -4.8406,  4.2143,  ..., 11.5292,  3.7977, -0.2143],\n",
              "         [ 1.1227, -4.8406,  4.2143,  ..., 11.5292,  3.7977, -0.2143],\n",
              "         [ 1.1227, -4.8406,  4.2143,  ..., 11.5292,  3.7977, -0.2143],\n",
              "         ...,\n",
              "         [ 1.1227, -4.8406,  4.2143,  ..., 11.5292,  3.7977, -0.2143],\n",
              "         [ 1.1227, -4.8406,  4.2143,  ..., 11.5292,  3.7977, -0.2143],\n",
              "         [ 1.1227, -4.8406,  4.2143,  ..., 11.5292,  3.7977, -0.2143]],\n",
              "\n",
              "        [[ 1.3297, -4.3637,  3.8017,  ..., 11.1199,  3.7215,  0.0877],\n",
              "         [ 1.3297, -4.3637,  3.8017,  ..., 11.1199,  3.7215,  0.0877],\n",
              "         [ 1.3297, -4.3637,  3.8017,  ..., 11.1199,  3.7215,  0.0877],\n",
              "         ...,\n",
              "         [ 1.3297, -4.3637,  3.8017,  ..., 11.1199,  3.7215,  0.0877],\n",
              "         [ 1.3297, -4.3637,  3.8017,  ..., 11.1199,  3.7215,  0.0877],\n",
              "         [ 1.3297, -4.3637,  3.8017,  ..., 11.1199,  3.7215,  0.0877]]],\n",
              "       grad_fn=<PermuteBackward0>)"
            ]
          },
          "metadata": {},
          "execution_count": 51
        }
      ]
    },
    {
      "cell_type": "code",
      "source": [
        "attn_weight"
      ],
      "metadata": {
        "colab": {
          "base_uri": "https://localhost:8080/"
        },
        "id": "c2RRifMsKu7j",
        "outputId": "36b35fcc-e103-4240-f5c2-2123001b0124"
      },
      "execution_count": null,
      "outputs": [
        {
          "output_type": "execute_result",
          "data": {
            "text/plain": [
              "tensor([[[1.0000e+00, 6.3612e-23, 4.5914e-33,  ..., 3.0980e-30,\n",
              "          1.5209e-29, 8.1839e-31],\n",
              "         [1.0000e+00, 6.7403e-23, 5.0052e-33,  ..., 3.3527e-30,\n",
              "          1.6421e-29, 8.8653e-31],\n",
              "         [1.0000e+00, 7.2814e-23, 5.6216e-33,  ..., 3.7302e-30,\n",
              "          1.8210e-29, 9.8738e-31],\n",
              "         ...,\n",
              "         [1.0000e+00, 4.7643e-23, 2.9495e-33,  ..., 2.0620e-30,\n",
              "          1.0277e-29, 5.4374e-31],\n",
              "         [1.0000e+00, 4.9093e-23, 3.0915e-33,  ..., 2.1539e-30,\n",
              "          1.0713e-29, 5.6772e-31],\n",
              "         [1.0000e+00, 5.1632e-23, 3.3387e-33,  ..., 2.3120e-30,\n",
              "          1.1469e-29, 6.0961e-31]],\n",
              "\n",
              "        [[1.0000e+00, 7.3892e-23, 1.1223e-32,  ..., 2.1683e-30,\n",
              "          1.6867e-32, 6.3709e-33],\n",
              "         [1.0000e+00, 8.2173e-23, 1.2912e-32,  ..., 2.4718e-30,\n",
              "          1.9327e-32, 7.3056e-33],\n",
              "         [1.0000e+00, 8.5158e-23, 1.3595e-32,  ..., 2.5920e-30,\n",
              "          2.0322e-32, 7.6860e-33],\n",
              "         ...,\n",
              "         [1.0000e+00, 7.5110e-23, 1.1581e-32,  ..., 2.2279e-30,\n",
              "          1.7403e-32, 6.5787e-33],\n",
              "         [1.0000e+00, 7.2772e-23, 1.1076e-32,  ..., 2.1375e-30,\n",
              "          1.6655e-32, 6.2931e-33],\n",
              "         [1.0000e+00, 7.2665e-23, 1.1052e-32,  ..., 2.1330e-30,\n",
              "          1.6618e-32, 6.2791e-33]],\n",
              "\n",
              "        [[1.0000e+00, 1.5722e-19, 2.3881e-33,  ..., 1.7590e-32,\n",
              "          1.2021e-33, 2.3335e-35],\n",
              "         [1.0000e+00, 1.5685e-19, 2.3788e-33,  ..., 1.7512e-32,\n",
              "          1.1966e-33, 2.3221e-35],\n",
              "         [1.0000e+00, 1.5224e-19, 2.2594e-33,  ..., 1.6666e-32,\n",
              "          1.1368e-33, 2.2005e-35],\n",
              "         ...,\n",
              "         [1.0000e+00, 1.2502e-19, 1.5912e-33,  ..., 1.1748e-32,\n",
              "          7.9005e-34, 1.5019e-35],\n",
              "         [1.0000e+00, 1.2564e-19, 1.6041e-33,  ..., 1.1839e-32,\n",
              "          7.9630e-34, 1.5143e-35],\n",
              "         [1.0000e+00, 1.2525e-19, 1.5988e-33,  ..., 1.1826e-32,\n",
              "          7.9576e-34, 1.5127e-35]],\n",
              "\n",
              "        [[1.0000e+00, 3.1085e-24, 1.2598e-34,  ..., 4.3229e-33,\n",
              "          1.0283e-32, 5.4676e-33],\n",
              "         [1.0000e+00, 3.1493e-24, 1.2877e-34,  ..., 4.3869e-33,\n",
              "          1.0433e-32, 5.5482e-33],\n",
              "         [1.0000e+00, 2.6444e-24, 1.0165e-34,  ..., 3.4056e-33,\n",
              "          8.1215e-33, 4.3102e-33],\n",
              "         ...,\n",
              "         [1.0000e+00, 2.2408e-24, 8.2208e-35,  ..., 2.6455e-33,\n",
              "          6.3257e-33, 3.3499e-33],\n",
              "         [1.0000e+00, 2.1999e-24, 8.0054e-35,  ..., 2.5771e-33,\n",
              "          6.1637e-33, 3.2635e-33],\n",
              "         [1.0000e+00, 2.2332e-24, 8.2200e-35,  ..., 2.6214e-33,\n",
              "          6.2682e-33, 3.3194e-33]]], grad_fn=<MeanBackward1>)"
            ]
          },
          "metadata": {},
          "execution_count": 52
        }
      ]
    },
    {
      "cell_type": "code",
      "source": [
        "print(avg_attn_output.shape)# input image embedding for cosine similarity\n",
        "print(avg_attn_output)"
      ],
      "metadata": {
        "colab": {
          "base_uri": "https://localhost:8080/"
        },
        "id": "UgYByMVNYnaC",
        "outputId": "95c52237-4577-4e84-a9ee-9981cf01f3d6"
      },
      "execution_count": null,
      "outputs": [
        {
          "output_type": "stream",
          "name": "stdout",
          "text": [
            "torch.Size([4, 512])\n",
            "tensor([[ 0.8743, -3.6249,  3.0852,  ...,  9.7482,  3.4176, -0.4338],\n",
            "        [ 0.9972, -3.1146,  2.6560,  ...,  9.1835,  3.3165, -0.2442],\n",
            "        [ 1.1227, -4.8406,  4.2143,  ..., 11.5292,  3.7977, -0.2143],\n",
            "        [ 1.3297, -4.3637,  3.8017,  ..., 11.1199,  3.7215,  0.0877]],\n",
            "       grad_fn=<MeanBackward1>)\n"
          ]
        }
      ]
    },
    {
      "cell_type": "code",
      "source": [
        "print(cls_embeddings.shape)# input text embedding for cosine similarity\n",
        "print(cls_embeddings)"
      ],
      "metadata": {
        "colab": {
          "base_uri": "https://localhost:8080/"
        },
        "id": "M_itfo4rYrI1",
        "outputId": "28d56f35-70d0-4d2d-dc0b-f910b471c38f"
      },
      "execution_count": null,
      "outputs": [
        {
          "output_type": "stream",
          "name": "stdout",
          "text": [
            "torch.Size([4, 512])\n",
            "tensor([[ 0.2741, -1.5054,  0.5882,  ...,  0.5870,  2.8979, -1.5910],\n",
            "        [ 0.2676, -1.4426,  0.6049,  ...,  0.5719,  2.7251, -1.5208],\n",
            "        [ 0.2348, -1.5130,  0.5734,  ...,  0.5717,  2.8610, -1.5399],\n",
            "        [ 0.2219, -1.4455,  0.5540,  ...,  0.6120,  2.9367, -1.5365]],\n",
            "       grad_fn=<MeanBackward1>)\n"
          ]
        }
      ]
    },
    {
      "cell_type": "code",
      "source": [
        "attn_mapping = attn_weight"
      ],
      "metadata": {
        "id": "CmK0-IFGXFfk"
      },
      "execution_count": null,
      "outputs": []
    },
    {
      "cell_type": "code",
      "source": [
        "attn_mapping"
      ],
      "metadata": {
        "colab": {
          "base_uri": "https://localhost:8080/"
        },
        "id": "72iKt5A5NbWl",
        "outputId": "edc48242-bda1-4723-dc59-819a98823a3b"
      },
      "execution_count": null,
      "outputs": [
        {
          "output_type": "execute_result",
          "data": {
            "text/plain": [
              "tensor([[[1.0000e+00, 6.3612e-23, 4.5914e-33,  ..., 3.0980e-30,\n",
              "          1.5209e-29, 8.1839e-31],\n",
              "         [1.0000e+00, 6.7403e-23, 5.0052e-33,  ..., 3.3527e-30,\n",
              "          1.6421e-29, 8.8653e-31],\n",
              "         [1.0000e+00, 7.2814e-23, 5.6216e-33,  ..., 3.7302e-30,\n",
              "          1.8210e-29, 9.8738e-31],\n",
              "         ...,\n",
              "         [1.0000e+00, 4.7643e-23, 2.9495e-33,  ..., 2.0620e-30,\n",
              "          1.0277e-29, 5.4374e-31],\n",
              "         [1.0000e+00, 4.9093e-23, 3.0915e-33,  ..., 2.1539e-30,\n",
              "          1.0713e-29, 5.6772e-31],\n",
              "         [1.0000e+00, 5.1632e-23, 3.3387e-33,  ..., 2.3120e-30,\n",
              "          1.1469e-29, 6.0961e-31]],\n",
              "\n",
              "        [[1.0000e+00, 7.3892e-23, 1.1223e-32,  ..., 2.1683e-30,\n",
              "          1.6867e-32, 6.3709e-33],\n",
              "         [1.0000e+00, 8.2173e-23, 1.2912e-32,  ..., 2.4718e-30,\n",
              "          1.9327e-32, 7.3056e-33],\n",
              "         [1.0000e+00, 8.5158e-23, 1.3595e-32,  ..., 2.5920e-30,\n",
              "          2.0322e-32, 7.6860e-33],\n",
              "         ...,\n",
              "         [1.0000e+00, 7.5110e-23, 1.1581e-32,  ..., 2.2279e-30,\n",
              "          1.7403e-32, 6.5787e-33],\n",
              "         [1.0000e+00, 7.2772e-23, 1.1076e-32,  ..., 2.1375e-30,\n",
              "          1.6655e-32, 6.2931e-33],\n",
              "         [1.0000e+00, 7.2665e-23, 1.1052e-32,  ..., 2.1330e-30,\n",
              "          1.6618e-32, 6.2791e-33]],\n",
              "\n",
              "        [[1.0000e+00, 1.5722e-19, 2.3881e-33,  ..., 1.7590e-32,\n",
              "          1.2021e-33, 2.3335e-35],\n",
              "         [1.0000e+00, 1.5685e-19, 2.3788e-33,  ..., 1.7512e-32,\n",
              "          1.1966e-33, 2.3221e-35],\n",
              "         [1.0000e+00, 1.5224e-19, 2.2594e-33,  ..., 1.6666e-32,\n",
              "          1.1368e-33, 2.2005e-35],\n",
              "         ...,\n",
              "         [1.0000e+00, 1.2502e-19, 1.5912e-33,  ..., 1.1748e-32,\n",
              "          7.9005e-34, 1.5019e-35],\n",
              "         [1.0000e+00, 1.2564e-19, 1.6041e-33,  ..., 1.1839e-32,\n",
              "          7.9630e-34, 1.5143e-35],\n",
              "         [1.0000e+00, 1.2525e-19, 1.5988e-33,  ..., 1.1826e-32,\n",
              "          7.9576e-34, 1.5127e-35]],\n",
              "\n",
              "        [[1.0000e+00, 3.1085e-24, 1.2598e-34,  ..., 4.3229e-33,\n",
              "          1.0283e-32, 5.4676e-33],\n",
              "         [1.0000e+00, 3.1493e-24, 1.2877e-34,  ..., 4.3869e-33,\n",
              "          1.0433e-32, 5.5482e-33],\n",
              "         [1.0000e+00, 2.6444e-24, 1.0165e-34,  ..., 3.4056e-33,\n",
              "          8.1215e-33, 4.3102e-33],\n",
              "         ...,\n",
              "         [1.0000e+00, 2.2408e-24, 8.2208e-35,  ..., 2.6455e-33,\n",
              "          6.3257e-33, 3.3499e-33],\n",
              "         [1.0000e+00, 2.1999e-24, 8.0054e-35,  ..., 2.5771e-33,\n",
              "          6.1637e-33, 3.2635e-33],\n",
              "         [1.0000e+00, 2.2332e-24, 8.2200e-35,  ..., 2.6214e-33,\n",
              "          6.2682e-33, 3.3194e-33]]], grad_fn=<MeanBackward1>)"
            ]
          },
          "metadata": {},
          "execution_count": 56
        }
      ]
    },
    {
      "cell_type": "code",
      "source": [
        "attn_mapping.shape"
      ],
      "metadata": {
        "colab": {
          "base_uri": "https://localhost:8080/"
        },
        "id": "ioWl24hsXP4X",
        "outputId": "d985c111-4096-4ae4-e380-3b9491c0cd13"
      },
      "execution_count": null,
      "outputs": [
        {
          "output_type": "execute_result",
          "data": {
            "text/plain": [
              "torch.Size([4, 49, 30])"
            ]
          },
          "metadata": {},
          "execution_count": 57
        }
      ]
    },
    {
      "cell_type": "code",
      "source": [
        "import torch\n",
        "import torch.nn.functional as F\n",
        "import matplotlib.pyplot as plt\n",
        "import numpy as np\n",
        "\n",
        "# Assuming attn_maps is a PyTorch tensor with shape [ 30,7,7]\n",
        "attn_sc = attn_mapping[0].cpu()\n",
        "attn_maps = attn_sc.permute(1,0)\n",
        "# Reshape attn_maps to [30,(7, 7)]\n",
        "attn_maps = attn_maps.view(30, 7, 7)\n",
        "print(attn_maps.shape)\n",
        "def plot_attention_maps( attention_map):\n",
        "    fig = plt.figure(figsize=(15, 10))\n",
        "    len_result = 30\n",
        "    titles = []\n",
        "    for i in range(len_result):\n",
        "        map = attention_map[i]\n",
        "        grid_size = max(int(np.ceil(len_result / 3)), 3)\n",
        "        ax = fig.add_subplot(3, grid_size, i + 1)\n",
        "        ax.imshow(map, cmap='gray', alpha=0.6)\n",
        "    plt.tight_layout()\n",
        "\n",
        "plot_attention_maps(attn_maps.detach().numpy())\n",
        "plt.show()\n"
      ],
      "metadata": {
        "colab": {
          "base_uri": "https://localhost:8080/",
          "height": 634
        },
        "id": "nbBefx6mW6W8",
        "outputId": "bdf956ba-93b3-4b09-ad5d-b563c9948a87"
      },
      "execution_count": null,
      "outputs": [
        {
          "output_type": "stream",
          "name": "stdout",
          "text": [
            "torch.Size([30, 7, 7])\n"
          ]
        },
        {
          "output_type": "display_data",
          "data": {
            "text/plain": [
              "<Figure size 1500x1000 with 30 Axes>"
            ],
            "image/png": "[encoded data removed]"
          },
          "metadata": {}
        }
      ]
    },
    {
      "cell_type": "code",
      "source": [
        "import torch\n",
        "import torch.nn.functional as F\n",
        "import matplotlib.pyplot as plt\n",
        "import numpy as np\n",
        "\n",
        "# Assuming attn_maps is a PyTorch tensor with shape [ 30,7,7]\n",
        "attn_sc = attn_mapping[1].cpu()\n",
        "attn_maps = attn_sc.permute(1,0)\n",
        "# Reshape attn_maps to [30,(7, 7)]\n",
        "attn_maps = attn_maps.view(30, 7, 7)\n",
        "print(attn_maps.shape)\n",
        "def plot_attention_maps( attention_map):\n",
        "    fig = plt.figure(figsize=(15, 10))\n",
        "    len_result = 30\n",
        "    titles = []\n",
        "    for i in range(len_result):\n",
        "        map = attention_map[i]\n",
        "        grid_size = max(int(np.ceil(len_result / 3)), 3)\n",
        "        ax = fig.add_subplot(3, grid_size, i + 1)\n",
        "        ax.imshow(map, cmap='gray', alpha=0.6)\n",
        "    plt.tight_layout()\n",
        "\n",
        "plot_attention_maps(attn_maps.detach().numpy())\n",
        "plt.show()\n"
      ],
      "metadata": {
        "colab": {
          "base_uri": "https://localhost:8080/",
          "height": 634
        },
        "id": "APB6nJhsupCY",
        "outputId": "66eedd26-c8b8-4a2a-fb6c-d38e03f2b55d"
      },
      "execution_count": null,
      "outputs": [
        {
          "output_type": "stream",
          "name": "stdout",
          "text": [
            "torch.Size([30, 7, 7])\n"
          ]
        },
        {
          "output_type": "display_data",
          "data": {
            "text/plain": [
              "<Figure size 1500x1000 with 30 Axes>"
            ],
            "image/png": "[encoded data removed]"
          },
          "metadata": {}
        }
      ]
    },
    {
      "cell_type": "code",
      "source": [
        "import torch\n",
        "import torch.nn.functional as F\n",
        "import matplotlib.pyplot as plt\n",
        "import numpy as np\n",
        "\n",
        "# Assuming attn_maps is a PyTorch tensor with shape [ 30,7,7]\n",
        "attn_sc = attn_mapping[2].cpu()\n",
        "attn_maps = attn_sc.permute(1,0)\n",
        "# Reshape attn_maps to [30,(7, 7)]\n",
        "attn_maps = attn_maps.view(30, 7, 7)\n",
        "print(attn_maps.shape)\n",
        "def plot_attention_maps( attention_map):\n",
        "    fig = plt.figure(figsize=(15, 10))\n",
        "    len_result = 30\n",
        "    titles = []\n",
        "    for i in range(len_result):\n",
        "        map = attention_map[i]\n",
        "        grid_size = max(int(np.ceil(len_result / 3)), 3)\n",
        "        ax = fig.add_subplot(3, grid_size, i + 1)\n",
        "        ax.imshow(map, cmap='gray', alpha=0.6)\n",
        "    plt.tight_layout()\n",
        "\n",
        "plot_attention_maps(attn_maps.detach().numpy())\n",
        "plt.show()"
      ],
      "metadata": {
        "colab": {
          "base_uri": "https://localhost:8080/",
          "height": 634
        },
        "id": "Mam63JHOJLRX",
        "outputId": "b219cf14-9eb5-4b32-b024-13565059e263"
      },
      "execution_count": null,
      "outputs": [
        {
          "output_type": "stream",
          "name": "stdout",
          "text": [
            "torch.Size([30, 7, 7])\n"
          ]
        },
        {
          "output_type": "display_data",
          "data": {
            "text/plain": [
              "<Figure size 1500x1000 with 30 Axes>"
            ],
            "image/png": "[encoded data removed]"
          },
          "metadata": {}
        }
      ]
    },
    {
      "cell_type": "code",
      "source": [
        "import torch\n",
        "import torch.nn.functional as F\n",
        "import matplotlib.pyplot as plt\n",
        "import numpy as np\n",
        "\n",
        "# Assuming attn_maps is a PyTorch tensor with shape [ 30,7,7]\n",
        "attn_sc = attn_mapping[3].cpu()\n",
        "attn_maps = attn_sc.permute(1,0)\n",
        "# Reshape attn_maps to [30,(7, 7)]\n",
        "attn_maps = attn_maps.view(30, 7, 7)\n",
        "print(attn_maps.shape)\n",
        "def plot_attention_maps( attention_map):\n",
        "    fig = plt.figure(figsize=(15, 10))\n",
        "    len_result = 30\n",
        "    titles = []\n",
        "    for i in range(len_result):\n",
        "        map = attention_map[i]\n",
        "        grid_size = max(int(np.ceil(len_result / 3)), 3)\n",
        "        ax = fig.add_subplot(3, grid_size, i + 1)\n",
        "        ax.imshow(map, cmap='gray', alpha=0.6)\n",
        "    plt.tight_layout()\n",
        "\n",
        "plot_attention_maps(attn_maps.detach().numpy())\n",
        "plt.show()"
      ],
      "metadata": {
        "colab": {
          "base_uri": "https://localhost:8080/",
          "height": 634
        },
        "id": "TJcIcXyBJO7y",
        "outputId": "0a2ffe2c-af6a-468c-b335-6edb69725a23"
      },
      "execution_count": null,
      "outputs": [
        {
          "output_type": "stream",
          "name": "stdout",
          "text": [
            "torch.Size([30, 7, 7])\n"
          ]
        },
        {
          "output_type": "display_data",
          "data": {
            "text/plain": [
              "<Figure size 1500x1000 with 30 Axes>"
            ],
            "image/png": "[encoded data removed]"
          },
          "metadata": {}
        }
      ]
    },
    {
      "cell_type": "code",
      "source": [
        "def loss_new(text_embeddings,image_embeddings):\n",
        "        temperature = 1\n",
        "        logits = (text_embeddings @ image_embeddings.T) / temperature\n",
        "        print(logits)\n",
        "        images_similarity = image_embeddings @ image_embeddings.T\n",
        "        texts_similarity = text_embeddings @ text_embeddings.T\n",
        "        targets = F.softmax(\n",
        "            (images_similarity + texts_similarity) / 2 * temperature, dim=-1\n",
        "        )\n",
        "        texts_loss = cross_entropy(logits, targets, reduction='none')\n",
        "        images_loss = cross_entropy(logits.T, targets.T, reduction='none')\n",
        "        loss =  (images_loss + texts_loss) / 2.0 # shape: (batch_size)\n",
        "        print(loss)\n",
        "        return loss.mean()\n",
        "\n",
        "\n",
        "def cross_entropy(preds, targets, reduction='none'):\n",
        "    log_softmax = nn.LogSoftmax(dim=-1)\n",
        "    loss = (-targets * log_softmax(preds)).sum(1)\n",
        "    if reduction == \"none\":\n",
        "        return loss\n",
        "    elif reduction == \"mean\":\n",
        "        return loss.mean()\n",
        "\n",
        "loss1 = loss_new(cls_embeddings, avg_attn_output)"
      ],
      "metadata": {
        "id": "T2Rv_PspaywM"
      },
      "execution_count": null,
      "outputs": []
    },
    {
      "cell_type": "code",
      "source": [
        "loss1 = loss_new(cls_embeddings, avg_attn_output)\n",
        "loss1"
      ],
      "metadata": {
        "colab": {
          "base_uri": "https://localhost:8080/"
        },
        "id": "aIAVcq3abHZZ",
        "outputId": "9ae28eec-7057-4493-edaa-75889d9f9306"
      },
      "execution_count": null,
      "outputs": [
        {
          "output_type": "stream",
          "name": "stdout",
          "text": [
            "tensor([[280728.6875, 280728.7500, 280728.7188, 280728.7500],\n",
            "        [280728.7812, 280728.7812, 280728.8125, 280728.8125],\n",
            "        [280728.6250, 280728.6250, 280728.6250, 280728.6562],\n",
            "        [280728.6250, 280728.7188, 280728.6875, 280728.7188]],\n",
            "       grad_fn=<DivBackward0>)\n",
            "tensor([1.0280, 1.2702, 1.2685, 1.9553], grad_fn=<DivBackward0>)\n"
          ]
        },
        {
          "output_type": "execute_result",
          "data": {
            "text/plain": [
              "tensor(1.3805, grad_fn=<MeanBackward0>)"
            ]
          },
          "metadata": {},
          "execution_count": 28
        }
      ]
    },
    {
      "cell_type": "code",
      "source": [
        "print(atth_out) #torch.Size([4, 49, 512])"
      ],
      "metadata": {
        "colab": {
          "base_uri": "https://localhost:8080/"
        },
        "id": "lsnfwwYuI3rr",
        "outputId": "f11c0102-28b5-46fb-8844-93285fa9f324"
      },
      "execution_count": null,
      "outputs": [
        {
          "output_type": "stream",
          "name": "stdout",
          "text": [
            "tensor([[[ 10780.3604, -54271.6250, 115577.8281,  ...,  16445.3555,\n",
            "           81538.1250, -56947.7188],\n",
            "         [ 10780.3613, -54271.6289, 115577.8359,  ...,  16445.3555,\n",
            "           81538.1250, -56947.7266],\n",
            "         [ 10780.3594, -54271.6289, 115577.8047,  ...,  16445.3555,\n",
            "           81538.1172, -56947.7188],\n",
            "         ...,\n",
            "         [ 10780.3574, -54271.6250, 115577.8281,  ...,  16445.3555,\n",
            "           81538.1172, -56947.7148],\n",
            "         [ 10780.3594, -54271.6250, 115577.8125,  ...,  16445.3555,\n",
            "           81538.1250, -56947.7188],\n",
            "         [ 10780.3613, -54271.6289, 115577.8359,  ...,  16445.3574,\n",
            "           81538.1250, -56947.7266]],\n",
            "\n",
            "        [[ 10780.3613, -54271.6328, 115577.8438,  ...,  16445.3594,\n",
            "           81538.1250, -56947.7305],\n",
            "         [ 10780.3613, -54271.6328, 115577.8359,  ...,  16445.3574,\n",
            "           81538.1250, -56947.7305],\n",
            "         [ 10780.3613, -54271.6328, 115577.8438,  ...,  16445.3574,\n",
            "           81538.1328, -56947.7305],\n",
            "         ...,\n",
            "         [ 10780.3613, -54271.6289, 115577.8438,  ...,  16445.3574,\n",
            "           81538.1250, -56947.7305],\n",
            "         [ 10780.3613, -54271.6289, 115577.8281,  ...,  16445.3555,\n",
            "           81538.1328, -56947.7266],\n",
            "         [ 10780.3604, -54271.6328, 115577.8359,  ...,  16445.3574,\n",
            "           81538.1328, -56947.7266]],\n",
            "\n",
            "        [[ 10780.3604, -54271.6328, 115577.8516,  ...,  16445.3574,\n",
            "           81538.1328, -56947.7305],\n",
            "         [ 10780.3604, -54271.6367, 115577.8438,  ...,  16445.3574,\n",
            "           81538.1328, -56947.7305],\n",
            "         [ 10780.3594, -54271.6211, 115577.8438,  ...,  16445.3574,\n",
            "           81538.1250, -56947.7305],\n",
            "         ...,\n",
            "         [ 10780.3604, -54271.6289, 115577.8281,  ...,  16445.3574,\n",
            "           81538.1328, -56947.7305],\n",
            "         [ 10780.3613, -54271.6328, 115577.8281,  ...,  16445.3574,\n",
            "           81538.1328, -56947.7266],\n",
            "         [ 10780.3613, -54271.6328, 115577.8438,  ...,  16445.3574,\n",
            "           81538.1328, -56947.7305]],\n",
            "\n",
            "        [[ 10780.3613, -54271.6328, 115577.8281,  ...,  16445.3574,\n",
            "           81538.1328, -56947.7266],\n",
            "         [ 10780.3623, -54271.6289, 115577.8281,  ...,  16445.3574,\n",
            "           81538.1250, -56947.7266],\n",
            "         [ 10780.3604, -54271.6328, 115577.8281,  ...,  16445.3555,\n",
            "           81538.1328, -56947.7266],\n",
            "         ...,\n",
            "         [ 10780.3604, -54271.6406, 115577.8359,  ...,  16445.3574,\n",
            "           81538.1328, -56947.7266],\n",
            "         [ 10780.3604, -54271.6250, 115577.8281,  ...,  16445.3574,\n",
            "           81538.1250, -56947.7266],\n",
            "         [ 10780.3594, -54271.6328, 115577.8438,  ...,  16445.3574,\n",
            "           81538.1250, -56947.7266]]], grad_fn=<PermuteBackward0>)\n"
          ]
        }
      ]
    },
    {
      "cell_type": "code",
      "source": [
        "print(attn_weight) #attn_weight.shape - torch.Size([4, 49, 50])"
      ],
      "metadata": {
        "colab": {
          "base_uri": "https://localhost:8080/"
        },
        "id": "xmIV92WnJXxt",
        "outputId": "ce311aee-938d-4fc0-c4ad-569bf9f667cf"
      },
      "execution_count": null,
      "outputs": [
        {
          "output_type": "stream",
          "name": "stdout",
          "text": [
            "tensor([[[6.1926e-03, 6.1926e-03, 6.1926e-03,  ..., 6.1926e-03,\n",
            "          1.8136e-02, 1.8136e-02],\n",
            "         [6.8674e-03, 6.8674e-03, 6.8674e-03,  ..., 6.8674e-03,\n",
            "          1.9627e-01, 1.9627e-01],\n",
            "         [6.3872e-03, 6.3872e-03, 6.3872e-03,  ..., 6.3872e-03,\n",
            "          1.2545e-01, 1.2545e-01],\n",
            "         ...,\n",
            "         [6.5891e-03, 6.5891e-03, 6.5891e-03,  ..., 6.5891e-03,\n",
            "          8.2102e-02, 8.2102e-02],\n",
            "         [6.8075e-03, 6.8075e-03, 6.8075e-03,  ..., 6.8075e-03,\n",
            "          3.1145e-02, 3.1145e-02],\n",
            "         [5.8785e-03, 5.8785e-03, 5.8785e-03,  ..., 5.8785e-03,\n",
            "          5.8785e-03, 5.8785e-03]],\n",
            "\n",
            "        [[1.9291e-02, 1.9291e-02, 1.1526e-02,  ..., 1.9291e-02,\n",
            "          1.4107e-01, 1.8391e-02],\n",
            "         [1.1604e-02, 1.1604e-02, 3.6521e-03,  ..., 1.1604e-02,\n",
            "          4.0117e-01, 1.2931e-01],\n",
            "         [1.9084e-02, 1.9084e-02, 5.3491e-03,  ..., 1.9084e-02,\n",
            "          2.3448e-01, 5.8687e-04],\n",
            "         ...,\n",
            "         [1.5885e-02, 1.5885e-02, 4.7142e-03,  ..., 1.5885e-02,\n",
            "          3.5643e-01, 3.9572e-03],\n",
            "         [2.4504e-02, 2.4504e-02, 4.4880e-04,  ..., 2.4504e-02,\n",
            "          8.2067e-02, 6.3631e-03],\n",
            "         [2.0000e-02, 2.0000e-02, 2.0000e-02,  ..., 2.0000e-02,\n",
            "          2.0000e-02, 2.0000e-02]],\n",
            "\n",
            "        [[9.4982e-03, 9.4982e-03, 9.4982e-03,  ..., 6.9839e-03,\n",
            "          9.9218e-02, 4.9515e-01],\n",
            "         [2.5255e-02, 2.5255e-02, 2.5255e-02,  ..., 1.1249e-02,\n",
            "          6.0408e-03, 6.1828e-02],\n",
            "         [3.0120e-02, 3.0120e-02, 3.0120e-02,  ..., 7.4572e-03,\n",
            "          4.1947e-05, 7.4572e-03],\n",
            "         ...,\n",
            "         [2.3635e-02, 2.3635e-02, 2.3635e-02,  ..., 6.2196e-03,\n",
            "          1.0046e-01, 1.1338e-01],\n",
            "         [3.1600e-02, 3.1600e-02, 3.1600e-02,  ..., 5.6916e-03,\n",
            "          1.6531e-04, 1.2100e-03],\n",
            "         [3.3486e-02, 3.3486e-02, 3.3486e-02,  ..., 1.3771e-03,\n",
            "          1.3771e-03, 3.3486e-02]],\n",
            "\n",
            "        [[5.1228e-03, 5.1228e-03, 1.1705e-02,  ..., 5.1228e-03,\n",
            "          4.9571e-01, 1.3333e-01],\n",
            "         [3.3572e-03, 3.3572e-03, 4.6922e-02,  ..., 3.3572e-03,\n",
            "          1.0703e-02, 4.2582e-04],\n",
            "         [1.1140e-02, 1.1140e-02, 2.3878e-02,  ..., 1.1140e-02,\n",
            "          2.2248e-01, 7.6817e-04],\n",
            "         ...,\n",
            "         [4.0657e-03, 4.0657e-03, 3.4380e-02,  ..., 4.0657e-03,\n",
            "          2.2378e-01, 5.0956e-03],\n",
            "         [5.4024e-03, 5.4024e-03, 2.7348e-02,  ..., 5.4024e-03,\n",
            "          3.1020e-01, 1.3517e-02],\n",
            "         [8.0353e-03, 8.0353e-03, 3.7947e-02,  ..., 8.0353e-03,\n",
            "          3.7947e-02, 8.0353e-03]]], grad_fn=<MeanBackward1>)\n"
          ]
        }
      ]
    },
    {
      "cell_type": "code",
      "source": [
        "batch_size = 4\n",
        "dim = 256\n",
        "embeddings = torch.randn(batch_size, dim)\n",
        "out = embeddings @ embeddings.T\n",
        "print(F.softmax(out, dim=-1))\n",
        "print(out)"
      ],
      "metadata": {
        "colab": {
          "base_uri": "https://localhost:8080/"
        },
        "id": "cnn5jwIo2CuP",
        "outputId": "0c12d5aa-92f8-4171-a280-5ee0274a15fa"
      },
      "execution_count": null,
      "outputs": [
        {
          "output_type": "stream",
          "name": "stdout",
          "text": [
            "tensor([[1., 0., 0., 0.],\n",
            "        [0., 1., 0., 0.],\n",
            "        [0., 0., 1., 0.],\n",
            "        [0., 0., 0., 1.]])\n",
            "tensor([[253.2870,  25.3080,  15.6998,  16.5406],\n",
            "        [ 25.3080, 237.9690,  29.5491,  23.5128],\n",
            "        [ 15.6998,  29.5491, 257.6260,  -4.1907],\n",
            "        [ 16.5406,  23.5128,  -4.1907, 288.5559]])\n"
          ]
        }
      ]
    },
    {
      "cell_type": "code",
      "source": [
        "import torch\n",
        "from torch.nn import functional as F\n",
        "\n",
        "def contrastive_loss(txt_embedding, img_embedding, margin=1.0, temperature=0.5):\n",
        "  \"\"\"\n",
        "  Calculates Contrastive Loss for text and image pairs.\n",
        "\n",
        "  Args:\n",
        "    txt_embedding: Tensor of shape (batch_size, embedding_dim) - Text embeddings.\n",
        "    img_embedding: Tensor of shape (batch_size, embedding_dim) - Image embeddings.\n",
        "    margin: Float - Margin parameter for contrastive loss.\n",
        "    temperature: Float - Temperature parameter for softmax normalization.\n",
        "\n",
        "  Returns:\n",
        "    Tensor of shape (batch_size,) - Contrastive loss for each pair.\n",
        "  \"\"\"\n",
        "\n",
        "  # Compute pairwise cosine similarities\n",
        "  similarities = F.cosine_similarity(txt_embedding, img_embedding)\n",
        "  print(similarities)\n",
        "  # Create positive and negative mask\n",
        "  pos_mask = torch.eye(txt_embedding.size(0), device=txt_embedding.device).bool()\n",
        "  neg_mask = ~pos_mask\n",
        "\n",
        "\n",
        "  # Compute positive and negative logits\n",
        "  pos_logits = similarities / temperature\n",
        "  print(pos_logits.shape)\n",
        "  neg_logits = torch.logsumexp(similarities * neg_mask, dim=1, keepdim=True) / temperature\n",
        "  print(neg_logits.shape)\n",
        "  # Compute contrastive loss\n",
        "  loss = torch.mean(pos_logits + margin - neg_logits)\n",
        "\n",
        "  # Return average loss for each pair\n",
        "  return loss\n",
        "\n",
        "# Example usage\n",
        "batch_size = 4\n",
        "embedding_dim = 512\n",
        "\n",
        "txt_embedding = torch.randn(batch_size, embedding_dim)\n",
        "img_embedding = torch.randn(batch_size, embedding_dim)\n",
        "\n",
        "loss = contrastive_loss(txt_embedding, img_embedding)\n",
        "\n",
        "print(f\"Contrastive Loss: {loss:.4f}\")\n"
      ],
      "metadata": {
        "colab": {
          "base_uri": "https://localhost:8080/"
        },
        "id": "aQIwtJ84ENZc",
        "outputId": "251c892a-c6dc-4339-a026-86be7d7d2508"
      },
      "execution_count": 11,
      "outputs": [
        {
          "output_type": "stream",
          "name": "stdout",
          "text": [
            "tensor([ 0.0580, -0.0045,  0.0260,  0.0038])\n",
            "torch.Size([4])\n",
            "torch.Size([4, 1])\n",
            "Contrastive Loss: -1.7627\n"
          ]
        }
      ]
    }
  ]
}