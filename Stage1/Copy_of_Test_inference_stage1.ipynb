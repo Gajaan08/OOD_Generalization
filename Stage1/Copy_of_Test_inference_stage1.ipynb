{
  "nbformat": 4,
  "nbformat_minor": 0,
  "metadata": {
    "colab": {
      "provenance": []
    },
    "kernelspec": {
      "name": "python3",
      "display_name": "Python 3"
    },
    "language_info": {
      "name": "python"
    },
    "widgets": {
      "application/vnd.jupyter.widget-state+json": {
        "082ce47c2fc1462fba4e6a2b28ff6e36": {
          "model_module": "@jupyter-widgets/controls",
          "model_name": "HBoxModel",
          "model_module_version": "1.5.0",
          "state": {
            "_dom_classes": [],
            "_model_module": "@jupyter-widgets/controls",
            "_model_module_version": "1.5.0",
            "_model_name": "HBoxModel",
            "_view_count": null,
            "_view_module": "@jupyter-widgets/controls",
            "_view_module_version": "1.5.0",
            "_view_name": "HBoxView",
            "box_style": "",
            "children": [
              "IPY_MODEL_90219d1381a240d19176e3329854f0d0",
              "IPY_MODEL_c03bf0dde0ac478288553f9d3648a41e",
              "IPY_MODEL_8d8c8f3e2059421cb482970749970e63"
            ],
            "layout": "IPY_MODEL_aee1f8d7f51b4d198dbf6d09a23b9b40"
          }
        },
        "90219d1381a240d19176e3329854f0d0": {
          "model_module": "@jupyter-widgets/controls",
          "model_name": "HTMLModel",
          "model_module_version": "1.5.0",
          "state": {
            "_dom_classes": [],
            "_model_module": "@jupyter-widgets/controls",
            "_model_module_version": "1.5.0",
            "_model_name": "HTMLModel",
            "_view_count": null,
            "_view_module": "@jupyter-widgets/controls",
            "_view_module_version": "1.5.0",
            "_view_name": "HTMLView",
            "description": "",
            "description_tooltip": null,
            "layout": "IPY_MODEL_9ca369cbe08d4811b258b5cd5f67fdb2",
            "placeholder": "​",
            "style": "IPY_MODEL_d2d117b274f943118b334dcfd47cce68",
            "value": "Downloading (…)okenizer_config.json: 100%"
          }
        },
        "c03bf0dde0ac478288553f9d3648a41e": {
          "model_module": "@jupyter-widgets/controls",
          "model_name": "FloatProgressModel",
          "model_module_version": "1.5.0",
          "state": {
            "_dom_classes": [],
            "_model_module": "@jupyter-widgets/controls",
            "_model_module_version": "1.5.0",
            "_model_name": "FloatProgressModel",
            "_view_count": null,
            "_view_module": "@jupyter-widgets/controls",
            "_view_module_version": "1.5.0",
            "_view_name": "ProgressView",
            "bar_style": "success",
            "description": "",
            "description_tooltip": null,
            "layout": "IPY_MODEL_f0b1c00edd7a43c59c297eb48d7b74ce",
            "max": 28,
            "min": 0,
            "orientation": "horizontal",
            "style": "IPY_MODEL_11c72261fe1547e39e1b0147770dfb02",
            "value": 28
          }
        },
        "8d8c8f3e2059421cb482970749970e63": {
          "model_module": "@jupyter-widgets/controls",
          "model_name": "HTMLModel",
          "model_module_version": "1.5.0",
          "state": {
            "_dom_classes": [],
            "_model_module": "@jupyter-widgets/controls",
            "_model_module_version": "1.5.0",
            "_model_name": "HTMLModel",
            "_view_count": null,
            "_view_module": "@jupyter-widgets/controls",
            "_view_module_version": "1.5.0",
            "_view_name": "HTMLView",
            "description": "",
            "description_tooltip": null,
            "layout": "IPY_MODEL_d9f5a9a2c59b4625bd91fc0f6e6b0e0e",
            "placeholder": "​",
            "style": "IPY_MODEL_6a47267649434eb2a364ff0d60e6c8ec",
            "value": " 28.0/28.0 [00:00&lt;00:00, 395B/s]"
          }
        },
        "aee1f8d7f51b4d198dbf6d09a23b9b40": {
          "model_module": "@jupyter-widgets/base",
          "model_name": "LayoutModel",
          "model_module_version": "1.2.0",
          "state": {
            "_model_module": "@jupyter-widgets/base",
            "_model_module_version": "1.2.0",
            "_model_name": "LayoutModel",
            "_view_count": null,
            "_view_module": "@jupyter-widgets/base",
            "_view_module_version": "1.2.0",
            "_view_name": "LayoutView",
            "align_content": null,
            "align_items": null,
            "align_self": null,
            "border": null,
            "bottom": null,
            "display": null,
            "flex": null,
            "flex_flow": null,
            "grid_area": null,
            "grid_auto_columns": null,
            "grid_auto_flow": null,
            "grid_auto_rows": null,
            "grid_column": null,
            "grid_gap": null,
            "grid_row": null,
            "grid_template_areas": null,
            "grid_template_columns": null,
            "grid_template_rows": null,
            "height": null,
            "justify_content": null,
            "justify_items": null,
            "left": null,
            "margin": null,
            "max_height": null,
            "max_width": null,
            "min_height": null,
            "min_width": null,
            "object_fit": null,
            "object_position": null,
            "order": null,
            "overflow": null,
            "overflow_x": null,
            "overflow_y": null,
            "padding": null,
            "right": null,
            "top": null,
            "visibility": null,
            "width": null
          }
        },
        "9ca369cbe08d4811b258b5cd5f67fdb2": {
          "model_module": "@jupyter-widgets/base",
          "model_name": "LayoutModel",
          "model_module_version": "1.2.0",
          "state": {
            "_model_module": "@jupyter-widgets/base",
            "_model_module_version": "1.2.0",
            "_model_name": "LayoutModel",
            "_view_count": null,
            "_view_module": "@jupyter-widgets/base",
            "_view_module_version": "1.2.0",
            "_view_name": "LayoutView",
            "align_content": null,
            "align_items": null,
            "align_self": null,
            "border": null,
            "bottom": null,
            "display": null,
            "flex": null,
            "flex_flow": null,
            "grid_area": null,
            "grid_auto_columns": null,
            "grid_auto_flow": null,
            "grid_auto_rows": null,
            "grid_column": null,
            "grid_gap": null,
            "grid_row": null,
            "grid_template_areas": null,
            "grid_template_columns": null,
            "grid_template_rows": null,
            "height": null,
            "justify_content": null,
            "justify_items": null,
            "left": null,
            "margin": null,
            "max_height": null,
            "max_width": null,
            "min_height": null,
            "min_width": null,
            "object_fit": null,
            "object_position": null,
            "order": null,
            "overflow": null,
            "overflow_x": null,
            "overflow_y": null,
            "padding": null,
            "right": null,
            "top": null,
            "visibility": null,
            "width": null
          }
        },
        "d2d117b274f943118b334dcfd47cce68": {
          "model_module": "@jupyter-widgets/controls",
          "model_name": "DescriptionStyleModel",
          "model_module_version": "1.5.0",
          "state": {
            "_model_module": "@jupyter-widgets/controls",
            "_model_module_version": "1.5.0",
            "_model_name": "DescriptionStyleModel",
            "_view_count": null,
            "_view_module": "@jupyter-widgets/base",
            "_view_module_version": "1.2.0",
            "_view_name": "StyleView",
            "description_width": ""
          }
        },
        "f0b1c00edd7a43c59c297eb48d7b74ce": {
          "model_module": "@jupyter-widgets/base",
          "model_name": "LayoutModel",
          "model_module_version": "1.2.0",
          "state": {
            "_model_module": "@jupyter-widgets/base",
            "_model_module_version": "1.2.0",
            "_model_name": "LayoutModel",
            "_view_count": null,
            "_view_module": "@jupyter-widgets/base",
            "_view_module_version": "1.2.0",
            "_view_name": "LayoutView",
            "align_content": null,
            "align_items": null,
            "align_self": null,
            "border": null,
            "bottom": null,
            "display": null,
            "flex": null,
            "flex_flow": null,
            "grid_area": null,
            "grid_auto_columns": null,
            "grid_auto_flow": null,
            "grid_auto_rows": null,
            "grid_column": null,
            "grid_gap": null,
            "grid_row": null,
            "grid_template_areas": null,
            "grid_template_columns": null,
            "grid_template_rows": null,
            "height": null,
            "justify_content": null,
            "justify_items": null,
            "left": null,
            "margin": null,
            "max_height": null,
            "max_width": null,
            "min_height": null,
            "min_width": null,
            "object_fit": null,
            "object_position": null,
            "order": null,
            "overflow": null,
            "overflow_x": null,
            "overflow_y": null,
            "padding": null,
            "right": null,
            "top": null,
            "visibility": null,
            "width": null
          }
        },
        "11c72261fe1547e39e1b0147770dfb02": {
          "model_module": "@jupyter-widgets/controls",
          "model_name": "ProgressStyleModel",
          "model_module_version": "1.5.0",
          "state": {
            "_model_module": "@jupyter-widgets/controls",
            "_model_module_version": "1.5.0",
            "_model_name": "ProgressStyleModel",
            "_view_count": null,
            "_view_module": "@jupyter-widgets/base",
            "_view_module_version": "1.2.0",
            "_view_name": "StyleView",
            "bar_color": null,
            "description_width": ""
          }
        },
        "d9f5a9a2c59b4625bd91fc0f6e6b0e0e": {
          "model_module": "@jupyter-widgets/base",
          "model_name": "LayoutModel",
          "model_module_version": "1.2.0",
          "state": {
            "_model_module": "@jupyter-widgets/base",
            "_model_module_version": "1.2.0",
            "_model_name": "LayoutModel",
            "_view_count": null,
            "_view_module": "@jupyter-widgets/base",
            "_view_module_version": "1.2.0",
            "_view_name": "LayoutView",
            "align_content": null,
            "align_items": null,
            "align_self": null,
            "border": null,
            "bottom": null,
            "display": null,
            "flex": null,
            "flex_flow": null,
            "grid_area": null,
            "grid_auto_columns": null,
            "grid_auto_flow": null,
            "grid_auto_rows": null,
            "grid_column": null,
            "grid_gap": null,
            "grid_row": null,
            "grid_template_areas": null,
            "grid_template_columns": null,
            "grid_template_rows": null,
            "height": null,
            "justify_content": null,
            "justify_items": null,
            "left": null,
            "margin": null,
            "max_height": null,
            "max_width": null,
            "min_height": null,
            "min_width": null,
            "object_fit": null,
            "object_position": null,
            "order": null,
            "overflow": null,
            "overflow_x": null,
            "overflow_y": null,
            "padding": null,
            "right": null,
            "top": null,
            "visibility": null,
            "width": null
          }
        },
        "6a47267649434eb2a364ff0d60e6c8ec": {
          "model_module": "@jupyter-widgets/controls",
          "model_name": "DescriptionStyleModel",
          "model_module_version": "1.5.0",
          "state": {
            "_model_module": "@jupyter-widgets/controls",
            "_model_module_version": "1.5.0",
            "_model_name": "DescriptionStyleModel",
            "_view_count": null,
            "_view_module": "@jupyter-widgets/base",
            "_view_module_version": "1.2.0",
            "_view_name": "StyleView",
            "description_width": ""
          }
        },
        "76fc3661c07d4fc9a2c1c8c93a75277d": {
          "model_module": "@jupyter-widgets/controls",
          "model_name": "HBoxModel",
          "model_module_version": "1.5.0",
          "state": {
            "_dom_classes": [],
            "_model_module": "@jupyter-widgets/controls",
            "_model_module_version": "1.5.0",
            "_model_name": "HBoxModel",
            "_view_count": null,
            "_view_module": "@jupyter-widgets/controls",
            "_view_module_version": "1.5.0",
            "_view_name": "HBoxView",
            "box_style": "",
            "children": [
              "IPY_MODEL_feaf80972b9d4bce920ced7393e146d2",
              "IPY_MODEL_b14d7282f00f40c18aa90862c3cfdde8",
              "IPY_MODEL_c5d7194e8d8a4d17aa999ac959320b37"
            ],
            "layout": "IPY_MODEL_c14af494e36c4372aa890f50422ae63c"
          }
        },
        "feaf80972b9d4bce920ced7393e146d2": {
          "model_module": "@jupyter-widgets/controls",
          "model_name": "HTMLModel",
          "model_module_version": "1.5.0",
          "state": {
            "_dom_classes": [],
            "_model_module": "@jupyter-widgets/controls",
            "_model_module_version": "1.5.0",
            "_model_name": "HTMLModel",
            "_view_count": null,
            "_view_module": "@jupyter-widgets/controls",
            "_view_module_version": "1.5.0",
            "_view_name": "HTMLView",
            "description": "",
            "description_tooltip": null,
            "layout": "IPY_MODEL_4d6fbf2ce5de4d9fb66055a621a8cb73",
            "placeholder": "​",
            "style": "IPY_MODEL_aa2cc85ece144f7dab9b35b43aacb64e",
            "value": "Downloading (…)solve/main/vocab.txt: 100%"
          }
        },
        "b14d7282f00f40c18aa90862c3cfdde8": {
          "model_module": "@jupyter-widgets/controls",
          "model_name": "FloatProgressModel",
          "model_module_version": "1.5.0",
          "state": {
            "_dom_classes": [],
            "_model_module": "@jupyter-widgets/controls",
            "_model_module_version": "1.5.0",
            "_model_name": "FloatProgressModel",
            "_view_count": null,
            "_view_module": "@jupyter-widgets/controls",
            "_view_module_version": "1.5.0",
            "_view_name": "ProgressView",
            "bar_style": "success",
            "description": "",
            "description_tooltip": null,
            "layout": "IPY_MODEL_7d7f391bb86b4c0481c7bff4035b713d",
            "max": 231508,
            "min": 0,
            "orientation": "horizontal",
            "style": "IPY_MODEL_03b35f4bfb394b1c8353c24883b65eee",
            "value": 231508
          }
        },
        "c5d7194e8d8a4d17aa999ac959320b37": {
          "model_module": "@jupyter-widgets/controls",
          "model_name": "HTMLModel",
          "model_module_version": "1.5.0",
          "state": {
            "_dom_classes": [],
            "_model_module": "@jupyter-widgets/controls",
            "_model_module_version": "1.5.0",
            "_model_name": "HTMLModel",
            "_view_count": null,
            "_view_module": "@jupyter-widgets/controls",
            "_view_module_version": "1.5.0",
            "_view_name": "HTMLView",
            "description": "",
            "description_tooltip": null,
            "layout": "IPY_MODEL_9c7c2b1c256e455f8e3dea64cdbcd19b",
            "placeholder": "​",
            "style": "IPY_MODEL_8b216856f07743acadf0d66409222688",
            "value": " 232k/232k [00:00&lt;00:00, 3.21MB/s]"
          }
        },
        "c14af494e36c4372aa890f50422ae63c": {
          "model_module": "@jupyter-widgets/base",
          "model_name": "LayoutModel",
          "model_module_version": "1.2.0",
          "state": {
            "_model_module": "@jupyter-widgets/base",
            "_model_module_version": "1.2.0",
            "_model_name": "LayoutModel",
            "_view_count": null,
            "_view_module": "@jupyter-widgets/base",
            "_view_module_version": "1.2.0",
            "_view_name": "LayoutView",
            "align_content": null,
            "align_items": null,
            "align_self": null,
            "border": null,
            "bottom": null,
            "display": null,
            "flex": null,
            "flex_flow": null,
            "grid_area": null,
            "grid_auto_columns": null,
            "grid_auto_flow": null,
            "grid_auto_rows": null,
            "grid_column": null,
            "grid_gap": null,
            "grid_row": null,
            "grid_template_areas": null,
            "grid_template_columns": null,
            "grid_template_rows": null,
            "height": null,
            "justify_content": null,
            "justify_items": null,
            "left": null,
            "margin": null,
            "max_height": null,
            "max_width": null,
            "min_height": null,
            "min_width": null,
            "object_fit": null,
            "object_position": null,
            "order": null,
            "overflow": null,
            "overflow_x": null,
            "overflow_y": null,
            "padding": null,
            "right": null,
            "top": null,
            "visibility": null,
            "width": null
          }
        },
        "4d6fbf2ce5de4d9fb66055a621a8cb73": {
          "model_module": "@jupyter-widgets/base",
          "model_name": "LayoutModel",
          "model_module_version": "1.2.0",
          "state": {
            "_model_module": "@jupyter-widgets/base",
            "_model_module_version": "1.2.0",
            "_model_name": "LayoutModel",
            "_view_count": null,
            "_view_module": "@jupyter-widgets/base",
            "_view_module_version": "1.2.0",
            "_view_name": "LayoutView",
            "align_content": null,
            "align_items": null,
            "align_self": null,
            "border": null,
            "bottom": null,
            "display": null,
            "flex": null,
            "flex_flow": null,
            "grid_area": null,
            "grid_auto_columns": null,
            "grid_auto_flow": null,
            "grid_auto_rows": null,
            "grid_column": null,
            "grid_gap": null,
            "grid_row": null,
            "grid_template_areas": null,
            "grid_template_columns": null,
            "grid_template_rows": null,
            "height": null,
            "justify_content": null,
            "justify_items": null,
            "left": null,
            "margin": null,
            "max_height": null,
            "max_width": null,
            "min_height": null,
            "min_width": null,
            "object_fit": null,
            "object_position": null,
            "order": null,
            "overflow": null,
            "overflow_x": null,
            "overflow_y": null,
            "padding": null,
            "right": null,
            "top": null,
            "visibility": null,
            "width": null
          }
        },
        "aa2cc85ece144f7dab9b35b43aacb64e": {
          "model_module": "@jupyter-widgets/controls",
          "model_name": "DescriptionStyleModel",
          "model_module_version": "1.5.0",
          "state": {
            "_model_module": "@jupyter-widgets/controls",
            "_model_module_version": "1.5.0",
            "_model_name": "DescriptionStyleModel",
            "_view_count": null,
            "_view_module": "@jupyter-widgets/base",
            "_view_module_version": "1.2.0",
            "_view_name": "StyleView",
            "description_width": ""
          }
        },
        "7d7f391bb86b4c0481c7bff4035b713d": {
          "model_module": "@jupyter-widgets/base",
          "model_name": "LayoutModel",
          "model_module_version": "1.2.0",
          "state": {
            "_model_module": "@jupyter-widgets/base",
            "_model_module_version": "1.2.0",
            "_model_name": "LayoutModel",
            "_view_count": null,
            "_view_module": "@jupyter-widgets/base",
            "_view_module_version": "1.2.0",
            "_view_name": "LayoutView",
            "align_content": null,
            "align_items": null,
            "align_self": null,
            "border": null,
            "bottom": null,
            "display": null,
            "flex": null,
            "flex_flow": null,
            "grid_area": null,
            "grid_auto_columns": null,
            "grid_auto_flow": null,
            "grid_auto_rows": null,
            "grid_column": null,
            "grid_gap": null,
            "grid_row": null,
            "grid_template_areas": null,
            "grid_template_columns": null,
            "grid_template_rows": null,
            "height": null,
            "justify_content": null,
            "justify_items": null,
            "left": null,
            "margin": null,
            "max_height": null,
            "max_width": null,
            "min_height": null,
            "min_width": null,
            "object_fit": null,
            "object_position": null,
            "order": null,
            "overflow": null,
            "overflow_x": null,
            "overflow_y": null,
            "padding": null,
            "right": null,
            "top": null,
            "visibility": null,
            "width": null
          }
        },
        "03b35f4bfb394b1c8353c24883b65eee": {
          "model_module": "@jupyter-widgets/controls",
          "model_name": "ProgressStyleModel",
          "model_module_version": "1.5.0",
          "state": {
            "_model_module": "@jupyter-widgets/controls",
            "_model_module_version": "1.5.0",
            "_model_name": "ProgressStyleModel",
            "_view_count": null,
            "_view_module": "@jupyter-widgets/base",
            "_view_module_version": "1.2.0",
            "_view_name": "StyleView",
            "bar_color": null,
            "description_width": ""
          }
        },
        "9c7c2b1c256e455f8e3dea64cdbcd19b": {
          "model_module": "@jupyter-widgets/base",
          "model_name": "LayoutModel",
          "model_module_version": "1.2.0",
          "state": {
            "_model_module": "@jupyter-widgets/base",
            "_model_module_version": "1.2.0",
            "_model_name": "LayoutModel",
            "_view_count": null,
            "_view_module": "@jupyter-widgets/base",
            "_view_module_version": "1.2.0",
            "_view_name": "LayoutView",
            "align_content": null,
            "align_items": null,
            "align_self": null,
            "border": null,
            "bottom": null,
            "display": null,
            "flex": null,
            "flex_flow": null,
            "grid_area": null,
            "grid_auto_columns": null,
            "grid_auto_flow": null,
            "grid_auto_rows": null,
            "grid_column": null,
            "grid_gap": null,
            "grid_row": null,
            "grid_template_areas": null,
            "grid_template_columns": null,
            "grid_template_rows": null,
            "height": null,
            "justify_content": null,
            "justify_items": null,
            "left": null,
            "margin": null,
            "max_height": null,
            "max_width": null,
            "min_height": null,
            "min_width": null,
            "object_fit": null,
            "object_position": null,
            "order": null,
            "overflow": null,
            "overflow_x": null,
            "overflow_y": null,
            "padding": null,
            "right": null,
            "top": null,
            "visibility": null,
            "width": null
          }
        },
        "8b216856f07743acadf0d66409222688": {
          "model_module": "@jupyter-widgets/controls",
          "model_name": "DescriptionStyleModel",
          "model_module_version": "1.5.0",
          "state": {
            "_model_module": "@jupyter-widgets/controls",
            "_model_module_version": "1.5.0",
            "_model_name": "DescriptionStyleModel",
            "_view_count": null,
            "_view_module": "@jupyter-widgets/base",
            "_view_module_version": "1.2.0",
            "_view_name": "StyleView",
            "description_width": ""
          }
        },
        "cb132dca69564c69b7d1a3284b5d8c7a": {
          "model_module": "@jupyter-widgets/controls",
          "model_name": "HBoxModel",
          "model_module_version": "1.5.0",
          "state": {
            "_dom_classes": [],
            "_model_module": "@jupyter-widgets/controls",
            "_model_module_version": "1.5.0",
            "_model_name": "HBoxModel",
            "_view_count": null,
            "_view_module": "@jupyter-widgets/controls",
            "_view_module_version": "1.5.0",
            "_view_name": "HBoxView",
            "box_style": "",
            "children": [
              "IPY_MODEL_dd62c56df3aa4d688dc17be972a13186",
              "IPY_MODEL_503b02f7f8a6434e92499cf806c03790",
              "IPY_MODEL_157e3f5b185a44379b520d40ff270c9f"
            ],
            "layout": "IPY_MODEL_de987f84738540e5b8779a430379513b"
          }
        },
        "dd62c56df3aa4d688dc17be972a13186": {
          "model_module": "@jupyter-widgets/controls",
          "model_name": "HTMLModel",
          "model_module_version": "1.5.0",
          "state": {
            "_dom_classes": [],
            "_model_module": "@jupyter-widgets/controls",
            "_model_module_version": "1.5.0",
            "_model_name": "HTMLModel",
            "_view_count": null,
            "_view_module": "@jupyter-widgets/controls",
            "_view_module_version": "1.5.0",
            "_view_name": "HTMLView",
            "description": "",
            "description_tooltip": null,
            "layout": "IPY_MODEL_df3291cab6c74e919f96d91a1f1dfd65",
            "placeholder": "​",
            "style": "IPY_MODEL_2bb51c1810754910a1fab90dd59973e6",
            "value": "Downloading (…)/main/tokenizer.json: 100%"
          }
        },
        "503b02f7f8a6434e92499cf806c03790": {
          "model_module": "@jupyter-widgets/controls",
          "model_name": "FloatProgressModel",
          "model_module_version": "1.5.0",
          "state": {
            "_dom_classes": [],
            "_model_module": "@jupyter-widgets/controls",
            "_model_module_version": "1.5.0",
            "_model_name": "FloatProgressModel",
            "_view_count": null,
            "_view_module": "@jupyter-widgets/controls",
            "_view_module_version": "1.5.0",
            "_view_name": "ProgressView",
            "bar_style": "success",
            "description": "",
            "description_tooltip": null,
            "layout": "IPY_MODEL_d722a9720d0a4ff6936c448b7aa553ad",
            "max": 466062,
            "min": 0,
            "orientation": "horizontal",
            "style": "IPY_MODEL_8265930c05854cc7a3e25c0bf24c7695",
            "value": 466062
          }
        },
        "157e3f5b185a44379b520d40ff270c9f": {
          "model_module": "@jupyter-widgets/controls",
          "model_name": "HTMLModel",
          "model_module_version": "1.5.0",
          "state": {
            "_dom_classes": [],
            "_model_module": "@jupyter-widgets/controls",
            "_model_module_version": "1.5.0",
            "_model_name": "HTMLModel",
            "_view_count": null,
            "_view_module": "@jupyter-widgets/controls",
            "_view_module_version": "1.5.0",
            "_view_name": "HTMLView",
            "description": "",
            "description_tooltip": null,
            "layout": "IPY_MODEL_b7657a910c6a4f6caea0db499e5c086e",
            "placeholder": "​",
            "style": "IPY_MODEL_0bf3138ee68b4894b03442d142d4835c",
            "value": " 466k/466k [00:00&lt;00:00, 5.41MB/s]"
          }
        },
        "de987f84738540e5b8779a430379513b": {
          "model_module": "@jupyter-widgets/base",
          "model_name": "LayoutModel",
          "model_module_version": "1.2.0",
          "state": {
            "_model_module": "@jupyter-widgets/base",
            "_model_module_version": "1.2.0",
            "_model_name": "LayoutModel",
            "_view_count": null,
            "_view_module": "@jupyter-widgets/base",
            "_view_module_version": "1.2.0",
            "_view_name": "LayoutView",
            "align_content": null,
            "align_items": null,
            "align_self": null,
            "border": null,
            "bottom": null,
            "display": null,
            "flex": null,
            "flex_flow": null,
            "grid_area": null,
            "grid_auto_columns": null,
            "grid_auto_flow": null,
            "grid_auto_rows": null,
            "grid_column": null,
            "grid_gap": null,
            "grid_row": null,
            "grid_template_areas": null,
            "grid_template_columns": null,
            "grid_template_rows": null,
            "height": null,
            "justify_content": null,
            "justify_items": null,
            "left": null,
            "margin": null,
            "max_height": null,
            "max_width": null,
            "min_height": null,
            "min_width": null,
            "object_fit": null,
            "object_position": null,
            "order": null,
            "overflow": null,
            "overflow_x": null,
            "overflow_y": null,
            "padding": null,
            "right": null,
            "top": null,
            "visibility": null,
            "width": null
          }
        },
        "df3291cab6c74e919f96d91a1f1dfd65": {
          "model_module": "@jupyter-widgets/base",
          "model_name": "LayoutModel",
          "model_module_version": "1.2.0",
          "state": {
            "_model_module": "@jupyter-widgets/base",
            "_model_module_version": "1.2.0",
            "_model_name": "LayoutModel",
            "_view_count": null,
            "_view_module": "@jupyter-widgets/base",
            "_view_module_version": "1.2.0",
            "_view_name": "LayoutView",
            "align_content": null,
            "align_items": null,
            "align_self": null,
            "border": null,
            "bottom": null,
            "display": null,
            "flex": null,
            "flex_flow": null,
            "grid_area": null,
            "grid_auto_columns": null,
            "grid_auto_flow": null,
            "grid_auto_rows": null,
            "grid_column": null,
            "grid_gap": null,
            "grid_row": null,
            "grid_template_areas": null,
            "grid_template_columns": null,
            "grid_template_rows": null,
            "height": null,
            "justify_content": null,
            "justify_items": null,
            "left": null,
            "margin": null,
            "max_height": null,
            "max_width": null,
            "min_height": null,
            "min_width": null,
            "object_fit": null,
            "object_position": null,
            "order": null,
            "overflow": null,
            "overflow_x": null,
            "overflow_y": null,
            "padding": null,
            "right": null,
            "top": null,
            "visibility": null,
            "width": null
          }
        },
        "2bb51c1810754910a1fab90dd59973e6": {
          "model_module": "@jupyter-widgets/controls",
          "model_name": "DescriptionStyleModel",
          "model_module_version": "1.5.0",
          "state": {
            "_model_module": "@jupyter-widgets/controls",
            "_model_module_version": "1.5.0",
            "_model_name": "DescriptionStyleModel",
            "_view_count": null,
            "_view_module": "@jupyter-widgets/base",
            "_view_module_version": "1.2.0",
            "_view_name": "StyleView",
            "description_width": ""
          }
        },
        "d722a9720d0a4ff6936c448b7aa553ad": {
          "model_module": "@jupyter-widgets/base",
          "model_name": "LayoutModel",
          "model_module_version": "1.2.0",
          "state": {
            "_model_module": "@jupyter-widgets/base",
            "_model_module_version": "1.2.0",
            "_model_name": "LayoutModel",
            "_view_count": null,
            "_view_module": "@jupyter-widgets/base",
            "_view_module_version": "1.2.0",
            "_view_name": "LayoutView",
            "align_content": null,
            "align_items": null,
            "align_self": null,
            "border": null,
            "bottom": null,
            "display": null,
            "flex": null,
            "flex_flow": null,
            "grid_area": null,
            "grid_auto_columns": null,
            "grid_auto_flow": null,
            "grid_auto_rows": null,
            "grid_column": null,
            "grid_gap": null,
            "grid_row": null,
            "grid_template_areas": null,
            "grid_template_columns": null,
            "grid_template_rows": null,
            "height": null,
            "justify_content": null,
            "justify_items": null,
            "left": null,
            "margin": null,
            "max_height": null,
            "max_width": null,
            "min_height": null,
            "min_width": null,
            "object_fit": null,
            "object_position": null,
            "order": null,
            "overflow": null,
            "overflow_x": null,
            "overflow_y": null,
            "padding": null,
            "right": null,
            "top": null,
            "visibility": null,
            "width": null
          }
        },
        "8265930c05854cc7a3e25c0bf24c7695": {
          "model_module": "@jupyter-widgets/controls",
          "model_name": "ProgressStyleModel",
          "model_module_version": "1.5.0",
          "state": {
            "_model_module": "@jupyter-widgets/controls",
            "_model_module_version": "1.5.0",
            "_model_name": "ProgressStyleModel",
            "_view_count": null,
            "_view_module": "@jupyter-widgets/base",
            "_view_module_version": "1.2.0",
            "_view_name": "StyleView",
            "bar_color": null,
            "description_width": ""
          }
        },
        "b7657a910c6a4f6caea0db499e5c086e": {
          "model_module": "@jupyter-widgets/base",
          "model_name": "LayoutModel",
          "model_module_version": "1.2.0",
          "state": {
            "_model_module": "@jupyter-widgets/base",
            "_model_module_version": "1.2.0",
            "_model_name": "LayoutModel",
            "_view_count": null,
            "_view_module": "@jupyter-widgets/base",
            "_view_module_version": "1.2.0",
            "_view_name": "LayoutView",
            "align_content": null,
            "align_items": null,
            "align_self": null,
            "border": null,
            "bottom": null,
            "display": null,
            "flex": null,
            "flex_flow": null,
            "grid_area": null,
            "grid_auto_columns": null,
            "grid_auto_flow": null,
            "grid_auto_rows": null,
            "grid_column": null,
            "grid_gap": null,
            "grid_row": null,
            "grid_template_areas": null,
            "grid_template_columns": null,
            "grid_template_rows": null,
            "height": null,
            "justify_content": null,
            "justify_items": null,
            "left": null,
            "margin": null,
            "max_height": null,
            "max_width": null,
            "min_height": null,
            "min_width": null,
            "object_fit": null,
            "object_position": null,
            "order": null,
            "overflow": null,
            "overflow_x": null,
            "overflow_y": null,
            "padding": null,
            "right": null,
            "top": null,
            "visibility": null,
            "width": null
          }
        },
        "0bf3138ee68b4894b03442d142d4835c": {
          "model_module": "@jupyter-widgets/controls",
          "model_name": "DescriptionStyleModel",
          "model_module_version": "1.5.0",
          "state": {
            "_model_module": "@jupyter-widgets/controls",
            "_model_module_version": "1.5.0",
            "_model_name": "DescriptionStyleModel",
            "_view_count": null,
            "_view_module": "@jupyter-widgets/base",
            "_view_module_version": "1.2.0",
            "_view_name": "StyleView",
            "description_width": ""
          }
        },
        "27162bffa9ac4ed6bda9eb1f97f6ce4d": {
          "model_module": "@jupyter-widgets/controls",
          "model_name": "HBoxModel",
          "model_module_version": "1.5.0",
          "state": {
            "_dom_classes": [],
            "_model_module": "@jupyter-widgets/controls",
            "_model_module_version": "1.5.0",
            "_model_name": "HBoxModel",
            "_view_count": null,
            "_view_module": "@jupyter-widgets/controls",
            "_view_module_version": "1.5.0",
            "_view_name": "HBoxView",
            "box_style": "",
            "children": [
              "IPY_MODEL_087b48da782b405881b5d7e4c7713585",
              "IPY_MODEL_17c6f836440849639a4441780ede952a",
              "IPY_MODEL_8c71fcfa6dd64fd289cf79078f19ac09"
            ],
            "layout": "IPY_MODEL_b9e8fab26b1b44f4bfd8050e75cc2a2f"
          }
        },
        "087b48da782b405881b5d7e4c7713585": {
          "model_module": "@jupyter-widgets/controls",
          "model_name": "HTMLModel",
          "model_module_version": "1.5.0",
          "state": {
            "_dom_classes": [],
            "_model_module": "@jupyter-widgets/controls",
            "_model_module_version": "1.5.0",
            "_model_name": "HTMLModel",
            "_view_count": null,
            "_view_module": "@jupyter-widgets/controls",
            "_view_module_version": "1.5.0",
            "_view_name": "HTMLView",
            "description": "",
            "description_tooltip": null,
            "layout": "IPY_MODEL_30421207581b4a8d94e6837b12017a01",
            "placeholder": "​",
            "style": "IPY_MODEL_0111472749f24a15bec2ed40e9d1528d",
            "value": "Downloading (…)lve/main/config.json: 100%"
          }
        },
        "17c6f836440849639a4441780ede952a": {
          "model_module": "@jupyter-widgets/controls",
          "model_name": "FloatProgressModel",
          "model_module_version": "1.5.0",
          "state": {
            "_dom_classes": [],
            "_model_module": "@jupyter-widgets/controls",
            "_model_module_version": "1.5.0",
            "_model_name": "FloatProgressModel",
            "_view_count": null,
            "_view_module": "@jupyter-widgets/controls",
            "_view_module_version": "1.5.0",
            "_view_name": "ProgressView",
            "bar_style": "success",
            "description": "",
            "description_tooltip": null,
            "layout": "IPY_MODEL_e8d3433dae2843ec89a3754b6ca48a02",
            "max": 570,
            "min": 0,
            "orientation": "horizontal",
            "style": "IPY_MODEL_5df35c80b89e4b4d87b916a18feef30a",
            "value": 570
          }
        },
        "8c71fcfa6dd64fd289cf79078f19ac09": {
          "model_module": "@jupyter-widgets/controls",
          "model_name": "HTMLModel",
          "model_module_version": "1.5.0",
          "state": {
            "_dom_classes": [],
            "_model_module": "@jupyter-widgets/controls",
            "_model_module_version": "1.5.0",
            "_model_name": "HTMLModel",
            "_view_count": null,
            "_view_module": "@jupyter-widgets/controls",
            "_view_module_version": "1.5.0",
            "_view_name": "HTMLView",
            "description": "",
            "description_tooltip": null,
            "layout": "IPY_MODEL_9cf00a917da8489795d6d54795c8701c",
            "placeholder": "​",
            "style": "IPY_MODEL_65eff1bf0aed442ba88f313187cf86ac",
            "value": " 570/570 [00:00&lt;00:00, 12.8kB/s]"
          }
        },
        "b9e8fab26b1b44f4bfd8050e75cc2a2f": {
          "model_module": "@jupyter-widgets/base",
          "model_name": "LayoutModel",
          "model_module_version": "1.2.0",
          "state": {
            "_model_module": "@jupyter-widgets/base",
            "_model_module_version": "1.2.0",
            "_model_name": "LayoutModel",
            "_view_count": null,
            "_view_module": "@jupyter-widgets/base",
            "_view_module_version": "1.2.0",
            "_view_name": "LayoutView",
            "align_content": null,
            "align_items": null,
            "align_self": null,
            "border": null,
            "bottom": null,
            "display": null,
            "flex": null,
            "flex_flow": null,
            "grid_area": null,
            "grid_auto_columns": null,
            "grid_auto_flow": null,
            "grid_auto_rows": null,
            "grid_column": null,
            "grid_gap": null,
            "grid_row": null,
            "grid_template_areas": null,
            "grid_template_columns": null,
            "grid_template_rows": null,
            "height": null,
            "justify_content": null,
            "justify_items": null,
            "left": null,
            "margin": null,
            "max_height": null,
            "max_width": null,
            "min_height": null,
            "min_width": null,
            "object_fit": null,
            "object_position": null,
            "order": null,
            "overflow": null,
            "overflow_x": null,
            "overflow_y": null,
            "padding": null,
            "right": null,
            "top": null,
            "visibility": null,
            "width": null
          }
        },
        "30421207581b4a8d94e6837b12017a01": {
          "model_module": "@jupyter-widgets/base",
          "model_name": "LayoutModel",
          "model_module_version": "1.2.0",
          "state": {
            "_model_module": "@jupyter-widgets/base",
            "_model_module_version": "1.2.0",
            "_model_name": "LayoutModel",
            "_view_count": null,
            "_view_module": "@jupyter-widgets/base",
            "_view_module_version": "1.2.0",
            "_view_name": "LayoutView",
            "align_content": null,
            "align_items": null,
            "align_self": null,
            "border": null,
            "bottom": null,
            "display": null,
            "flex": null,
            "flex_flow": null,
            "grid_area": null,
            "grid_auto_columns": null,
            "grid_auto_flow": null,
            "grid_auto_rows": null,
            "grid_column": null,
            "grid_gap": null,
            "grid_row": null,
            "grid_template_areas": null,
            "grid_template_columns": null,
            "grid_template_rows": null,
            "height": null,
            "justify_content": null,
            "justify_items": null,
            "left": null,
            "margin": null,
            "max_height": null,
            "max_width": null,
            "min_height": null,
            "min_width": null,
            "object_fit": null,
            "object_position": null,
            "order": null,
            "overflow": null,
            "overflow_x": null,
            "overflow_y": null,
            "padding": null,
            "right": null,
            "top": null,
            "visibility": null,
            "width": null
          }
        },
        "0111472749f24a15bec2ed40e9d1528d": {
          "model_module": "@jupyter-widgets/controls",
          "model_name": "DescriptionStyleModel",
          "model_module_version": "1.5.0",
          "state": {
            "_model_module": "@jupyter-widgets/controls",
            "_model_module_version": "1.5.0",
            "_model_name": "DescriptionStyleModel",
            "_view_count": null,
            "_view_module": "@jupyter-widgets/base",
            "_view_module_version": "1.2.0",
            "_view_name": "StyleView",
            "description_width": ""
          }
        },
        "e8d3433dae2843ec89a3754b6ca48a02": {
          "model_module": "@jupyter-widgets/base",
          "model_name": "LayoutModel",
          "model_module_version": "1.2.0",
          "state": {
            "_model_module": "@jupyter-widgets/base",
            "_model_module_version": "1.2.0",
            "_model_name": "LayoutModel",
            "_view_count": null,
            "_view_module": "@jupyter-widgets/base",
            "_view_module_version": "1.2.0",
            "_view_name": "LayoutView",
            "align_content": null,
            "align_items": null,
            "align_self": null,
            "border": null,
            "bottom": null,
            "display": null,
            "flex": null,
            "flex_flow": null,
            "grid_area": null,
            "grid_auto_columns": null,
            "grid_auto_flow": null,
            "grid_auto_rows": null,
            "grid_column": null,
            "grid_gap": null,
            "grid_row": null,
            "grid_template_areas": null,
            "grid_template_columns": null,
            "grid_template_rows": null,
            "height": null,
            "justify_content": null,
            "justify_items": null,
            "left": null,
            "margin": null,
            "max_height": null,
            "max_width": null,
            "min_height": null,
            "min_width": null,
            "object_fit": null,
            "object_position": null,
            "order": null,
            "overflow": null,
            "overflow_x": null,
            "overflow_y": null,
            "padding": null,
            "right": null,
            "top": null,
            "visibility": null,
            "width": null
          }
        },
        "5df35c80b89e4b4d87b916a18feef30a": {
          "model_module": "@jupyter-widgets/controls",
          "model_name": "ProgressStyleModel",
          "model_module_version": "1.5.0",
          "state": {
            "_model_module": "@jupyter-widgets/controls",
            "_model_module_version": "1.5.0",
            "_model_name": "ProgressStyleModel",
            "_view_count": null,
            "_view_module": "@jupyter-widgets/base",
            "_view_module_version": "1.2.0",
            "_view_name": "StyleView",
            "bar_color": null,
            "description_width": ""
          }
        },
        "9cf00a917da8489795d6d54795c8701c": {
          "model_module": "@jupyter-widgets/base",
          "model_name": "LayoutModel",
          "model_module_version": "1.2.0",
          "state": {
            "_model_module": "@jupyter-widgets/base",
            "_model_module_version": "1.2.0",
            "_model_name": "LayoutModel",
            "_view_count": null,
            "_view_module": "@jupyter-widgets/base",
            "_view_module_version": "1.2.0",
            "_view_name": "LayoutView",
            "align_content": null,
            "align_items": null,
            "align_self": null,
            "border": null,
            "bottom": null,
            "display": null,
            "flex": null,
            "flex_flow": null,
            "grid_area": null,
            "grid_auto_columns": null,
            "grid_auto_flow": null,
            "grid_auto_rows": null,
            "grid_column": null,
            "grid_gap": null,
            "grid_row": null,
            "grid_template_areas": null,
            "grid_template_columns": null,
            "grid_template_rows": null,
            "height": null,
            "justify_content": null,
            "justify_items": null,
            "left": null,
            "margin": null,
            "max_height": null,
            "max_width": null,
            "min_height": null,
            "min_width": null,
            "object_fit": null,
            "object_position": null,
            "order": null,
            "overflow": null,
            "overflow_x": null,
            "overflow_y": null,
            "padding": null,
            "right": null,
            "top": null,
            "visibility": null,
            "width": null
          }
        },
        "65eff1bf0aed442ba88f313187cf86ac": {
          "model_module": "@jupyter-widgets/controls",
          "model_name": "DescriptionStyleModel",
          "model_module_version": "1.5.0",
          "state": {
            "_model_module": "@jupyter-widgets/controls",
            "_model_module_version": "1.5.0",
            "_model_name": "DescriptionStyleModel",
            "_view_count": null,
            "_view_module": "@jupyter-widgets/base",
            "_view_module_version": "1.2.0",
            "_view_name": "StyleView",
            "description_width": ""
          }
        },
        "46d46c16a39149fa9c9f3d33abe03b00": {
          "model_module": "@jupyter-widgets/controls",
          "model_name": "HBoxModel",
          "model_module_version": "1.5.0",
          "state": {
            "_dom_classes": [],
            "_model_module": "@jupyter-widgets/controls",
            "_model_module_version": "1.5.0",
            "_model_name": "HBoxModel",
            "_view_count": null,
            "_view_module": "@jupyter-widgets/controls",
            "_view_module_version": "1.5.0",
            "_view_name": "HBoxView",
            "box_style": "",
            "children": [
              "IPY_MODEL_392d5fa3630e49c5890f52d97d646ce0",
              "IPY_MODEL_ab051f4ad64744f8ba19bb8c3b5355b6",
              "IPY_MODEL_4e8f0ba9e1264205b2c2ba5168821d83"
            ],
            "layout": "IPY_MODEL_7e6ae700865545ca8798ae6d66ca5040"
          }
        },
        "392d5fa3630e49c5890f52d97d646ce0": {
          "model_module": "@jupyter-widgets/controls",
          "model_name": "HTMLModel",
          "model_module_version": "1.5.0",
          "state": {
            "_dom_classes": [],
            "_model_module": "@jupyter-widgets/controls",
            "_model_module_version": "1.5.0",
            "_model_name": "HTMLModel",
            "_view_count": null,
            "_view_module": "@jupyter-widgets/controls",
            "_view_module_version": "1.5.0",
            "_view_name": "HTMLView",
            "description": "",
            "description_tooltip": null,
            "layout": "IPY_MODEL_235d7f6b040542d8b96e2e3de14c482f",
            "placeholder": "​",
            "style": "IPY_MODEL_51e10af73b98487c98ff125857e3ed3d",
            "value": "Downloading model.safetensors: 100%"
          }
        },
        "ab051f4ad64744f8ba19bb8c3b5355b6": {
          "model_module": "@jupyter-widgets/controls",
          "model_name": "FloatProgressModel",
          "model_module_version": "1.5.0",
          "state": {
            "_dom_classes": [],
            "_model_module": "@jupyter-widgets/controls",
            "_model_module_version": "1.5.0",
            "_model_name": "FloatProgressModel",
            "_view_count": null,
            "_view_module": "@jupyter-widgets/controls",
            "_view_module_version": "1.5.0",
            "_view_name": "ProgressView",
            "bar_style": "success",
            "description": "",
            "description_tooltip": null,
            "layout": "IPY_MODEL_60caebecb04e4423b4a0880b7b475836",
            "max": 440449768,
            "min": 0,
            "orientation": "horizontal",
            "style": "IPY_MODEL_25fd01c4ccba45c39d44f6e3b633c134",
            "value": 440449768
          }
        },
        "4e8f0ba9e1264205b2c2ba5168821d83": {
          "model_module": "@jupyter-widgets/controls",
          "model_name": "HTMLModel",
          "model_module_version": "1.5.0",
          "state": {
            "_dom_classes": [],
            "_model_module": "@jupyter-widgets/controls",
            "_model_module_version": "1.5.0",
            "_model_name": "HTMLModel",
            "_view_count": null,
            "_view_module": "@jupyter-widgets/controls",
            "_view_module_version": "1.5.0",
            "_view_name": "HTMLView",
            "description": "",
            "description_tooltip": null,
            "layout": "IPY_MODEL_68bf151a49f947d9861d8b93b0ef59e9",
            "placeholder": "​",
            "style": "IPY_MODEL_2854729881214bec9d3fe5a092761295",
            "value": " 440M/440M [00:03&lt;00:00, 190MB/s]"
          }
        },
        "7e6ae700865545ca8798ae6d66ca5040": {
          "model_module": "@jupyter-widgets/base",
          "model_name": "LayoutModel",
          "model_module_version": "1.2.0",
          "state": {
            "_model_module": "@jupyter-widgets/base",
            "_model_module_version": "1.2.0",
            "_model_name": "LayoutModel",
            "_view_count": null,
            "_view_module": "@jupyter-widgets/base",
            "_view_module_version": "1.2.0",
            "_view_name": "LayoutView",
            "align_content": null,
            "align_items": null,
            "align_self": null,
            "border": null,
            "bottom": null,
            "display": null,
            "flex": null,
            "flex_flow": null,
            "grid_area": null,
            "grid_auto_columns": null,
            "grid_auto_flow": null,
            "grid_auto_rows": null,
            "grid_column": null,
            "grid_gap": null,
            "grid_row": null,
            "grid_template_areas": null,
            "grid_template_columns": null,
            "grid_template_rows": null,
            "height": null,
            "justify_content": null,
            "justify_items": null,
            "left": null,
            "margin": null,
            "max_height": null,
            "max_width": null,
            "min_height": null,
            "min_width": null,
            "object_fit": null,
            "object_position": null,
            "order": null,
            "overflow": null,
            "overflow_x": null,
            "overflow_y": null,
            "padding": null,
            "right": null,
            "top": null,
            "visibility": null,
            "width": null
          }
        },
        "235d7f6b040542d8b96e2e3de14c482f": {
          "model_module": "@jupyter-widgets/base",
          "model_name": "LayoutModel",
          "model_module_version": "1.2.0",
          "state": {
            "_model_module": "@jupyter-widgets/base",
            "_model_module_version": "1.2.0",
            "_model_name": "LayoutModel",
            "_view_count": null,
            "_view_module": "@jupyter-widgets/base",
            "_view_module_version": "1.2.0",
            "_view_name": "LayoutView",
            "align_content": null,
            "align_items": null,
            "align_self": null,
            "border": null,
            "bottom": null,
            "display": null,
            "flex": null,
            "flex_flow": null,
            "grid_area": null,
            "grid_auto_columns": null,
            "grid_auto_flow": null,
            "grid_auto_rows": null,
            "grid_column": null,
            "grid_gap": null,
            "grid_row": null,
            "grid_template_areas": null,
            "grid_template_columns": null,
            "grid_template_rows": null,
            "height": null,
            "justify_content": null,
            "justify_items": null,
            "left": null,
            "margin": null,
            "max_height": null,
            "max_width": null,
            "min_height": null,
            "min_width": null,
            "object_fit": null,
            "object_position": null,
            "order": null,
            "overflow": null,
            "overflow_x": null,
            "overflow_y": null,
            "padding": null,
            "right": null,
            "top": null,
            "visibility": null,
            "width": null
          }
        },
        "51e10af73b98487c98ff125857e3ed3d": {
          "model_module": "@jupyter-widgets/controls",
          "model_name": "DescriptionStyleModel",
          "model_module_version": "1.5.0",
          "state": {
            "_model_module": "@jupyter-widgets/controls",
            "_model_module_version": "1.5.0",
            "_model_name": "DescriptionStyleModel",
            "_view_count": null,
            "_view_module": "@jupyter-widgets/base",
            "_view_module_version": "1.2.0",
            "_view_name": "StyleView",
            "description_width": ""
          }
        },
        "60caebecb04e4423b4a0880b7b475836": {
          "model_module": "@jupyter-widgets/base",
          "model_name": "LayoutModel",
          "model_module_version": "1.2.0",
          "state": {
            "_model_module": "@jupyter-widgets/base",
            "_model_module_version": "1.2.0",
            "_model_name": "LayoutModel",
            "_view_count": null,
            "_view_module": "@jupyter-widgets/base",
            "_view_module_version": "1.2.0",
            "_view_name": "LayoutView",
            "align_content": null,
            "align_items": null,
            "align_self": null,
            "border": null,
            "bottom": null,
            "display": null,
            "flex": null,
            "flex_flow": null,
            "grid_area": null,
            "grid_auto_columns": null,
            "grid_auto_flow": null,
            "grid_auto_rows": null,
            "grid_column": null,
            "grid_gap": null,
            "grid_row": null,
            "grid_template_areas": null,
            "grid_template_columns": null,
            "grid_template_rows": null,
            "height": null,
            "justify_content": null,
            "justify_items": null,
            "left": null,
            "margin": null,
            "max_height": null,
            "max_width": null,
            "min_height": null,
            "min_width": null,
            "object_fit": null,
            "object_position": null,
            "order": null,
            "overflow": null,
            "overflow_x": null,
            "overflow_y": null,
            "padding": null,
            "right": null,
            "top": null,
            "visibility": null,
            "width": null
          }
        },
        "25fd01c4ccba45c39d44f6e3b633c134": {
          "model_module": "@jupyter-widgets/controls",
          "model_name": "ProgressStyleModel",
          "model_module_version": "1.5.0",
          "state": {
            "_model_module": "@jupyter-widgets/controls",
            "_model_module_version": "1.5.0",
            "_model_name": "ProgressStyleModel",
            "_view_count": null,
            "_view_module": "@jupyter-widgets/base",
            "_view_module_version": "1.2.0",
            "_view_name": "StyleView",
            "bar_color": null,
            "description_width": ""
          }
        },
        "68bf151a49f947d9861d8b93b0ef59e9": {
          "model_module": "@jupyter-widgets/base",
          "model_name": "LayoutModel",
          "model_module_version": "1.2.0",
          "state": {
            "_model_module": "@jupyter-widgets/base",
            "_model_module_version": "1.2.0",
            "_model_name": "LayoutModel",
            "_view_count": null,
            "_view_module": "@jupyter-widgets/base",
            "_view_module_version": "1.2.0",
            "_view_name": "LayoutView",
            "align_content": null,
            "align_items": null,
            "align_self": null,
            "border": null,
            "bottom": null,
            "display": null,
            "flex": null,
            "flex_flow": null,
            "grid_area": null,
            "grid_auto_columns": null,
            "grid_auto_flow": null,
            "grid_auto_rows": null,
            "grid_column": null,
            "grid_gap": null,
            "grid_row": null,
            "grid_template_areas": null,
            "grid_template_columns": null,
            "grid_template_rows": null,
            "height": null,
            "justify_content": null,
            "justify_items": null,
            "left": null,
            "margin": null,
            "max_height": null,
            "max_width": null,
            "min_height": null,
            "min_width": null,
            "object_fit": null,
            "object_position": null,
            "order": null,
            "overflow": null,
            "overflow_x": null,
            "overflow_y": null,
            "padding": null,
            "right": null,
            "top": null,
            "visibility": null,
            "width": null
          }
        },
        "2854729881214bec9d3fe5a092761295": {
          "model_module": "@jupyter-widgets/controls",
          "model_name": "DescriptionStyleModel",
          "model_module_version": "1.5.0",
          "state": {
            "_model_module": "@jupyter-widgets/controls",
            "_model_module_version": "1.5.0",
            "_model_name": "DescriptionStyleModel",
            "_view_count": null,
            "_view_module": "@jupyter-widgets/base",
            "_view_module_version": "1.2.0",
            "_view_name": "StyleView",
            "description_width": ""
          }
        }
      }
    }
  },
  "cells": [
    {
      "cell_type": "code",
      "source": [
        "!pip install transformers"
      ],
      "metadata": {
        "colab": {
          "base_uri": "https://localhost:8080/"
        },
        "id": "Hbj_PjuBpTPE",
        "outputId": "e772f967-ac65-4b05-fb5d-701d7e3c71af"
      },
      "execution_count": null,
      "outputs": [
        {
          "output_type": "stream",
          "name": "stdout",
          "text": [
            "Collecting transformers\n",
            "  Downloading transformers-4.34.1-py3-none-any.whl (7.7 MB)\n",
            "\u001b[2K     \u001b[90m━━━━━━━━━━━━━━━━━━━━━━━━━━━━━━━━━━━━━━━━\u001b[0m \u001b[32m7.7/7.7 MB\u001b[0m \u001b[31m53.5 MB/s\u001b[0m eta \u001b[36m0:00:00\u001b[0m\n",
            "\u001b[?25hRequirement already satisfied: filelock in /usr/local/lib/python3.10/dist-packages (from transformers) (3.12.4)\n",
            "Collecting huggingface-hub<1.0,>=0.16.4 (from transformers)\n",
            "  Downloading huggingface_hub-0.18.0-py3-none-any.whl (301 kB)\n",
            "\u001b[2K     \u001b[90m━━━━━━━━━━━━━━━━━━━━━━━━━━━━━━━━━━━━━━━━\u001b[0m \u001b[32m302.0/302.0 kB\u001b[0m \u001b[31m30.9 MB/s\u001b[0m eta \u001b[36m0:00:00\u001b[0m\n",
            "\u001b[?25hRequirement already satisfied: numpy>=1.17 in /usr/local/lib/python3.10/dist-packages (from transformers) (1.23.5)\n",
            "Requirement already satisfied: packaging>=20.0 in /usr/local/lib/python3.10/dist-packages (from transformers) (23.2)\n",
            "Requirement already satisfied: pyyaml>=5.1 in /usr/local/lib/python3.10/dist-packages (from transformers) (6.0.1)\n",
            "Requirement already satisfied: regex!=2019.12.17 in /usr/local/lib/python3.10/dist-packages (from transformers) (2023.6.3)\n",
            "Requirement already satisfied: requests in /usr/local/lib/python3.10/dist-packages (from transformers) (2.31.0)\n",
            "Collecting tokenizers<0.15,>=0.14 (from transformers)\n",
            "  Downloading tokenizers-0.14.1-cp310-cp310-manylinux_2_17_x86_64.manylinux2014_x86_64.whl (3.8 MB)\n",
            "\u001b[2K     \u001b[90m━━━━━━━━━━━━━━━━━━━━━━━━━━━━━━━━━━━━━━━━\u001b[0m \u001b[32m3.8/3.8 MB\u001b[0m \u001b[31m106.4 MB/s\u001b[0m eta \u001b[36m0:00:00\u001b[0m\n",
            "\u001b[?25hCollecting safetensors>=0.3.1 (from transformers)\n",
            "  Downloading safetensors-0.4.0-cp310-cp310-manylinux_2_17_x86_64.manylinux2014_x86_64.whl (1.3 MB)\n",
            "\u001b[2K     \u001b[90m━━━━━━━━━━━━━━━━━━━━━━━━━━━━━━━━━━━━━━━━\u001b[0m \u001b[32m1.3/1.3 MB\u001b[0m \u001b[31m92.2 MB/s\u001b[0m eta \u001b[36m0:00:00\u001b[0m\n",
            "\u001b[?25hRequirement already satisfied: tqdm>=4.27 in /usr/local/lib/python3.10/dist-packages (from transformers) (4.66.1)\n",
            "Requirement already satisfied: fsspec>=2023.5.0 in /usr/local/lib/python3.10/dist-packages (from huggingface-hub<1.0,>=0.16.4->transformers) (2023.6.0)\n",
            "Requirement already satisfied: typing-extensions>=3.7.4.3 in /usr/local/lib/python3.10/dist-packages (from huggingface-hub<1.0,>=0.16.4->transformers) (4.5.0)\n",
            "Collecting huggingface-hub<1.0,>=0.16.4 (from transformers)\n",
            "  Downloading huggingface_hub-0.17.3-py3-none-any.whl (295 kB)\n",
            "\u001b[2K     \u001b[90m━━━━━━━━━━━━━━━━━━━━━━━━━━━━━━━━━━━━━━━━\u001b[0m \u001b[32m295.0/295.0 kB\u001b[0m \u001b[31m40.0 MB/s\u001b[0m eta \u001b[36m0:00:00\u001b[0m\n",
            "\u001b[?25hRequirement already satisfied: charset-normalizer<4,>=2 in /usr/local/lib/python3.10/dist-packages (from requests->transformers) (3.3.0)\n",
            "Requirement already satisfied: idna<4,>=2.5 in /usr/local/lib/python3.10/dist-packages (from requests->transformers) (3.4)\n",
            "Requirement already satisfied: urllib3<3,>=1.21.1 in /usr/local/lib/python3.10/dist-packages (from requests->transformers) (2.0.7)\n",
            "Requirement already satisfied: certifi>=2017.4.17 in /usr/local/lib/python3.10/dist-packages (from requests->transformers) (2023.7.22)\n",
            "Installing collected packages: safetensors, huggingface-hub, tokenizers, transformers\n",
            "Successfully installed huggingface-hub-0.17.3 safetensors-0.4.0 tokenizers-0.14.1 transformers-4.34.1\n"
          ]
        }
      ]
    },
    {
      "cell_type": "code",
      "source": [
        "from google.colab import drive\n",
        "drive.mount('/content/drive')"
      ],
      "metadata": {
        "colab": {
          "base_uri": "https://localhost:8080/"
        },
        "id": "PvTPCW6Sb0ee",
        "outputId": "e3921cc9-157f-43c7-aa75-2f8f252e5082"
      },
      "execution_count": null,
      "outputs": [
        {
          "output_type": "stream",
          "name": "stdout",
          "text": [
            "Mounted at /content/drive\n"
          ]
        }
      ]
    },
    {
      "cell_type": "code",
      "source": [
        "import torch\n",
        "import torch.nn as nn\n",
        "import torch.nn.functional as F\n",
        "import torchvision\n",
        "import torchvision.models as models\n",
        "from torchvision.models import resnet34\n",
        "from torchvision.transforms import ToTensor\n",
        "from transformers import BertModel, BertTokenizer\n",
        "from torchvision import transforms\n",
        "from PIL import Image\n",
        "\n",
        "class TextEncoder(nn.Module):\n",
        "    def __init__(self, max_length=30):\n",
        "        super(TextEncoder, self).__init__()\n",
        "        # Text feature extraction module (BERT)\n",
        "        # Load the pretrained BERT model and tokenizer\n",
        "        self.tokenizer = BertTokenizer.from_pretrained(\"bert-base-uncased\")\n",
        "        self.bert_model = BertModel.from_pretrained(\"bert-base-uncased\")\n",
        "        self.bert_model = self.bert_model.to(\"cuda:0\")\n",
        "        self.max_length = max_length\n",
        "\n",
        "        self.gru = nn.GRU(\n",
        "            input_size=768, hidden_size=256, bidirectional=True, batch_first=True\n",
        "        )\n",
        "        self.gru = self.gru.to(\"cuda:0\")\n",
        "\n",
        "    def forward(self, tokenized_statements):\n",
        "        # Get BERT embeddings for the input statements\n",
        "        with torch.no_grad():\n",
        "            outputs = self.bert_model(tokenized_statements)\n",
        "\n",
        "        # Extract word vectors\n",
        "        word_vectors = outputs.last_hidden_state\n",
        "\n",
        "        # Forward pass through the GRU\n",
        "        text_embeddings, _ = self.gru(word_vectors)\n",
        "\n",
        "        return text_embeddings\n",
        "\n",
        "\n",
        "# Define the ProjectionHead class\n",
        "class ProjectionHead(nn.Module):\n",
        "    def __init__(\n",
        "        self,\n",
        "        embedding_dim,\n",
        "        projection_dim=512,  # Update the projection dimension\n",
        "        dropout=0.1,\n",
        "    ):\n",
        "        super(ProjectionHead, self).__init__()  # Correct usage of super()\n",
        "        self.projection = nn.Linear(embedding_dim, projection_dim)\n",
        "        self.gelu = nn.GELU()\n",
        "        self.fc = nn.Linear(projection_dim, projection_dim)\n",
        "        self.dropout = nn.Dropout(dropout)\n",
        "        self.layer_norm = nn.LayerNorm(projection_dim)\n",
        "\n",
        "    def forward(self, x):\n",
        "        projected = self.projection(x)\n",
        "        x = self.gelu(projected)\n",
        "        x = self.fc(x)\n",
        "        x = self.dropout(x)\n",
        "        x = x + projected  # skip connection\n",
        "        x = self.layer_norm(x)  # Layer Normalization\n",
        "        return x\n",
        "\n",
        "\n",
        "# Cross-Attention module\n",
        "class CrossAttentionLayer(nn.Module):\n",
        "    def __init__(self, embed_dim, num_heads):\n",
        "        super(CrossAttentionLayer, self).__init__()\n",
        "\n",
        "        self.embed_dim = embed_dim\n",
        "        self.num_heads = num_heads\n",
        "        self.multihead_atten = nn.MultiheadAttention(embed_dim, num_heads)\n",
        "\n",
        "    def forward(self, image_features, text_features):\n",
        "        key = text_features\n",
        "        value = text_features\n",
        "        query = image_features\n",
        "        attn_output, attn_output_weights = self.multihead_atten(query, key, value)\n",
        "\n",
        "        return attn_output, attn_output_weights\n",
        "\n",
        "\n",
        "def cosine_similarity(attn_out, text_embed):\n",
        "    # Create a 4x4 similarity matrix\n",
        "    dim = len(attn_out)\n",
        "    similarity_matrix = torch.zeros(dim, dim)\n",
        "\n",
        "    for i in range(dim):\n",
        "        for j in range(dim):\n",
        "            similarity = F.cosine_similarity(attn_out[i], text_embed[j], dim=0)\n",
        "            similarity_matrix[i, j] = similarity\n",
        "\n",
        "    # Print the similarity matrix\n",
        "    return similarity_matrix\n",
        "\n",
        "\n",
        "class DOGS(nn.Module):\n",
        "    def __init__(self, embedding_dim=512):\n",
        "        super(DOGS, self).__init__()\n",
        "\n",
        "        # Image feature extraction module (ResNet152)\n",
        "        self.image_encoder = models.resnet50(pretrained=True)\n",
        "        # self.image_encoder = self.image_encoder.to('cuda:0')  # Move the ResNet model to GPU\n",
        "\n",
        "        self.image_encoder = nn.Sequential(*list(self.image_encoder.children())[:-2])\n",
        "        # self.image_encoder = self.image_encoder.to('cuda:0')  # Move the ResNet model to GPU\n",
        "\n",
        "        self.text_encoder = TextEncoder(max_length=30)\n",
        "        self.projection_head = ProjectionHead(2048, projection_dim=512, dropout=0.1)\n",
        "        # Cross-attention module\n",
        "        self.cross_attention = CrossAttentionLayer(embedding_dim, num_heads=4)\n",
        "\n",
        "    def forward(self, images, statements):\n",
        "        # Image feature extraction\n",
        "        image_features = self.image_encoder(images)\n",
        "        image_embedding = image_features.squeeze(0)\n",
        "\n",
        "        text_embeddings = self.text_encoder(statements)\n",
        "        text_embed = text_embeddings.permute(1, 0, 2)\n",
        "\n",
        "        # flatten the kernel features\n",
        "        image_embedding = image_embedding.view(len(image_embedding), 2048, 49)\n",
        "        # reshape the image embedding [num_region, batch_size, embed_dim]\n",
        "        image_embedding = image_embedding.permute(0, 2, 1)\n",
        "        image_embedding = self.projection_head(image_embedding)\n",
        "        image_embedding = image_embedding.permute(1, 0, 2)\n",
        "\n",
        "        # Cross-attention\n",
        "        attn_output, attn_output_weights = self.cross_attention(\n",
        "            image_embedding, text_embed\n",
        "        )\n",
        "\n",
        "        # Perform average pooling\n",
        "        avg_attn_output = torch.mean(attn_output, dim=0)\n",
        "        # Perform average pooling\n",
        "        avg_text_embeddings = torch.mean(text_embeddings, dim=1)\n",
        "\n",
        "        score = cosine_similarity(avg_attn_output, avg_text_embeddings)\n",
        "\n",
        "        return score, avg_attn_output, attn_output,attn_output_weights\n",
        "\n",
        "\n",
        "class ContrastiveLoss(nn.Module):\n",
        "    \"\"\"\n",
        "    Compute contrastive loss\n",
        "    \"\"\"\n",
        "\n",
        "    def __init__(self, margin=0, max_violation=False):\n",
        "        super(ContrastiveLoss, self).__init__()\n",
        "        self.margin = margin\n",
        "        self.max_violation = max_violation\n",
        "\n",
        "    def forward(self, scores):\n",
        "        diagonal = scores.diag()\n",
        "        d1 = diagonal.expand_as(scores)\n",
        "        d2 = diagonal.t().expand_as(scores)\n",
        "\n",
        "        # compare every diagonal score to scores in its column\n",
        "        # caption retrieval\n",
        "        cost_s = (self.margin + scores - d1).clamp(min=0)\n",
        "        # compare every diagonal score to scores in its row\n",
        "        # image retrieval\n",
        "        cost_im = (self.margin + scores - d2).clamp(min=0)\n",
        "\n",
        "        return cost_s.sum() + cost_im.sum()"
      ],
      "metadata": {
        "id": "Mbvxk97wo_-a"
      },
      "execution_count": null,
      "outputs": []
    },
    {
      "cell_type": "code",
      "source": [
        "device = (\n",
        "    \"cuda\"\n",
        "    if torch.cuda.is_available()\n",
        "    else \"mps\"\n",
        "    if torch.backends.mps.is_available()\n",
        "    else \"cpu\"\n",
        ")\n",
        "print(f\"Using {device} device\")\n",
        "\n",
        "\n",
        "# Check if GPU is available\n",
        "if torch.cuda.is_available():\n",
        "    # Create your model\n",
        "    model = DOGS()\n",
        "    # Move the model to the GPU\n",
        "    model = model.to(\n",
        "        \"cuda:0\"\n",
        "    )  # You can also use model.to('cuda:0') for a specific GPU index\n",
        "\n",
        "    for param in model.parameters():\n",
        "        param.to(\"cuda:0\")\n",
        "    # Alternatively, you can use the .cuda() method\n",
        "    # model = model.cuda()\n",
        "else:\n",
        "    model = DOGS()\n",
        "    print(\"GPU is not available. Using CPU.\")\n",
        "\n",
        "# Count the learnable parameters\n",
        "total_params = sum(p.numel() for p in model.parameters() if p.requires_grad)\n",
        "\n",
        "print(f\"Total learnable parameters: {total_params}\")"
      ],
      "metadata": {
        "colab": {
          "base_uri": "https://localhost:8080/",
          "height": 397,
          "referenced_widgets": [
            "082ce47c2fc1462fba4e6a2b28ff6e36",
            "90219d1381a240d19176e3329854f0d0",
            "c03bf0dde0ac478288553f9d3648a41e",
            "8d8c8f3e2059421cb482970749970e63",
            "aee1f8d7f51b4d198dbf6d09a23b9b40",
            "9ca369cbe08d4811b258b5cd5f67fdb2",
            "d2d117b274f943118b334dcfd47cce68",
            "f0b1c00edd7a43c59c297eb48d7b74ce",
            "11c72261fe1547e39e1b0147770dfb02",
            "d9f5a9a2c59b4625bd91fc0f6e6b0e0e",
            "6a47267649434eb2a364ff0d60e6c8ec",
            "76fc3661c07d4fc9a2c1c8c93a75277d",
            "feaf80972b9d4bce920ced7393e146d2",
            "b14d7282f00f40c18aa90862c3cfdde8",
            "c5d7194e8d8a4d17aa999ac959320b37",
            "c14af494e36c4372aa890f50422ae63c",
            "4d6fbf2ce5de4d9fb66055a621a8cb73",
            "aa2cc85ece144f7dab9b35b43aacb64e",
            "7d7f391bb86b4c0481c7bff4035b713d",
            "03b35f4bfb394b1c8353c24883b65eee",
            "9c7c2b1c256e455f8e3dea64cdbcd19b",
            "8b216856f07743acadf0d66409222688",
            "cb132dca69564c69b7d1a3284b5d8c7a",
            "dd62c56df3aa4d688dc17be972a13186",
            "503b02f7f8a6434e92499cf806c03790",
            "157e3f5b185a44379b520d40ff270c9f",
            "de987f84738540e5b8779a430379513b",
            "df3291cab6c74e919f96d91a1f1dfd65",
            "2bb51c1810754910a1fab90dd59973e6",
            "d722a9720d0a4ff6936c448b7aa553ad",
            "8265930c05854cc7a3e25c0bf24c7695",
            "b7657a910c6a4f6caea0db499e5c086e",
            "0bf3138ee68b4894b03442d142d4835c",
            "27162bffa9ac4ed6bda9eb1f97f6ce4d",
            "087b48da782b405881b5d7e4c7713585",
            "17c6f836440849639a4441780ede952a",
            "8c71fcfa6dd64fd289cf79078f19ac09",
            "b9e8fab26b1b44f4bfd8050e75cc2a2f",
            "30421207581b4a8d94e6837b12017a01",
            "0111472749f24a15bec2ed40e9d1528d",
            "e8d3433dae2843ec89a3754b6ca48a02",
            "5df35c80b89e4b4d87b916a18feef30a",
            "9cf00a917da8489795d6d54795c8701c",
            "65eff1bf0aed442ba88f313187cf86ac",
            "46d46c16a39149fa9c9f3d33abe03b00",
            "392d5fa3630e49c5890f52d97d646ce0",
            "ab051f4ad64744f8ba19bb8c3b5355b6",
            "4e8f0ba9e1264205b2c2ba5168821d83",
            "7e6ae700865545ca8798ae6d66ca5040",
            "235d7f6b040542d8b96e2e3de14c482f",
            "51e10af73b98487c98ff125857e3ed3d",
            "60caebecb04e4423b4a0880b7b475836",
            "25fd01c4ccba45c39d44f6e3b633c134",
            "68bf151a49f947d9861d8b93b0ef59e9",
            "2854729881214bec9d3fe5a092761295"
          ]
        },
        "id": "GFQLFoSO2lAf",
        "outputId": "49464dd7-1ca0-4219-cb73-008111f83108"
      },
      "execution_count": null,
      "outputs": [
        {
          "output_type": "stream",
          "name": "stdout",
          "text": [
            "Using cuda device\n"
          ]
        },
        {
          "output_type": "stream",
          "name": "stderr",
          "text": [
            "/usr/local/lib/python3.10/dist-packages/torchvision/models/_utils.py:208: UserWarning: The parameter 'pretrained' is deprecated since 0.13 and may be removed in the future, please use 'weights' instead.\n",
            "  warnings.warn(\n",
            "/usr/local/lib/python3.10/dist-packages/torchvision/models/_utils.py:223: UserWarning: Arguments other than a weight enum or `None` for 'weights' are deprecated since 0.13 and may be removed in the future. The current behavior is equivalent to passing `weights=ResNet50_Weights.IMAGENET1K_V1`. You can also use `weights=ResNet50_Weights.DEFAULT` to get the most up-to-date weights.\n",
            "  warnings.warn(msg)\n",
            "Downloading: \"https://download.pytorch.org/models/resnet50-0676ba61.pth\" to /root/.cache/torch/hub/checkpoints/resnet50-0676ba61.pth\n",
            "100%|██████████| 97.8M/97.8M [00:01<00:00, 63.8MB/s]\n"
          ]
        },
        {
          "output_type": "display_data",
          "data": {
            "text/plain": [
              "Downloading (…)okenizer_config.json:   0%|          | 0.00/28.0 [00:00<?, ?B/s]"
            ],
            "application/vnd.jupyter.widget-view+json": {
              "version_major": 2,
              "version_minor": 0,
              "model_id": "082ce47c2fc1462fba4e6a2b28ff6e36"
            }
          },
          "metadata": {}
        },
        {
          "output_type": "display_data",
          "data": {
            "text/plain": [
              "Downloading (…)solve/main/vocab.txt:   0%|          | 0.00/232k [00:00<?, ?B/s]"
            ],
            "application/vnd.jupyter.widget-view+json": {
              "version_major": 2,
              "version_minor": 0,
              "model_id": "76fc3661c07d4fc9a2c1c8c93a75277d"
            }
          },
          "metadata": {}
        },
        {
          "output_type": "display_data",
          "data": {
            "text/plain": [
              "Downloading (…)/main/tokenizer.json:   0%|          | 0.00/466k [00:00<?, ?B/s]"
            ],
            "application/vnd.jupyter.widget-view+json": {
              "version_major": 2,
              "version_minor": 0,
              "model_id": "cb132dca69564c69b7d1a3284b5d8c7a"
            }
          },
          "metadata": {}
        },
        {
          "output_type": "display_data",
          "data": {
            "text/plain": [
              "Downloading (…)lve/main/config.json:   0%|          | 0.00/570 [00:00<?, ?B/s]"
            ],
            "application/vnd.jupyter.widget-view+json": {
              "version_major": 2,
              "version_minor": 0,
              "model_id": "27162bffa9ac4ed6bda9eb1f97f6ce4d"
            }
          },
          "metadata": {}
        },
        {
          "output_type": "display_data",
          "data": {
            "text/plain": [
              "Downloading model.safetensors:   0%|          | 0.00/440M [00:00<?, ?B/s]"
            ],
            "application/vnd.jupyter.widget-view+json": {
              "version_major": 2,
              "version_minor": 0,
              "model_id": "46d46c16a39149fa9c9f3d33abe03b00"
            }
          },
          "metadata": {}
        },
        {
          "output_type": "stream",
          "name": "stdout",
          "text": [
            "Total learnable parameters: 136929600\n"
          ]
        }
      ]
    },
    {
      "cell_type": "code",
      "source": [
        "\n",
        "# Create an instance of your model\n",
        "image_captioning_model = model\n",
        "model_path = '/content/drive/MyDrive/LINe-Out-of-Distribution-Detection-by-Leveraging-Important-Neurons/model_epoch_10.pt'\n",
        "image_captioning_model.load_state_dict(torch.load(model_path, map_location='cpu'))\n",
        "image_captioning_model.eval()\n"
      ],
      "metadata": {
        "id": "jESjAYcU2fBD",
        "colab": {
          "base_uri": "https://localhost:8080/"
        },
        "outputId": "103d781d-54e6-43f8-cbb8-5bc38772be52"
      },
      "execution_count": null,
      "outputs": [
        {
          "output_type": "execute_result",
          "data": {
            "text/plain": [
              "DOGS(\n",
              "  (image_encoder): Sequential(\n",
              "    (0): Conv2d(3, 64, kernel_size=(7, 7), stride=(2, 2), padding=(3, 3), bias=False)\n",
              "    (1): BatchNorm2d(64, eps=1e-05, momentum=0.1, affine=True, track_running_stats=True)\n",
              "    (2): ReLU(inplace=True)\n",
              "    (3): MaxPool2d(kernel_size=3, stride=2, padding=1, dilation=1, ceil_mode=False)\n",
              "    (4): Sequential(\n",
              "      (0): Bottleneck(\n",
              "        (conv1): Conv2d(64, 64, kernel_size=(1, 1), stride=(1, 1), bias=False)\n",
              "        (bn1): BatchNorm2d(64, eps=1e-05, momentum=0.1, affine=True, track_running_stats=True)\n",
              "        (conv2): Conv2d(64, 64, kernel_size=(3, 3), stride=(1, 1), padding=(1, 1), bias=False)\n",
              "        (bn2): BatchNorm2d(64, eps=1e-05, momentum=0.1, affine=True, track_running_stats=True)\n",
              "        (conv3): Conv2d(64, 256, kernel_size=(1, 1), stride=(1, 1), bias=False)\n",
              "        (bn3): BatchNorm2d(256, eps=1e-05, momentum=0.1, affine=True, track_running_stats=True)\n",
              "        (relu): ReLU(inplace=True)\n",
              "        (downsample): Sequential(\n",
              "          (0): Conv2d(64, 256, kernel_size=(1, 1), stride=(1, 1), bias=False)\n",
              "          (1): BatchNorm2d(256, eps=1e-05, momentum=0.1, affine=True, track_running_stats=True)\n",
              "        )\n",
              "      )\n",
              "      (1): Bottleneck(\n",
              "        (conv1): Conv2d(256, 64, kernel_size=(1, 1), stride=(1, 1), bias=False)\n",
              "        (bn1): BatchNorm2d(64, eps=1e-05, momentum=0.1, affine=True, track_running_stats=True)\n",
              "        (conv2): Conv2d(64, 64, kernel_size=(3, 3), stride=(1, 1), padding=(1, 1), bias=False)\n",
              "        (bn2): BatchNorm2d(64, eps=1e-05, momentum=0.1, affine=True, track_running_stats=True)\n",
              "        (conv3): Conv2d(64, 256, kernel_size=(1, 1), stride=(1, 1), bias=False)\n",
              "        (bn3): BatchNorm2d(256, eps=1e-05, momentum=0.1, affine=True, track_running_stats=True)\n",
              "        (relu): ReLU(inplace=True)\n",
              "      )\n",
              "      (2): Bottleneck(\n",
              "        (conv1): Conv2d(256, 64, kernel_size=(1, 1), stride=(1, 1), bias=False)\n",
              "        (bn1): BatchNorm2d(64, eps=1e-05, momentum=0.1, affine=True, track_running_stats=True)\n",
              "        (conv2): Conv2d(64, 64, kernel_size=(3, 3), stride=(1, 1), padding=(1, 1), bias=False)\n",
              "        (bn2): BatchNorm2d(64, eps=1e-05, momentum=0.1, affine=True, track_running_stats=True)\n",
              "        (conv3): Conv2d(64, 256, kernel_size=(1, 1), stride=(1, 1), bias=False)\n",
              "        (bn3): BatchNorm2d(256, eps=1e-05, momentum=0.1, affine=True, track_running_stats=True)\n",
              "        (relu): ReLU(inplace=True)\n",
              "      )\n",
              "    )\n",
              "    (5): Sequential(\n",
              "      (0): Bottleneck(\n",
              "        (conv1): Conv2d(256, 128, kernel_size=(1, 1), stride=(1, 1), bias=False)\n",
              "        (bn1): BatchNorm2d(128, eps=1e-05, momentum=0.1, affine=True, track_running_stats=True)\n",
              "        (conv2): Conv2d(128, 128, kernel_size=(3, 3), stride=(2, 2), padding=(1, 1), bias=False)\n",
              "        (bn2): BatchNorm2d(128, eps=1e-05, momentum=0.1, affine=True, track_running_stats=True)\n",
              "        (conv3): Conv2d(128, 512, kernel_size=(1, 1), stride=(1, 1), bias=False)\n",
              "        (bn3): BatchNorm2d(512, eps=1e-05, momentum=0.1, affine=True, track_running_stats=True)\n",
              "        (relu): ReLU(inplace=True)\n",
              "        (downsample): Sequential(\n",
              "          (0): Conv2d(256, 512, kernel_size=(1, 1), stride=(2, 2), bias=False)\n",
              "          (1): BatchNorm2d(512, eps=1e-05, momentum=0.1, affine=True, track_running_stats=True)\n",
              "        )\n",
              "      )\n",
              "      (1): Bottleneck(\n",
              "        (conv1): Conv2d(512, 128, kernel_size=(1, 1), stride=(1, 1), bias=False)\n",
              "        (bn1): BatchNorm2d(128, eps=1e-05, momentum=0.1, affine=True, track_running_stats=True)\n",
              "        (conv2): Conv2d(128, 128, kernel_size=(3, 3), stride=(1, 1), padding=(1, 1), bias=False)\n",
              "        (bn2): BatchNorm2d(128, eps=1e-05, momentum=0.1, affine=True, track_running_stats=True)\n",
              "        (conv3): Conv2d(128, 512, kernel_size=(1, 1), stride=(1, 1), bias=False)\n",
              "        (bn3): BatchNorm2d(512, eps=1e-05, momentum=0.1, affine=True, track_running_stats=True)\n",
              "        (relu): ReLU(inplace=True)\n",
              "      )\n",
              "      (2): Bottleneck(\n",
              "        (conv1): Conv2d(512, 128, kernel_size=(1, 1), stride=(1, 1), bias=False)\n",
              "        (bn1): BatchNorm2d(128, eps=1e-05, momentum=0.1, affine=True, track_running_stats=True)\n",
              "        (conv2): Conv2d(128, 128, kernel_size=(3, 3), stride=(1, 1), padding=(1, 1), bias=False)\n",
              "        (bn2): BatchNorm2d(128, eps=1e-05, momentum=0.1, affine=True, track_running_stats=True)\n",
              "        (conv3): Conv2d(128, 512, kernel_size=(1, 1), stride=(1, 1), bias=False)\n",
              "        (bn3): BatchNorm2d(512, eps=1e-05, momentum=0.1, affine=True, track_running_stats=True)\n",
              "        (relu): ReLU(inplace=True)\n",
              "      )\n",
              "      (3): Bottleneck(\n",
              "        (conv1): Conv2d(512, 128, kernel_size=(1, 1), stride=(1, 1), bias=False)\n",
              "        (bn1): BatchNorm2d(128, eps=1e-05, momentum=0.1, affine=True, track_running_stats=True)\n",
              "        (conv2): Conv2d(128, 128, kernel_size=(3, 3), stride=(1, 1), padding=(1, 1), bias=False)\n",
              "        (bn2): BatchNorm2d(128, eps=1e-05, momentum=0.1, affine=True, track_running_stats=True)\n",
              "        (conv3): Conv2d(128, 512, kernel_size=(1, 1), stride=(1, 1), bias=False)\n",
              "        (bn3): BatchNorm2d(512, eps=1e-05, momentum=0.1, affine=True, track_running_stats=True)\n",
              "        (relu): ReLU(inplace=True)\n",
              "      )\n",
              "    )\n",
              "    (6): Sequential(\n",
              "      (0): Bottleneck(\n",
              "        (conv1): Conv2d(512, 256, kernel_size=(1, 1), stride=(1, 1), bias=False)\n",
              "        (bn1): BatchNorm2d(256, eps=1e-05, momentum=0.1, affine=True, track_running_stats=True)\n",
              "        (conv2): Conv2d(256, 256, kernel_size=(3, 3), stride=(2, 2), padding=(1, 1), bias=False)\n",
              "        (bn2): BatchNorm2d(256, eps=1e-05, momentum=0.1, affine=True, track_running_stats=True)\n",
              "        (conv3): Conv2d(256, 1024, kernel_size=(1, 1), stride=(1, 1), bias=False)\n",
              "        (bn3): BatchNorm2d(1024, eps=1e-05, momentum=0.1, affine=True, track_running_stats=True)\n",
              "        (relu): ReLU(inplace=True)\n",
              "        (downsample): Sequential(\n",
              "          (0): Conv2d(512, 1024, kernel_size=(1, 1), stride=(2, 2), bias=False)\n",
              "          (1): BatchNorm2d(1024, eps=1e-05, momentum=0.1, affine=True, track_running_stats=True)\n",
              "        )\n",
              "      )\n",
              "      (1): Bottleneck(\n",
              "        (conv1): Conv2d(1024, 256, kernel_size=(1, 1), stride=(1, 1), bias=False)\n",
              "        (bn1): BatchNorm2d(256, eps=1e-05, momentum=0.1, affine=True, track_running_stats=True)\n",
              "        (conv2): Conv2d(256, 256, kernel_size=(3, 3), stride=(1, 1), padding=(1, 1), bias=False)\n",
              "        (bn2): BatchNorm2d(256, eps=1e-05, momentum=0.1, affine=True, track_running_stats=True)\n",
              "        (conv3): Conv2d(256, 1024, kernel_size=(1, 1), stride=(1, 1), bias=False)\n",
              "        (bn3): BatchNorm2d(1024, eps=1e-05, momentum=0.1, affine=True, track_running_stats=True)\n",
              "        (relu): ReLU(inplace=True)\n",
              "      )\n",
              "      (2): Bottleneck(\n",
              "        (conv1): Conv2d(1024, 256, kernel_size=(1, 1), stride=(1, 1), bias=False)\n",
              "        (bn1): BatchNorm2d(256, eps=1e-05, momentum=0.1, affine=True, track_running_stats=True)\n",
              "        (conv2): Conv2d(256, 256, kernel_size=(3, 3), stride=(1, 1), padding=(1, 1), bias=False)\n",
              "        (bn2): BatchNorm2d(256, eps=1e-05, momentum=0.1, affine=True, track_running_stats=True)\n",
              "        (conv3): Conv2d(256, 1024, kernel_size=(1, 1), stride=(1, 1), bias=False)\n",
              "        (bn3): BatchNorm2d(1024, eps=1e-05, momentum=0.1, affine=True, track_running_stats=True)\n",
              "        (relu): ReLU(inplace=True)\n",
              "      )\n",
              "      (3): Bottleneck(\n",
              "        (conv1): Conv2d(1024, 256, kernel_size=(1, 1), stride=(1, 1), bias=False)\n",
              "        (bn1): BatchNorm2d(256, eps=1e-05, momentum=0.1, affine=True, track_running_stats=True)\n",
              "        (conv2): Conv2d(256, 256, kernel_size=(3, 3), stride=(1, 1), padding=(1, 1), bias=False)\n",
              "        (bn2): BatchNorm2d(256, eps=1e-05, momentum=0.1, affine=True, track_running_stats=True)\n",
              "        (conv3): Conv2d(256, 1024, kernel_size=(1, 1), stride=(1, 1), bias=False)\n",
              "        (bn3): BatchNorm2d(1024, eps=1e-05, momentum=0.1, affine=True, track_running_stats=True)\n",
              "        (relu): ReLU(inplace=True)\n",
              "      )\n",
              "      (4): Bottleneck(\n",
              "        (conv1): Conv2d(1024, 256, kernel_size=(1, 1), stride=(1, 1), bias=False)\n",
              "        (bn1): BatchNorm2d(256, eps=1e-05, momentum=0.1, affine=True, track_running_stats=True)\n",
              "        (conv2): Conv2d(256, 256, kernel_size=(3, 3), stride=(1, 1), padding=(1, 1), bias=False)\n",
              "        (bn2): BatchNorm2d(256, eps=1e-05, momentum=0.1, affine=True, track_running_stats=True)\n",
              "        (conv3): Conv2d(256, 1024, kernel_size=(1, 1), stride=(1, 1), bias=False)\n",
              "        (bn3): BatchNorm2d(1024, eps=1e-05, momentum=0.1, affine=True, track_running_stats=True)\n",
              "        (relu): ReLU(inplace=True)\n",
              "      )\n",
              "      (5): Bottleneck(\n",
              "        (conv1): Conv2d(1024, 256, kernel_size=(1, 1), stride=(1, 1), bias=False)\n",
              "        (bn1): BatchNorm2d(256, eps=1e-05, momentum=0.1, affine=True, track_running_stats=True)\n",
              "        (conv2): Conv2d(256, 256, kernel_size=(3, 3), stride=(1, 1), padding=(1, 1), bias=False)\n",
              "        (bn2): BatchNorm2d(256, eps=1e-05, momentum=0.1, affine=True, track_running_stats=True)\n",
              "        (conv3): Conv2d(256, 1024, kernel_size=(1, 1), stride=(1, 1), bias=False)\n",
              "        (bn3): BatchNorm2d(1024, eps=1e-05, momentum=0.1, affine=True, track_running_stats=True)\n",
              "        (relu): ReLU(inplace=True)\n",
              "      )\n",
              "    )\n",
              "    (7): Sequential(\n",
              "      (0): Bottleneck(\n",
              "        (conv1): Conv2d(1024, 512, kernel_size=(1, 1), stride=(1, 1), bias=False)\n",
              "        (bn1): BatchNorm2d(512, eps=1e-05, momentum=0.1, affine=True, track_running_stats=True)\n",
              "        (conv2): Conv2d(512, 512, kernel_size=(3, 3), stride=(2, 2), padding=(1, 1), bias=False)\n",
              "        (bn2): BatchNorm2d(512, eps=1e-05, momentum=0.1, affine=True, track_running_stats=True)\n",
              "        (conv3): Conv2d(512, 2048, kernel_size=(1, 1), stride=(1, 1), bias=False)\n",
              "        (bn3): BatchNorm2d(2048, eps=1e-05, momentum=0.1, affine=True, track_running_stats=True)\n",
              "        (relu): ReLU(inplace=True)\n",
              "        (downsample): Sequential(\n",
              "          (0): Conv2d(1024, 2048, kernel_size=(1, 1), stride=(2, 2), bias=False)\n",
              "          (1): BatchNorm2d(2048, eps=1e-05, momentum=0.1, affine=True, track_running_stats=True)\n",
              "        )\n",
              "      )\n",
              "      (1): Bottleneck(\n",
              "        (conv1): Conv2d(2048, 512, kernel_size=(1, 1), stride=(1, 1), bias=False)\n",
              "        (bn1): BatchNorm2d(512, eps=1e-05, momentum=0.1, affine=True, track_running_stats=True)\n",
              "        (conv2): Conv2d(512, 512, kernel_size=(3, 3), stride=(1, 1), padding=(1, 1), bias=False)\n",
              "        (bn2): BatchNorm2d(512, eps=1e-05, momentum=0.1, affine=True, track_running_stats=True)\n",
              "        (conv3): Conv2d(512, 2048, kernel_size=(1, 1), stride=(1, 1), bias=False)\n",
              "        (bn3): BatchNorm2d(2048, eps=1e-05, momentum=0.1, affine=True, track_running_stats=True)\n",
              "        (relu): ReLU(inplace=True)\n",
              "      )\n",
              "      (2): Bottleneck(\n",
              "        (conv1): Conv2d(2048, 512, kernel_size=(1, 1), stride=(1, 1), bias=False)\n",
              "        (bn1): BatchNorm2d(512, eps=1e-05, momentum=0.1, affine=True, track_running_stats=True)\n",
              "        (conv2): Conv2d(512, 512, kernel_size=(3, 3), stride=(1, 1), padding=(1, 1), bias=False)\n",
              "        (bn2): BatchNorm2d(512, eps=1e-05, momentum=0.1, affine=True, track_running_stats=True)\n",
              "        (conv3): Conv2d(512, 2048, kernel_size=(1, 1), stride=(1, 1), bias=False)\n",
              "        (bn3): BatchNorm2d(2048, eps=1e-05, momentum=0.1, affine=True, track_running_stats=True)\n",
              "        (relu): ReLU(inplace=True)\n",
              "      )\n",
              "    )\n",
              "  )\n",
              "  (text_encoder): TextEncoder(\n",
              "    (bert_model): BertModel(\n",
              "      (embeddings): BertEmbeddings(\n",
              "        (word_embeddings): Embedding(30522, 768, padding_idx=0)\n",
              "        (position_embeddings): Embedding(512, 768)\n",
              "        (token_type_embeddings): Embedding(2, 768)\n",
              "        (LayerNorm): LayerNorm((768,), eps=1e-12, elementwise_affine=True)\n",
              "        (dropout): Dropout(p=0.1, inplace=False)\n",
              "      )\n",
              "      (encoder): BertEncoder(\n",
              "        (layer): ModuleList(\n",
              "          (0-11): 12 x BertLayer(\n",
              "            (attention): BertAttention(\n",
              "              (self): BertSelfAttention(\n",
              "                (query): Linear(in_features=768, out_features=768, bias=True)\n",
              "                (key): Linear(in_features=768, out_features=768, bias=True)\n",
              "                (value): Linear(in_features=768, out_features=768, bias=True)\n",
              "                (dropout): Dropout(p=0.1, inplace=False)\n",
              "              )\n",
              "              (output): BertSelfOutput(\n",
              "                (dense): Linear(in_features=768, out_features=768, bias=True)\n",
              "                (LayerNorm): LayerNorm((768,), eps=1e-12, elementwise_affine=True)\n",
              "                (dropout): Dropout(p=0.1, inplace=False)\n",
              "              )\n",
              "            )\n",
              "            (intermediate): BertIntermediate(\n",
              "              (dense): Linear(in_features=768, out_features=3072, bias=True)\n",
              "              (intermediate_act_fn): GELUActivation()\n",
              "            )\n",
              "            (output): BertOutput(\n",
              "              (dense): Linear(in_features=3072, out_features=768, bias=True)\n",
              "              (LayerNorm): LayerNorm((768,), eps=1e-12, elementwise_affine=True)\n",
              "              (dropout): Dropout(p=0.1, inplace=False)\n",
              "            )\n",
              "          )\n",
              "        )\n",
              "      )\n",
              "      (pooler): BertPooler(\n",
              "        (dense): Linear(in_features=768, out_features=768, bias=True)\n",
              "        (activation): Tanh()\n",
              "      )\n",
              "    )\n",
              "    (gru): GRU(768, 256, batch_first=True, bidirectional=True)\n",
              "  )\n",
              "  (projection_head): ProjectionHead(\n",
              "    (projection): Linear(in_features=2048, out_features=512, bias=True)\n",
              "    (gelu): GELU(approximate='none')\n",
              "    (fc): Linear(in_features=512, out_features=512, bias=True)\n",
              "    (dropout): Dropout(p=0.1, inplace=False)\n",
              "    (layer_norm): LayerNorm((512,), eps=1e-05, elementwise_affine=True)\n",
              "  )\n",
              "  (cross_attention): CrossAttentionLayer(\n",
              "    (multihead_atten): MultiheadAttention(\n",
              "      (out_proj): NonDynamicallyQuantizableLinear(in_features=512, out_features=512, bias=True)\n",
              "    )\n",
              "  )\n",
              ")"
            ]
          },
          "metadata": {},
          "execution_count": 5
        }
      ]
    },
    {
      "cell_type": "code",
      "source": [
        "#Inference for batch of 4 image text pair\n",
        "from transformers import BertTokenizer\n",
        "statements = [\"Dog sit on grass land\", \"cat sit on bed\", \"aeroplane fly in the sky\", \"house\"]\n",
        "tokenizer = BertTokenizer.from_pretrained(\"bert-base-uncased\")\n",
        "tokenized_statements = [\n",
        "    tokenizer.encode(\n",
        "        statement,\n",
        "        add_special_tokens=True,\n",
        "        padding=\"max_length\",\n",
        "        max_length=30,\n",
        "        truncation=True,\n",
        "        return_tensors=\"pt\"\n",
        "    )\n",
        "    for statement in statements\n",
        "]\n",
        "\n",
        "# Define image preprocessing transformations\n",
        "image_transform = transforms.Compose([\n",
        "    transforms.Resize((224, 224)),\n",
        "    transforms.ToTensor(),\n",
        "    transforms.Normalize(mean=[0.485, 0.456, 0.406], std=[0.229, 0.224, 0.225])\n",
        "])\n",
        "\n",
        "image_paths = ['/content/drive/MyDrive/LINe-Out-of-Distribution-Detection-by-Leveraging-Important-Neurons/dog.jpg', '/content/drive/MyDrive/LINe-Out-of-Distribution-Detection-by-Leveraging-Important-Neurons/cat.jpg', '/content/drive/MyDrive/LINe-Out-of-Distribution-Detection-by-Leveraging-Important-Neurons/aeroplane.jpg', '/content/drive/MyDrive/LINe-Out-of-Distribution-Detection-by-Leveraging-Important-Neurons/house.jpg']\n",
        "images = []\n",
        "\n",
        "for image_path in image_paths:\n",
        "    image = Image.open(image_path)\n",
        "    image = image_transform(image)\n",
        "    images.append(image)\n",
        "\n",
        "# Stack the images into a single tensor\n",
        "images = torch.stack(images)\n",
        "\n",
        "images = images.to(\"cuda:0\")\n",
        "tokenized_statements = [tokenized_statement.to(\"cuda:0\") for tokenized_statement in tokenized_statements]\n",
        "print(images.shape)\n",
        "tokenized_statements = torch.stack(tokenized_statements)\n",
        "reshaped_tokenized_statements = tokenized_statements.squeeze(1)\n",
        "print(reshaped_tokenized_statements.shape)\n",
        "# Make predictions\n",
        "with torch.no_grad():\n",
        "    output = image_captioning_model(images, reshaped_tokenized_statements)\n",
        "\n",
        "# Process and print the results\n",
        "print(output)\n"
      ],
      "metadata": {
        "id": "M3wS7v7Fo1y9",
        "colab": {
          "base_uri": "https://localhost:8080/"
        },
        "outputId": "10ea1305-d4d1-42a7-e442-a8d143478f82"
      },
      "execution_count": null,
      "outputs": [
        {
          "output_type": "stream",
          "name": "stdout",
          "text": [
            "torch.Size([4, 3, 224, 224])\n",
            "torch.Size([4, 30])\n"
          ]
        },
        {
          "output_type": "stream",
          "name": "stderr",
          "text": [
            "We strongly recommend passing in an `attention_mask` since your input_ids may be padded. See https://huggingface.co/docs/transformers/troubleshooting#incorrect-output-when-padding-tokens-arent-masked.\n"
          ]
        },
        {
          "output_type": "stream",
          "name": "stdout",
          "text": [
            "(tensor([[0.7583, 0.7468, 0.7692, 0.7089],\n",
            "        [0.7583, 0.7468, 0.7692, 0.7089],\n",
            "        [0.7583, 0.7468, 0.7692, 0.7089],\n",
            "        [0.7583, 0.7468, 0.7691, 0.7090]]), tensor([[ 4.3563e+04,  3.8820e+04,  4.1835e+04,  ..., -4.0933e+02,\n",
            "         -2.7256e+01, -4.3672e+04],\n",
            "        [ 4.3561e+04,  3.8819e+04,  4.1834e+04,  ..., -4.0935e+02,\n",
            "         -2.7239e+01, -4.3670e+04],\n",
            "        [ 4.3563e+04,  3.8821e+04,  4.1835e+04,  ..., -4.0932e+02,\n",
            "         -2.7258e+01, -4.3672e+04],\n",
            "        [ 4.3970e+04,  3.9183e+04,  4.2235e+04,  ..., -4.1342e+02,\n",
            "         -2.4930e+01, -4.4078e+04]], device='cuda:0'), tensor([[[ 4.3563e+04,  3.8820e+04,  4.1835e+04,  ..., -4.0933e+02,\n",
            "          -2.7256e+01, -4.3672e+04],\n",
            "         [ 4.3561e+04,  3.8819e+04,  4.1834e+04,  ..., -4.0935e+02,\n",
            "          -2.7239e+01, -4.3670e+04],\n",
            "         [ 4.3563e+04,  3.8821e+04,  4.1835e+04,  ..., -4.0932e+02,\n",
            "          -2.7258e+01, -4.3672e+04],\n",
            "         [ 4.3970e+04,  3.9183e+04,  4.2235e+04,  ..., -4.1342e+02,\n",
            "          -2.4930e+01, -4.4078e+04]],\n",
            "\n",
            "        [[ 4.3563e+04,  3.8820e+04,  4.1835e+04,  ..., -4.0933e+02,\n",
            "          -2.7256e+01, -4.3672e+04],\n",
            "         [ 4.3561e+04,  3.8819e+04,  4.1834e+04,  ..., -4.0935e+02,\n",
            "          -2.7239e+01, -4.3670e+04],\n",
            "         [ 4.3563e+04,  3.8821e+04,  4.1835e+04,  ..., -4.0932e+02,\n",
            "          -2.7258e+01, -4.3672e+04],\n",
            "         [ 4.3970e+04,  3.9183e+04,  4.2235e+04,  ..., -4.1342e+02,\n",
            "          -2.4930e+01, -4.4078e+04]],\n",
            "\n",
            "        [[ 4.3563e+04,  3.8820e+04,  4.1835e+04,  ..., -4.0933e+02,\n",
            "          -2.7256e+01, -4.3672e+04],\n",
            "         [ 4.3561e+04,  3.8819e+04,  4.1834e+04,  ..., -4.0935e+02,\n",
            "          -2.7239e+01, -4.3670e+04],\n",
            "         [ 4.3563e+04,  3.8821e+04,  4.1835e+04,  ..., -4.0932e+02,\n",
            "          -2.7258e+01, -4.3672e+04],\n",
            "         [ 4.3970e+04,  3.9183e+04,  4.2235e+04,  ..., -4.1342e+02,\n",
            "          -2.4930e+01, -4.4078e+04]],\n",
            "\n",
            "        ...,\n",
            "\n",
            "        [[ 4.3563e+04,  3.8820e+04,  4.1835e+04,  ..., -4.0933e+02,\n",
            "          -2.7256e+01, -4.3672e+04],\n",
            "         [ 4.3561e+04,  3.8819e+04,  4.1834e+04,  ..., -4.0935e+02,\n",
            "          -2.7239e+01, -4.3670e+04],\n",
            "         [ 4.3563e+04,  3.8821e+04,  4.1835e+04,  ..., -4.0932e+02,\n",
            "          -2.7258e+01, -4.3672e+04],\n",
            "         [ 4.3970e+04,  3.9183e+04,  4.2235e+04,  ..., -4.1342e+02,\n",
            "          -2.4930e+01, -4.4078e+04]],\n",
            "\n",
            "        [[ 4.3563e+04,  3.8820e+04,  4.1835e+04,  ..., -4.0933e+02,\n",
            "          -2.7256e+01, -4.3672e+04],\n",
            "         [ 4.3561e+04,  3.8819e+04,  4.1834e+04,  ..., -4.0935e+02,\n",
            "          -2.7239e+01, -4.3670e+04],\n",
            "         [ 4.3563e+04,  3.8821e+04,  4.1835e+04,  ..., -4.0932e+02,\n",
            "          -2.7258e+01, -4.3672e+04],\n",
            "         [ 4.3970e+04,  3.9183e+04,  4.2235e+04,  ..., -4.1342e+02,\n",
            "          -2.4930e+01, -4.4078e+04]],\n",
            "\n",
            "        [[ 4.3563e+04,  3.8820e+04,  4.1835e+04,  ..., -4.0933e+02,\n",
            "          -2.7256e+01, -4.3672e+04],\n",
            "         [ 4.3561e+04,  3.8819e+04,  4.1834e+04,  ..., -4.0935e+02,\n",
            "          -2.7239e+01, -4.3670e+04],\n",
            "         [ 4.3563e+04,  3.8821e+04,  4.1835e+04,  ..., -4.0932e+02,\n",
            "          -2.7258e+01, -4.3672e+04],\n",
            "         [ 4.3970e+04,  3.9183e+04,  4.2235e+04,  ..., -4.1342e+02,\n",
            "          -2.4930e+01, -4.4078e+04]]], device='cuda:0'), tensor([[[0.0000e+00, 1.8896e-01, 1.7927e-01,  ..., 0.0000e+00,\n",
            "          0.0000e+00, 2.5000e-01],\n",
            "         [0.0000e+00, 1.8896e-01, 1.7932e-01,  ..., 0.0000e+00,\n",
            "          0.0000e+00, 2.5000e-01],\n",
            "         [0.0000e+00, 1.8891e-01, 1.7929e-01,  ..., 0.0000e+00,\n",
            "          0.0000e+00, 2.5000e-01],\n",
            "         ...,\n",
            "         [0.0000e+00, 1.8897e-01, 1.7930e-01,  ..., 0.0000e+00,\n",
            "          0.0000e+00, 2.5000e-01],\n",
            "         [0.0000e+00, 1.8897e-01, 1.7931e-01,  ..., 0.0000e+00,\n",
            "          0.0000e+00, 2.5000e-01],\n",
            "         [0.0000e+00, 1.8894e-01, 1.7934e-01,  ..., 0.0000e+00,\n",
            "          0.0000e+00, 2.5000e-01]],\n",
            "\n",
            "        [[0.0000e+00, 2.4847e-01, 2.5061e-01,  ..., 0.0000e+00,\n",
            "          0.0000e+00, 2.5000e-01],\n",
            "         [0.0000e+00, 2.4853e-01, 2.5055e-01,  ..., 0.0000e+00,\n",
            "          0.0000e+00, 2.5000e-01],\n",
            "         [0.0000e+00, 2.4851e-01, 2.5054e-01,  ..., 0.0000e+00,\n",
            "          0.0000e+00, 2.5000e-01],\n",
            "         ...,\n",
            "         [0.0000e+00, 2.4852e-01, 2.5054e-01,  ..., 0.0000e+00,\n",
            "          0.0000e+00, 2.5000e-01],\n",
            "         [0.0000e+00, 2.4850e-01, 2.5056e-01,  ..., 0.0000e+00,\n",
            "          0.0000e+00, 2.5000e-01],\n",
            "         [0.0000e+00, 2.4846e-01, 2.5056e-01,  ..., 0.0000e+00,\n",
            "          0.0000e+00, 2.5000e-01]],\n",
            "\n",
            "        [[0.0000e+00, 1.5341e-01, 1.9814e-04,  ..., 0.0000e+00,\n",
            "          0.0000e+00, 2.5000e-01],\n",
            "         [0.0000e+00, 1.5336e-01, 2.2372e-04,  ..., 0.0000e+00,\n",
            "          0.0000e+00, 2.5000e-01],\n",
            "         [0.0000e+00, 1.5338e-01, 2.2672e-04,  ..., 0.0000e+00,\n",
            "          0.0000e+00, 2.5000e-01],\n",
            "         ...,\n",
            "         [0.0000e+00, 1.5342e-01, 2.0910e-04,  ..., 0.0000e+00,\n",
            "          0.0000e+00, 2.5000e-01],\n",
            "         [0.0000e+00, 1.5336e-01, 2.2878e-04,  ..., 0.0000e+00,\n",
            "          0.0000e+00, 2.5000e-01],\n",
            "         [0.0000e+00, 1.5382e-01, 2.2990e-05,  ..., 0.0000e+00,\n",
            "          0.0000e+00, 2.5000e-01]],\n",
            "\n",
            "        [[0.0000e+00, 7.5000e-01, 0.0000e+00,  ..., 0.0000e+00,\n",
            "          0.0000e+00, 2.5000e-01],\n",
            "         [0.0000e+00, 7.5000e-01, 0.0000e+00,  ..., 0.0000e+00,\n",
            "          0.0000e+00, 2.5000e-01],\n",
            "         [0.0000e+00, 7.5000e-01, 0.0000e+00,  ..., 0.0000e+00,\n",
            "          0.0000e+00, 2.5000e-01],\n",
            "         ...,\n",
            "         [0.0000e+00, 7.5000e-01, 0.0000e+00,  ..., 0.0000e+00,\n",
            "          0.0000e+00, 2.5000e-01],\n",
            "         [0.0000e+00, 7.5000e-01, 0.0000e+00,  ..., 0.0000e+00,\n",
            "          0.0000e+00, 2.5000e-01],\n",
            "         [0.0000e+00, 7.5000e-01, 0.0000e+00,  ..., 0.0000e+00,\n",
            "          0.0000e+00, 2.5000e-01]]], device='cuda:0'))\n"
          ]
        }
      ]
    },
    {
      "cell_type": "code",
      "source": [
        "output[0].shape #cosine similarity between batch of 4 images-text pair"
      ],
      "metadata": {
        "id": "Qiy6zXDGIitp",
        "colab": {
          "base_uri": "https://localhost:8080/"
        },
        "outputId": "50e27828-778e-49a5-b63f-c89ae6d0936d"
      },
      "execution_count": null,
      "outputs": [
        {
          "output_type": "execute_result",
          "data": {
            "text/plain": [
              "torch.Size([4, 4])"
            ]
          },
          "metadata": {},
          "execution_count": 7
        }
      ]
    },
    {
      "cell_type": "code",
      "source": [
        "output[1].shape #(4,49,512) output from cross attention is converted with average pooling outputs (4,512)"
      ],
      "metadata": {
        "id": "G1OsrvvYIllf",
        "colab": {
          "base_uri": "https://localhost:8080/"
        },
        "outputId": "a2b38556-a680-4e7e-f582-8a750e23a1e9"
      },
      "execution_count": null,
      "outputs": [
        {
          "output_type": "execute_result",
          "data": {
            "text/plain": [
              "torch.Size([4, 512])"
            ]
          },
          "metadata": {},
          "execution_count": 8
        }
      ]
    },
    {
      "cell_type": "code",
      "source": [
        "output[0] #cross attention cosine similarity output"
      ],
      "metadata": {
        "id": "EGzKA0kNLd--",
        "colab": {
          "base_uri": "https://localhost:8080/"
        },
        "outputId": "23483aa2-0420-4d14-b5d5-49c695584227"
      },
      "execution_count": null,
      "outputs": [
        {
          "output_type": "execute_result",
          "data": {
            "text/plain": [
              "tensor([[0.7583, 0.7468, 0.7692, 0.7089],\n",
              "        [0.7583, 0.7468, 0.7692, 0.7089],\n",
              "        [0.7583, 0.7468, 0.7692, 0.7089],\n",
              "        [0.7583, 0.7468, 0.7691, 0.7090]])"
            ]
          },
          "metadata": {},
          "execution_count": 10
        }
      ]
    },
    {
      "cell_type": "code",
      "source": [
        "output[2].shape"
      ],
      "metadata": {
        "id": "32F0kLZZ35ij",
        "colab": {
          "base_uri": "https://localhost:8080/"
        },
        "outputId": "151484fa-37af-4a1b-fae2-7096d02f18d4"
      },
      "execution_count": null,
      "outputs": [
        {
          "output_type": "execute_result",
          "data": {
            "text/plain": [
              "torch.Size([49, 4, 512])"
            ]
          },
          "metadata": {},
          "execution_count": 11
        }
      ]
    },
    {
      "cell_type": "code",
      "source": [
        "reshaped_tensor = output[2].permute(1, 0, 2)\n",
        "reshaped_tensor.shape"
      ],
      "metadata": {
        "id": "Xnt7ZMaQ4UTP",
        "colab": {
          "base_uri": "https://localhost:8080/"
        },
        "outputId": "03252bc7-9aa5-442a-ae31-bc4c2a3f0345"
      },
      "execution_count": null,
      "outputs": [
        {
          "output_type": "execute_result",
          "data": {
            "text/plain": [
              "torch.Size([4, 49, 512])"
            ]
          },
          "metadata": {},
          "execution_count": 12
        }
      ]
    },
    {
      "cell_type": "code",
      "source": [
        "import torch\n",
        "import matplotlib.pyplot as plt\n",
        "\n",
        "# Assuming you have an output tensor with shape [4, 49, 512]\n",
        "output_tensor = reshaped_tensor.cpu()\n",
        "\n",
        "# Create a 4x4 grid of subplots\n",
        "fig, axs = plt.subplots(4, 4, figsize=(12, 12))\n",
        "\n",
        "# Iterate over the first dimension (4) for each subplot row\n",
        "for i in range(4):\n",
        "    # Iterate over the second dimension (49) for each subplot column\n",
        "    for j in range(4):\n",
        "        # Select the data for the current iteration\n",
        "        data = output_tensor[i, :, j * 128:(j + 1) * 128]  # For example, display 128 features at a time\n",
        "\n",
        "        # Create a plot for the data\n",
        "        axs[i, j].imshow(data, aspect='auto', cmap='viridis')\n",
        "        axs[i, j].set_title(f\"Iteration {i}, Features {j*128}-{(j+1)*128}\")\n",
        "\n",
        "# Adjust spacing between subplots\n",
        "plt.tight_layout()\n",
        "\n",
        "# Show the plots\n",
        "plt.show()\n"
      ],
      "metadata": {
        "id": "nuCn73sv47Vo",
        "colab": {
          "base_uri": "https://localhost:8080/",
          "height": 772
        },
        "outputId": "322faaae-3c13-4fd2-b0de-2537545c8791"
      },
      "execution_count": null,
      "outputs": [
        {
          "output_type": "display_data",
          "data": {
            "text/plain": [
              "<Figure size 1200x1200 with 16 Axes>"
            ],
            "image/png": "[encoded data removed]"
          },
          "metadata": {}
        }
      ]
    },
    {
      "cell_type": "code",
      "source": [
        "# Create a plot for the first image mapping\n",
        "fig, axs = plt.subplots(1, 4, figsize=(20, 5))\n",
        "\n",
        "# Iterate over the second dimension (49) for each subplot column\n",
        "i = 0\n",
        "for j in range(4):\n",
        "    # Select the data for the current iteration\n",
        "    data = output_tensor[i, :, j * 128:(j + 1) * 128]  # For example, display 128 features at a time\n",
        "\n",
        "    # Create a plot for the data\n",
        "    axs[j].imshow(data, aspect='auto', cmap='viridis')\n",
        "    axs[j].set_title(f\"Iteration {i}, Features {j*128}-{(j+1)*128}\")\n",
        "\n",
        "# Adjust spacing between subplots\n",
        "plt.tight_layout()\n",
        "\n",
        "# Show the plots\n",
        "plt.show()\n"
      ],
      "metadata": {
        "id": "aKLv9Y8Z7LV8",
        "colab": {
          "base_uri": "https://localhost:8080/",
          "height": 204
        },
        "outputId": "904e480c-8d6a-40dc-fdb7-9bb79c52a7d5"
      },
      "execution_count": null,
      "outputs": [
        {
          "output_type": "display_data",
          "data": {
            "text/plain": [
              "<Figure size 2000x500 with 4 Axes>"
            ],
            "image/png": "[encoded data removed]"
          },
          "metadata": {}
        }
      ]
    },
    {
      "cell_type": "code",
      "source": [
        "reshaped_tensor[0].shape"
      ],
      "metadata": {
        "id": "49vvQyJn_ODy",
        "colab": {
          "base_uri": "https://localhost:8080/"
        },
        "outputId": "505d82eb-be11-4983-ac15-c474c30fe2b7"
      },
      "execution_count": null,
      "outputs": [
        {
          "output_type": "execute_result",
          "data": {
            "text/plain": [
              "torch.Size([49, 512])"
            ]
          },
          "metadata": {},
          "execution_count": 15
        }
      ]
    },
    {
      "cell_type": "code",
      "source": [
        "import torch\n",
        "import matplotlib.pyplot as plt\n",
        "\n",
        "reshaped_tensor1 = reshaped_tensor[0].cpu()\n",
        "\n",
        "# Reshape from (49, 512) to (7, 7, 512)\n",
        "reshaped_tensor2 = reshaped_tensor1.view(7, 7, 512)\n",
        "\n",
        "# Reduce the 512 dimensions to a single value by averaging\n",
        "output_tensor = reshaped_tensor2.mean(dim=2)  # Now it's (7, 7)\n",
        "\n",
        "# Create a single cmap with (7, 7) grid\n",
        "plt.imshow(output_tensor, cmap='gray', interpolation='none')\n",
        "plt.colorbar()\n",
        "\n",
        "# Show the plot\n",
        "plt.show()\n"
      ],
      "metadata": {
        "id": "r8a3sTGO_Eko",
        "colab": {
          "base_uri": "https://localhost:8080/",
          "height": 445
        },
        "outputId": "737e6545-6ae3-4e7a-d343-a5f1f8efcd71"
      },
      "execution_count": null,
      "outputs": [
        {
          "output_type": "display_data",
          "data": {
            "text/plain": [
              "<Figure size 640x480 with 2 Axes>"
            ],
            "image/png": "[encoded data removed]"
          },
          "metadata": {}
        }
      ]
    },
    {
      "cell_type": "code",
      "source": [
        "attn_mapping = output[3]"
      ],
      "metadata": {
        "id": "jzkHcYWvHud2"
      },
      "execution_count": null,
      "outputs": []
    },
    {
      "cell_type": "code",
      "source": [
        "attn_mapping[0].shape"
      ],
      "metadata": {
        "id": "svu9fAysH5cE",
        "colab": {
          "base_uri": "https://localhost:8080/"
        },
        "outputId": "c945f51b-26e0-424b-eadf-870b7ff39fae"
      },
      "execution_count": null,
      "outputs": [
        {
          "output_type": "execute_result",
          "data": {
            "text/plain": [
              "torch.Size([49, 30])"
            ]
          },
          "metadata": {},
          "execution_count": 18
        }
      ]
    },
    {
      "cell_type": "code",
      "source": [
        "statements[0]"
      ],
      "metadata": {
        "id": "1rsK5xhoM3UF",
        "colab": {
          "base_uri": "https://localhost:8080/",
          "height": 35
        },
        "outputId": "41339892-07b9-4893-a6c7-cc2268130ac8"
      },
      "execution_count": null,
      "outputs": [
        {
          "output_type": "execute_result",
          "data": {
            "text/plain": [
              "'Dog sit on grass land'"
            ],
            "application/vnd.google.colaboratory.intrinsic+json": {
              "type": "string"
            }
          },
          "metadata": {},
          "execution_count": 19
        }
      ]
    },
    {
      "cell_type": "code",
      "source": [
        "tokenized_statements[0]"
      ],
      "metadata": {
        "id": "OO2bG7kINDiu",
        "colab": {
          "base_uri": "https://localhost:8080/"
        },
        "outputId": "b02afc58-2b41-4faa-b2b6-45e086039793"
      },
      "execution_count": null,
      "outputs": [
        {
          "output_type": "execute_result",
          "data": {
            "text/plain": [
              "tensor([[ 101, 3899, 4133, 2006, 5568, 2455,  102,    0,    0,    0,    0,    0,\n",
              "            0,    0,    0,    0,    0,    0,    0,    0,    0,    0,    0,    0,\n",
              "            0,    0,    0,    0,    0,    0]], device='cuda:0')"
            ]
          },
          "metadata": {},
          "execution_count": 20
        }
      ]
    },
    {
      "cell_type": "code",
      "source": [
        "import torch\n",
        "import torch.nn.functional as F\n",
        "import matplotlib.pyplot as plt\n",
        "import numpy as np\n",
        "\n",
        "# Assuming attn_maps is a PyTorch tensor with shape [ 30,7,7]\n",
        "attn_sc = attn_mapping[0].cpu()\n",
        "attn_maps = attn_sc.permute(1,0)\n",
        "# Reshape attn_maps to [30,(7, 7)]\n",
        "attn_maps = attn_maps.view(30, 7, 7)\n",
        "\n",
        "def plot_attention_maps( attention_map):\n",
        "    fig = plt.figure(figsize=(15, 10))\n",
        "    len_result = 30\n",
        "    titles = []\n",
        "    for i in range(len_result):\n",
        "        map = attention_map[i]\n",
        "        grid_size = max(int(np.ceil(len_result / 3)), 3)\n",
        "        ax = fig.add_subplot(3, grid_size, i + 1)\n",
        "        ax.imshow(map, cmap='gray', alpha=0.6)\n",
        "    plt.tight_layout()\n",
        "\n",
        "plot_attention_maps(attn_maps)\n",
        "plt.show()\n"
      ],
      "metadata": {
        "id": "epKVfoF0JkRx",
        "colab": {
          "base_uri": "https://localhost:8080/",
          "height": 409
        },
        "outputId": "2ad00aa9-874b-4429-e48f-5c0a020d6c34"
      },
      "execution_count": null,
      "outputs": [
        {
          "output_type": "stream",
          "name": "stdout",
          "text": [
            "torch.Size([30, 7, 7])\n"
          ]
        },
        {
          "output_type": "display_data",
          "data": {
            "text/plain": [
              "<Figure size 1500x1000 with 30 Axes>"
            ],
            "image/png": "[encoded data removed]"
          },
          "metadata": {}
        }
      ]
    },
    {
      "cell_type": "code",
      "source": [
        "print(statements[1])\n",
        "print(tokenized_statements[1])\n",
        "attn_sc = attn_mapping[1].cpu()\n",
        "attn_maps = attn_sc.permute(1,0)\n",
        "attn_maps = attn_maps.view(30, 7, 7)\n",
        "plot_attention_maps(attn_maps)\n",
        "plt.show()"
      ],
      "metadata": {
        "id": "2jX8xqU-K8n5",
        "colab": {
          "base_uri": "https://localhost:8080/",
          "height": 520
        },
        "outputId": "1e204c81-5e0d-4e81-dfc1-13e3016cda5b"
      },
      "execution_count": null,
      "outputs": [
        {
          "output_type": "stream",
          "name": "stdout",
          "text": [
            "cat sit on bed\n",
            "tensor([[ 101, 4937, 4133, 2006, 2793,  102,    0,    0,    0,    0,    0,    0,\n",
            "            0,    0,    0,    0,    0,    0,    0,    0,    0,    0,    0,    0,\n",
            "            0,    0,    0,    0,    0,    0]], device='cuda:0')\n"
          ]
        },
        {
          "output_type": "display_data",
          "data": {
            "text/plain": [
              "<Figure size 2000x1600 with 30 Axes>"
            ],
            "image/png": "[encoded data removed]"
          },
          "metadata": {}
        }
      ]
    },
    {
      "cell_type": "code",
      "source": [
        "print(statements[2])\n",
        "print(tokenized_statements[2])\n",
        "attn_sc = attn_mapping[2].cpu()\n",
        "attn_maps = attn_sc.permute(1,0)\n",
        "attn_maps = attn_maps.view(30, 7, 7)\n",
        "plot_attention_maps(attn_maps)\n",
        "plt.show()"
      ],
      "metadata": {
        "colab": {
          "base_uri": "https://localhost:8080/",
          "height": 538
        },
        "id": "UdDzkFctgm36",
        "outputId": "f0459956-3cd3-4ebb-c7e3-ca53370b292f"
      },
      "execution_count": null,
      "outputs": [
        {
          "output_type": "stream",
          "name": "stdout",
          "text": [
            "aeroplane fly in the sky\n",
            "tensor([[  101, 18440, 11751,  4875,  1999,  1996,  3712,   102,     0,     0,\n",
            "             0,     0,     0,     0,     0,     0,     0,     0,     0,     0,\n",
            "             0,     0,     0,     0,     0,     0,     0,     0,     0,     0]],\n",
            "       device='cuda:0')\n"
          ]
        },
        {
          "output_type": "display_data",
          "data": {
            "text/plain": [
              "<Figure size 2000x1600 with 30 Axes>"
            ],
            "image/png": "[encoded data removed]"
          },
          "metadata": {}
        }
      ]
    },
    {
      "cell_type": "code",
      "source": [
        "print(statements[3])\n",
        "print(tokenized_statements[3])\n",
        "attn_sc = attn_mapping[3].cpu()\n",
        "attn_maps = attn_sc.permute(1,0)\n",
        "attn_maps = attn_maps.view(30, 7, 7)\n",
        "plot_attention_maps(attn_maps)\n",
        "plt.show()"
      ],
      "metadata": {
        "colab": {
          "base_uri": "https://localhost:8080/",
          "height": 520
        },
        "id": "gGwmswYCg19H",
        "outputId": "6efe5063-5a5b-4635-9c02-450051e17391"
      },
      "execution_count": null,
      "outputs": [
        {
          "output_type": "stream",
          "name": "stdout",
          "text": [
            "house\n",
            "tensor([[ 101, 2160,  102,    0,    0,    0,    0,    0,    0,    0,    0,    0,\n",
            "            0,    0,    0,    0,    0,    0,    0,    0,    0,    0,    0,    0,\n",
            "            0,    0,    0,    0,    0,    0]], device='cuda:0')\n"
          ]
        },
        {
          "output_type": "display_data",
          "data": {
            "text/plain": [
              "<Figure size 2000x1600 with 30 Axes>"
            ],
            "image/png": "[encoded data removed]"
          },
          "metadata": {}
        }
      ]
    },
    {
      "cell_type": "code",
      "source": [
        "import torch\n",
        "import matplotlib.pyplot as plt\n",
        "\n",
        "# Assuming attn_maps is a PyTorch tensor with shape [49, 50]\n",
        "attn_maps = attn_mapping[0].cpu()\n",
        "\n",
        "# Create a figure\n",
        "plt.figure(figsize=(8, 6))\n",
        "\n",
        "# Plot the attention map as a heatmap\n",
        "plt.imshow(attn_maps, cmap='bone', aspect='auto')\n",
        "\n",
        "# Add colorbar for reference\n",
        "plt.colorbar()\n",
        "\n",
        "# Set labels for the x and y axes\n",
        "plt.xlabel('Text Features (50 features)')\n",
        "plt.ylabel('Image Features (49 features)')\n",
        "# Show the plot\n",
        "plt.show()\n"
      ],
      "metadata": {
        "id": "J92fQ0VbIspm",
        "colab": {
          "base_uri": "https://localhost:8080/",
          "height": 547
        },
        "outputId": "cb4030b1-9245-4427-b96e-8fa7a11cf6ac"
      },
      "execution_count": null,
      "outputs": [
        {
          "output_type": "display_data",
          "data": {
            "text/plain": [
              "<Figure size 800x600 with 2 Axes>"
            ],
            "image/png": "[encoded data removed]"
          },
          "metadata": {}
        }
      ]
    },
    {
      "cell_type": "code",
      "source": [
        "#Inference for a singe image text pair\n",
        "from transformers import BertTokenizer\n",
        "import torch\n",
        "\n",
        "# Load the test image\n",
        "test_image_path = '/content/drive/MyDrive/dog.jpg'\n",
        "image = Image.open(test_image_path)\n",
        "image = image_transform(image)\n",
        "image = image.unsqueeze(0)  # Add batch dimension\n",
        "\n",
        "# Prepare the test caption\n",
        "test_caption = \"Dog sit on grass land\"\n",
        "\n",
        "# Tokenize the caption\n",
        "tokenizer = BertTokenizer.from_pretrained(\"bert-base-uncased\")\n",
        "tokenized_statement = tokenizer.encode(test_caption, add_special_tokens=True, padding=\"max_length\", max_length=30, truncation=True, return_tensors=\"pt\")\n",
        "\n",
        "image = image.to(\"cuda:0\")\n",
        "print(image.shape)\n",
        "tokenized_statement = tokenized_statement.to(\"cuda:0\")\n",
        "print(tokenized_statement.shape)\n",
        "# Make predictions for the single image and text token pair\n",
        "with torch.no_grad():\n",
        "    output = image_captioning_model(image, tokenized_statement)\n",
        "\n",
        "# Process and print the results\n",
        "print(output)\n"
      ],
      "metadata": {
        "id": "XeIRPTTN0hsv"
      },
      "execution_count": null,
      "outputs": []
    }
  ]
}